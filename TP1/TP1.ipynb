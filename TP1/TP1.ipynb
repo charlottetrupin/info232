{
 "cells": [
  {
   "cell_type": "markdown",
   "metadata": {},
   "source": [
    "<div>\n",
    "<img src=\"mini-dataset/a1.png\", width=32, ALIGN=\"left\">\n",
    "<center>\n",
    "<h1>Mini Projets 2019-2020 (Info 232)</h1>\n",
    "Isabelle Guyon <br>\n",
    "info232@chalearn.org <br>\n",
    "</center>\n",
    "<span style=\"color:red\"> <h1> 1 . Workflow </h1> </span>\n",
    "    \n",
    "<p> Become a data scientist is one hour: learn about the basic workflow of data science:\n",
    "    <ol>\n",
    "        <li> Visualisation </li>\n",
    "        <li> Metric definition </li>\n",
    "        <li> Baseline results </li>\n",
    "        <li> Error bars </li>\n",
    "    </ol>\n",
    "    </p>\n",
    "</div>\n",
    "<div style=\"background:#FFFFAA\">\n",
    " This TP gives you 5 points if you answer well at least 5 questions. However we encourage you answer all questions: they are meant to give you ideas you can use later in your projects. If you cannot, get help by attending the Wednesday session.\n",
    "    \n",
    "<span style=\"color:red\"> <b>Save your notebook often with menu File + Save and Checkpoint.</b>\n",
    "<br> <b>Before you push your homework to your GitHub repo, use  Kernel + Restart and Run all.</b>\n",
    "</span>\n",
    "    </div>"
   ]
  },
  {
   "cell_type": "code",
   "execution_count": 1,
   "metadata": {},
   "outputs": [],
   "source": [
    "# Load general libraries\n",
    "import os, re\n",
    "from glob import glob as ls\n",
    "from PIL import Image\n",
    "import matplotlib.pyplot as plt\n",
    "%matplotlib inline\n",
    "%load_ext autoreload\n",
    "%autoreload 2\n",
    "\n",
    "### Add path to the sample code so the notebook finds it:\n",
    "code_dir = 'code/'                        \n",
    "from sys import path; path.append(code_dir)\n",
    "#import utilities as ut\n",
    "from utilities import get_image\n",
    "from utilities import get_files\n",
    "# Import code that checks your answers\n",
    "from checker import check \n",
    "# Disable some warnings\n",
    "import warnings\n",
    "warnings.simplefilter(action='ignore', category=FutureWarning) "
   ]
  },
  {
   "cell_type": "markdown",
   "metadata": {},
   "source": [
    "<div style=\"background:#FFFFAA\"> <h1> Step 1: Data visualisation and preprocessing </h1>\n",
    "    </div>\n",
    "    \n",
    "<p>\n",
    "This first par guides you through a example of reading and preprocessing a small image dataset. Read the code below and try to understand it.\n",
    "    </p>"
   ]
  },
  {
   "cell_type": "code",
   "execution_count": 2,
   "metadata": {},
   "outputs": [
    {
     "data": {
      "image/png": "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\n",
      "text/plain": [
       "<matplotlib.figure.Figure at 0x7fb0c5eb8978>"
      ]
     },
     "metadata": {},
     "output_type": "display_data"
    }
   ],
   "source": [
    "data_dir = './mini-dataset'\n",
    "a_files = get_files(data_dir, 'a')\n",
    "b_files = get_files(data_dir, 'b')\n",
    "columns = 10\n",
    "rows = len(a_files+b_files)/columns\n",
    "fig = plt.figure(figsize=(columns, rows))\n",
    "k=1\n",
    "for filename in a_files+b_files:\n",
    "    img = get_image(filename)\n",
    "    fig.add_subplot(rows, columns, k)\n",
    "    plt.imshow(img) \n",
    "    plt.tick_params(axis='both', labelsize=0, length = 0)\n",
    "    plt.grid(b=False)\n",
    "    k=k+1"
   ]
  },
  {
   "cell_type": "markdown",
   "metadata": {},
   "source": [
    "## Feature extraction\n",
    "Data often come already in a feature representation, but not always. As an exercise, we are going to guide you through a simple feature extraction process."
   ]
  },
  {
   "cell_type": "markdown",
   "metadata": {},
   "source": [
    "### Question 1: Load an image\n",
    "\n",
    "1. Create a variable called `apple_example` and assign it the name of the first file in the list `a_files`. \n",
    "2. Create a variable `img` and assign it the corresponding image read from that file using the function `get_image`. \n",
    "\n",
    "`img` is a PIL image. PIL is a nice library to manipulate images, but data scientists often prefer using Numpy arrays. Fortunately it is easy to convert one to the other. \n",
    "\n",
    "3. Create a variable called `M` and assign it a <a href=\"https://docs.scipy.org/doc/numpy/reference/generated/numpy.array.html\">numpy array</a> containing `img` (this is called \"casting\"). Assign to three variables `imw`, `imh`, `nchannels` the dimensions (<a href=\"https://docs.scipy.org/doc/numpy/reference/generated/numpy.ndarray.shape.html\">shape</a>) of `M`. \n",
    "4. Then print `imw`, `imh`, and `nchannels`. \n",
    "\n",
    "You will notice that there are 4 channels, what are those channels? Try to remember or check your class notes.\n",
    "\n",
    "Tip: To answer this kind of question, you need to read the documentation of numpy arrays."
   ]
  },
  {
   "cell_type": "code",
   "execution_count": 3,
   "metadata": {},
   "outputs": [
    {
     "name": "stdout",
     "output_type": "stream",
     "text": [
      "32 32 4\n"
     ]
    },
    {
     "data": {
      "text/html": [
       "<div style=\"background:#00FF00\">CORRECT<br>:-)</div>"
      ],
      "text/plain": [
       "<IPython.core.display.HTML object>"
      ]
     },
     "metadata": {},
     "output_type": "display_data"
    },
    {
     "data": {
      "image/png": "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\n",
      "text/plain": [
       "<matplotlib.figure.Figure at 0x7fb0c59b6a20>"
      ]
     },
     "metadata": {},
     "output_type": "display_data"
    }
   ],
   "source": [
    "\n",
    "\n",
    "### Answer question 1\n",
    "question = 1\n",
    "import numpy as np         # This is needed to import Numpy\n",
    "apple_example = a_files[0]\n",
    "img = get_image(apple_example)\n",
    "M = np.array(img)\n",
    "imw, imh, nchannels = M.shape\n",
    "\n",
    "print(imw, imh, nchannels)\n",
    "plt.imshow(M) # This shows the image as a numpy array\n",
    "\n",
    "# This is the checker code, keep it\n",
    "answer = int.from_bytes(apple_example.encode('utf-8'), \"little\")+imw * imh + nchannels  \n",
    "score = 0\n",
    "score += check(answer, question)\n",
    "\n"
   ]
  },
  {
   "cell_type": "markdown",
   "metadata": {},
   "source": [
    "### Foreground and background colors\n",
    "The variable `white` has the color of pure white and a variable `red`the color of pure red (with transparency set to 255 in both cases).\n",
    "\n",
    "We can examine the colors of the foreground and the background as the channel values of `M[15, 15]`and `M[0, 0]` respectively. Do the color of the foreground and the background match your expectations?"
   ]
  },
  {
   "cell_type": "code",
   "execution_count": 4,
   "metadata": {},
   "outputs": [
    {
     "name": "stdout",
     "output_type": "stream",
     "text": [
      "White = [255, 255, 255, 255]\n",
      "red = [255, 0, 0, 255]\n",
      "Foreground = [251   2   7 255]\n",
      "Background = [255 255 255   0]\n"
     ]
    }
   ],
   "source": [
    "white = [255, 255, 255, 255]\n",
    "red = [255, 0, 0, 255]\n",
    "print(\"White = {}\".format(white))\n",
    "print(\"red = {}\".format(red))\n",
    "print(\"Foreground = {}\".format(M[15, 15]))\n",
    "print(\"Background = {}\".format(M[0, 0]))"
   ]
  },
  {
   "cell_type": "markdown",
   "metadata": {},
   "source": [
    "### Question 2: Separate color channels\n",
    "\n",
    "1. Define three arrays of type `float` named `R`, `G`, and `B`, containing the red, green and blue channels respectively (for all pixels)\n",
    "2. Then define an array `D` (color difference) containing `R-(G+B)/2` \n",
    "3. and an array `V` (value of intensity) containing `(R+G+B)/3`.\n",
    "\n",
    "Important: R, G, and B should be transformed to float to get correct results."
   ]
  },
  {
   "cell_type": "code",
   "execution_count": 5,
   "metadata": {},
   "outputs": [
    {
     "data": {
      "text/html": [
       "<div style=\"background:#00FF00\">CORRECT<br>:-)</div>"
      ],
      "text/plain": [
       "<IPython.core.display.HTML object>"
      ]
     },
     "metadata": {},
     "output_type": "display_data"
    }
   ],
   "source": [
    "\n",
    "\n",
    "### Answer to question 2\n",
    "question = 2\n",
    "R = M[:,:,0].astype(float)\n",
    "G = M[:,:,1].astype(float)  \n",
    "B = M[:,:,2].astype(float)\n",
    "D = R-(G+B)/2\n",
    "V = (R+G+B)/3 \n",
    "\n",
    "# This is the checker code, keep it\n",
    "answer = np.sum(np.diag(D+V))\n",
    "score += check(answer, question)\n",
    "\n"
   ]
  },
  {
   "cell_type": "markdown",
   "metadata": {},
   "source": [
    "### Question 3: Extraction of the `redness` feature\n",
    "\n",
    "1. Create a variable `redness` containing the average (mean) of `D` for the foreground pixels.\n",
    "\n",
    "Hint: The can be done by selecting the foreground pixels, i.e. those that are not `255` (white). You can do that with just one <a href=\"https://www.pythonlikeyoumeanit.com/Module3_IntroducingNumpy/BasicIndexing.html\"> advanced indexing</a> command.\n",
    "\n",
    "2. Check that your definition of redness matches `fg_r - (fg_g + fg_b)/2`. \n",
    "3. As a side question: try to define `whiteness = bg_r - (bg_g + bg_b)/2`. \n",
    "    1. Why do you get an error? \n",
    "    2. Why did you get no error for `fg_r - (fg_g + fg_b)/2`? \n",
    "    3. How can you do this \"right\"? Hint: rgb channels are defined as `integers`."
   ]
  },
  {
   "cell_type": "code",
   "execution_count": 6,
   "metadata": {},
   "outputs": [
    {
     "name": "stdout",
     "output_type": "stream",
     "text": [
      "246.5\n"
     ]
    },
    {
     "data": {
      "text/html": [
       "<div style=\"background:#00FF00\">CORRECT<br>:-)</div>"
      ],
      "text/plain": [
       "<IPython.core.display.HTML object>"
      ]
     },
     "metadata": {},
     "output_type": "display_data"
    }
   ],
   "source": [
    "\n",
    "\n",
    "### Answer to question 3\n",
    "question = 3\n",
    "redness = D[V!=255].mean()\n",
    "\n",
    "print(redness)\n",
    "# This checks the correctness of your answer\n",
    "fg_r, fg_g, fg_b, fg_a = M[15, 15]\n",
    "assert(redness == fg_r - (fg_g + fg_b)/2)\n",
    "bg_r, bg_g, bg_b, bg_a = M[0, 0]\n",
    "# Uncomment this to see that you get an error\n",
    "#whiteness = bg_r - (bg_g + bg_b)/2\n",
    "\n",
    "# This is the checker code, keep it\n",
    "answer = redness\n",
    "score += check(answer, question)\n",
    "\n"
   ]
  },
  {
   "cell_type": "markdown",
   "metadata": {},
   "source": [
    "### Question 4: Extraction of the `elongation` feature\n",
    "\n",
    "1. Create two mean vectors `V0` and `V1` by averaging (taking the mean) of `V` along axis 0 and axis 1 respectively. \n",
    "2. Then use this line of code `V0_idx = [i for i in range(imw) if V0[i]!=255]` to get the indices of the values that are not white along axis 0 (horizontal). \n",
    "3. Similarly write code to extract `V1_idx` (pixels not white along axis 2, vertical).\n",
    "4. Extract from those information on the witdth `w` and the height `h` of the apple. \n",
    "5. Visually check that the width and height are correct. Finally compute the `elongation` variable (aspect ratio) as `w/h`."
   ]
  },
  {
   "cell_type": "code",
   "execution_count": 7,
   "metadata": {},
   "outputs": [
    {
     "name": "stdout",
     "output_type": "stream",
     "text": [
      "21 24 0.875\n"
     ]
    },
    {
     "data": {
      "text/html": [
       "<div style=\"background:#00FF00\">CORRECT<br>:-)</div>"
      ],
      "text/plain": [
       "<IPython.core.display.HTML object>"
      ]
     },
     "metadata": {},
     "output_type": "display_data"
    }
   ],
   "source": [
    "### Answer to question 4\n",
    "question = 4\n",
    "\n",
    "V0 = np.mean(V,0)\n",
    "V1 = np.mean(V,1)\n",
    "V0_idx = [i for i in range(imw) if V0[i]!=255]\n",
    "V1_idx = [i for i in range(imh) if V1[i]!=255]\n",
    "w = len(V0_idx)\n",
    "h = len(V1_idx)\n",
    "elongation = w/h\n",
    "print(w, h, elongation)\n",
    "\n",
    "# This is the checker code, keep it\n",
    "answer = w+h-elongation\n",
    "score += check(answer, question)"
   ]
  },
  {
   "cell_type": "markdown",
   "metadata": {},
   "source": [
    "### Question 5: Function `extract_features`\n",
    "\n",
    "1. Write a function with `M` as an input argument and that takes all the steps we walked you through, then returns `redness` and `elongation` as a list. You will use the following template:\n",
    "\n",
    "```python\n",
    "def extract_features(M, verbose = True):\n",
    "# Put your code here.\n",
    "# verbose is just a flag you can use to comment out print statements needed to debug your code\n",
    "return [redness, elongation]\n",
    "```"
   ]
  },
  {
   "cell_type": "code",
   "execution_count": 8,
   "metadata": {},
   "outputs": [],
   "source": [
    "### Answer to question 5\n",
    "question = 5\n",
    "\n",
    "def extract_features(M, verbose = True):\n",
    "    R = 1.*M[:,:,0]; G = 1.*M[:,:,1]; B = 1.*M[:,:,2]\n",
    "    D = R-(G+B)/2\n",
    "    V = (R+G+B)/3\n",
    "    imw,imh = V.shape\n",
    "    redness = np.mean(D[V!=0])\n",
    "    V0 = np.mean(V, axis = 0)\n",
    "    V1 = np.mean(V,axis = 1)\n",
    "    V0_idx = [i for i in range(imw) if V0[i]!=255]\n",
    "    V1_idx = [i for i in range(imh) if V1[i]!=255]\n",
    "    w = max(V0_idx)-min(V0_idx)\n",
    "    h = max(V1_idx)-min(V1_idx)\n",
    "    elongation = w/h\n",
    "    return [redness, elongation]"
   ]
  },
  {
   "cell_type": "markdown",
   "metadata": {},
   "source": [
    "## Preprocess and visualize all the data\n",
    "To go a little bit faster, we give you the code to preprocess all the dataset in the next few cells. Check that you understand it."
   ]
  },
  {
   "cell_type": "code",
   "execution_count": 9,
   "metadata": {},
   "outputs": [
    {
     "data": {
      "text/html": [
       "<div style=\"background:#00FF00\">CORRECT<br>:-)</div>"
      ],
      "text/plain": [
       "<IPython.core.display.HTML object>"
      ]
     },
     "metadata": {},
     "output_type": "display_data"
    }
   ],
   "source": [
    "# Create a big data matrix with all a_files and b_files\n",
    "verbose = False\n",
    "n = len(a_files)\n",
    "_X = np.zeros([2*n, 2])\n",
    "Y = np.zeros([2*n, 1])\n",
    "\n",
    "# Read and convert a_files\n",
    "for i in range(n):\n",
    "    if verbose: print(a_files[i])\n",
    "    img = get_image(a_files[i])\n",
    "    M = np.array(img)\n",
    "    _X[i, :] = extract_features(M, verbose)\n",
    "    Y[i] = 1 # Apples are labeled 1\n",
    "\n",
    "# Read and convert b_files\n",
    "for i in range(n):\n",
    "    if verbose: print(b_files[i])\n",
    "    img = get_image(b_files[i])\n",
    "    M = np.array(img)\n",
    "    _X[n+i, :] = extract_features(M, verbose)\n",
    "    Y[n+i] = -1 # Bananas are labeled -1\n",
    "\n",
    "# This is the checker code for question 5, keep it\n",
    "answer = np.sum(_X[1,:])+ np.sum(_X[-1,:])\n",
    "score += check(answer, question)"
   ]
  },
  {
   "cell_type": "markdown",
   "metadata": {},
   "source": [
    "## Pandas data frames, heatmaps, and pairplot\n",
    "We already used Pandas dataframes in TP1. Data scientists like them too. Fortunately it is easy to move back and forth from Numpy arrays to Pandas dataframes. Pandas allows you to easily show arrays as heat maps.\n",
    "\n",
    "Sometimes datasets are large. You can create a heat map from the top row of your data frame with a command like `_XY.head().style.background_gradient(cmap='Blues')`. Try it!"
   ]
  },
  {
   "cell_type": "code",
   "execution_count": 10,
   "metadata": {
    "scrolled": false
   },
   "outputs": [
    {
     "data": {
      "text/html": [
       "<style  type=\"text/css\" >\n",
<<<<<<< HEAD
       "    #T_af8d4266_3eb8_11ea_a146_d89ef3129698row0_col0 {\n",
       "            background-color:  #08306b;\n",
       "            color:  #f1f1f1;\n",
       "        }    #T_af8d4266_3eb8_11ea_a146_d89ef3129698row0_col1 {\n",
       "            background-color:  #f7fbff;\n",
       "            color:  #000000;\n",
       "        }    #T_af8d4266_3eb8_11ea_a146_d89ef3129698row0_col2 {\n",
       "            background-color:  #08306b;\n",
       "            color:  #f1f1f1;\n",
       "        }    #T_af8d4266_3eb8_11ea_a146_d89ef3129698row1_col0 {\n",
       "            background-color:  #549fcd;\n",
       "            color:  #000000;\n",
       "        }    #T_af8d4266_3eb8_11ea_a146_d89ef3129698row1_col1 {\n",
       "            background-color:  #e3eef9;\n",
       "            color:  #000000;\n",
       "        }    #T_af8d4266_3eb8_11ea_a146_d89ef3129698row1_col2 {\n",
       "            background-color:  #08306b;\n",
       "            color:  #f1f1f1;\n",
       "        }    #T_af8d4266_3eb8_11ea_a146_d89ef3129698row2_col0 {\n",
       "            background-color:  #8abfdd;\n",
       "            color:  #000000;\n",
       "        }    #T_af8d4266_3eb8_11ea_a146_d89ef3129698row2_col1 {\n",
       "            background-color:  #e3eef9;\n",
       "            color:  #000000;\n",
       "        }    #T_af8d4266_3eb8_11ea_a146_d89ef3129698row2_col2 {\n",
       "            background-color:  #08306b;\n",
       "            color:  #f1f1f1;\n",
       "        }    #T_af8d4266_3eb8_11ea_a146_d89ef3129698row3_col0 {\n",
       "            background-color:  #89bedc;\n",
       "            color:  #000000;\n",
       "        }    #T_af8d4266_3eb8_11ea_a146_d89ef3129698row3_col1 {\n",
       "            background-color:  #d8e7f5;\n",
       "            color:  #000000;\n",
       "        }    #T_af8d4266_3eb8_11ea_a146_d89ef3129698row3_col2 {\n",
       "            background-color:  #08306b;\n",
       "            color:  #f1f1f1;\n",
       "        }    #T_af8d4266_3eb8_11ea_a146_d89ef3129698row4_col0 {\n",
       "            background-color:  #a4cce3;\n",
       "            color:  #000000;\n",
       "        }    #T_af8d4266_3eb8_11ea_a146_d89ef3129698row4_col1 {\n",
       "            background-color:  #f5f9fe;\n",
       "            color:  #000000;\n",
       "        }    #T_af8d4266_3eb8_11ea_a146_d89ef3129698row4_col2 {\n",
       "            background-color:  #08306b;\n",
       "            color:  #f1f1f1;\n",
       "        }    #T_af8d4266_3eb8_11ea_a146_d89ef3129698row5_col0 {\n",
       "            background-color:  #74b3d8;\n",
       "            color:  #000000;\n",
       "        }    #T_af8d4266_3eb8_11ea_a146_d89ef3129698row5_col1 {\n",
       "            background-color:  #f4f9fe;\n",
       "            color:  #000000;\n",
       "        }    #T_af8d4266_3eb8_11ea_a146_d89ef3129698row5_col2 {\n",
       "            background-color:  #08306b;\n",
       "            color:  #f1f1f1;\n",
       "        }    #T_af8d4266_3eb8_11ea_a146_d89ef3129698row6_col0 {\n",
       "            background-color:  #cde0f1;\n",
       "            color:  #000000;\n",
       "        }    #T_af8d4266_3eb8_11ea_a146_d89ef3129698row6_col1 {\n",
       "            background-color:  #d9e7f5;\n",
       "            color:  #000000;\n",
       "        }    #T_af8d4266_3eb8_11ea_a146_d89ef3129698row6_col2 {\n",
       "            background-color:  #08306b;\n",
       "            color:  #f1f1f1;\n",
       "        }    #T_af8d4266_3eb8_11ea_a146_d89ef3129698row7_col0 {\n",
       "            background-color:  #95c5df;\n",
       "            color:  #000000;\n",
       "        }    #T_af8d4266_3eb8_11ea_a146_d89ef3129698row7_col1 {\n",
       "            background-color:  #d8e7f5;\n",
       "            color:  #000000;\n",
       "        }    #T_af8d4266_3eb8_11ea_a146_d89ef3129698row7_col2 {\n",
       "            background-color:  #08306b;\n",
       "            color:  #f1f1f1;\n",
       "        }    #T_af8d4266_3eb8_11ea_a146_d89ef3129698row8_col0 {\n",
       "            background-color:  #92c4de;\n",
       "            color:  #000000;\n",
       "        }    #T_af8d4266_3eb8_11ea_a146_d89ef3129698row8_col1 {\n",
       "            background-color:  #caddf0;\n",
       "            color:  #000000;\n",
       "        }    #T_af8d4266_3eb8_11ea_a146_d89ef3129698row8_col2 {\n",
       "            background-color:  #08306b;\n",
       "            color:  #f1f1f1;\n",
       "        }    #T_af8d4266_3eb8_11ea_a146_d89ef3129698row9_col0 {\n",
       "            background-color:  #5ca4d0;\n",
       "            color:  #000000;\n",
       "        }    #T_af8d4266_3eb8_11ea_a146_d89ef3129698row9_col1 {\n",
       "            background-color:  #d9e8f5;\n",
       "            color:  #000000;\n",
       "        }    #T_af8d4266_3eb8_11ea_a146_d89ef3129698row9_col2 {\n",
       "            background-color:  #08306b;\n",
       "            color:  #f1f1f1;\n",
       "        }    #T_af8d4266_3eb8_11ea_a146_d89ef3129698row10_col0 {\n",
       "            background-color:  #abd0e6;\n",
       "            color:  #000000;\n",
       "        }    #T_af8d4266_3eb8_11ea_a146_d89ef3129698row10_col1 {\n",
       "            background-color:  #08306b;\n",
       "            color:  #f1f1f1;\n",
       "        }    #T_af8d4266_3eb8_11ea_a146_d89ef3129698row10_col2 {\n",
       "            background-color:  #f7fbff;\n",
       "            color:  #000000;\n",
       "        }    #T_af8d4266_3eb8_11ea_a146_d89ef3129698row11_col0 {\n",
       "            background-color:  #c4daee;\n",
       "            color:  #000000;\n",
       "        }    #T_af8d4266_3eb8_11ea_a146_d89ef3129698row11_col1 {\n",
       "            background-color:  #f2f8fd;\n",
       "            color:  #000000;\n",
       "        }    #T_af8d4266_3eb8_11ea_a146_d89ef3129698row11_col2 {\n",
       "            background-color:  #f7fbff;\n",
       "            color:  #000000;\n",
       "        }    #T_af8d4266_3eb8_11ea_a146_d89ef3129698row12_col0 {\n",
       "            background-color:  #ddeaf7;\n",
       "            color:  #000000;\n",
       "        }    #T_af8d4266_3eb8_11ea_a146_d89ef3129698row12_col1 {\n",
       "            background-color:  #3686c0;\n",
       "            color:  #000000;\n",
       "        }    #T_af8d4266_3eb8_11ea_a146_d89ef3129698row12_col2 {\n",
       "            background-color:  #f7fbff;\n",
       "            color:  #000000;\n",
       "        }    #T_af8d4266_3eb8_11ea_a146_d89ef3129698row13_col0 {\n",
       "            background-color:  #a8cee4;\n",
       "            color:  #000000;\n",
       "        }    #T_af8d4266_3eb8_11ea_a146_d89ef3129698row13_col1 {\n",
       "            background-color:  #0a549e;\n",
       "            color:  #f1f1f1;\n",
       "        }    #T_af8d4266_3eb8_11ea_a146_d89ef3129698row13_col2 {\n",
       "            background-color:  #f7fbff;\n",
       "            color:  #000000;\n",
       "        }    #T_af8d4266_3eb8_11ea_a146_d89ef3129698row14_col0 {\n",
       "            background-color:  #f1f7fd;\n",
       "            color:  #000000;\n",
       "        }    #T_af8d4266_3eb8_11ea_a146_d89ef3129698row14_col1 {\n",
       "            background-color:  #3d8dc4;\n",
       "            color:  #000000;\n",
       "        }    #T_af8d4266_3eb8_11ea_a146_d89ef3129698row14_col2 {\n",
       "            background-color:  #f7fbff;\n",
       "            color:  #000000;\n",
       "        }    #T_af8d4266_3eb8_11ea_a146_d89ef3129698row15_col0 {\n",
       "            background-color:  #c9ddf0;\n",
       "            color:  #000000;\n",
       "        }    #T_af8d4266_3eb8_11ea_a146_d89ef3129698row15_col1 {\n",
       "            background-color:  #1c6ab0;\n",
       "            color:  #f1f1f1;\n",
       "        }    #T_af8d4266_3eb8_11ea_a146_d89ef3129698row15_col2 {\n",
       "            background-color:  #f7fbff;\n",
       "            color:  #000000;\n",
       "        }    #T_af8d4266_3eb8_11ea_a146_d89ef3129698row16_col0 {\n",
       "            background-color:  #b0d2e7;\n",
       "            color:  #000000;\n",
       "        }    #T_af8d4266_3eb8_11ea_a146_d89ef3129698row16_col1 {\n",
       "            background-color:  #2474b7;\n",
       "            color:  #f1f1f1;\n",
       "        }    #T_af8d4266_3eb8_11ea_a146_d89ef3129698row16_col2 {\n",
       "            background-color:  #f7fbff;\n",
       "            color:  #000000;\n",
       "        }    #T_af8d4266_3eb8_11ea_a146_d89ef3129698row17_col0 {\n",
       "            background-color:  #f7fbff;\n",
       "            color:  #000000;\n",
       "        }    #T_af8d4266_3eb8_11ea_a146_d89ef3129698row17_col1 {\n",
       "            background-color:  #9ac8e0;\n",
       "            color:  #000000;\n",
       "        }    #T_af8d4266_3eb8_11ea_a146_d89ef3129698row17_col2 {\n",
       "            background-color:  #f7fbff;\n",
       "            color:  #000000;\n",
       "        }    #T_af8d4266_3eb8_11ea_a146_d89ef3129698row18_col0 {\n",
       "            background-color:  #c1d9ed;\n",
       "            color:  #000000;\n",
       "        }    #T_af8d4266_3eb8_11ea_a146_d89ef3129698row18_col1 {\n",
       "            background-color:  #3686c0;\n",
       "            color:  #000000;\n",
       "        }    #T_af8d4266_3eb8_11ea_a146_d89ef3129698row18_col2 {\n",
       "            background-color:  #f7fbff;\n",
       "            color:  #000000;\n",
       "        }    #T_af8d4266_3eb8_11ea_a146_d89ef3129698row19_col0 {\n",
       "            background-color:  #cde0f1;\n",
       "            color:  #000000;\n",
       "        }    #T_af8d4266_3eb8_11ea_a146_d89ef3129698row19_col1 {\n",
       "            background-color:  #b7d4ea;\n",
       "            color:  #000000;\n",
       "        }    #T_af8d4266_3eb8_11ea_a146_d89ef3129698row19_col2 {\n",
       "            background-color:  #f7fbff;\n",
       "            color:  #000000;\n",
       "        }</style><table id=\"T_af8d4266_3eb8_11ea_a146_d89ef3129698\" ><thead>    <tr>        <th class=\"blank level0\" ></th>        <th class=\"col_heading level0 col0\" >redness</th>        <th class=\"col_heading level0 col1\" >elongation</th>        <th class=\"col_heading level0 col2\" >fruit</th>    </tr></thead><tbody>\n",
       "                <tr>\n",
       "                        <th id=\"T_af8d4266_3eb8_11ea_a146_d89ef3129698level0_row0\" class=\"row_heading level0 row0\" >0</th>\n",
       "                        <td id=\"T_af8d4266_3eb8_11ea_a146_d89ef3129698row0_col0\" class=\"data row0 col0\" >84.0122</td>\n",
       "                        <td id=\"T_af8d4266_3eb8_11ea_a146_d89ef3129698row0_col1\" class=\"data row0 col1\" >0.869565</td>\n",
       "                        <td id=\"T_af8d4266_3eb8_11ea_a146_d89ef3129698row0_col2\" class=\"data row0 col2\" >1</td>\n",
       "            </tr>\n",
       "            <tr>\n",
       "                        <th id=\"T_af8d4266_3eb8_11ea_a146_d89ef3129698level0_row1\" class=\"row_heading level0 row1\" >1</th>\n",
       "                        <td id=\"T_af8d4266_3eb8_11ea_a146_d89ef3129698row1_col0\" class=\"data row1 col0\" >37.7764</td>\n",
       "                        <td id=\"T_af8d4266_3eb8_11ea_a146_d89ef3129698row1_col1\" class=\"data row1 col1\" >1</td>\n",
       "                        <td id=\"T_af8d4266_3eb8_11ea_a146_d89ef3129698row1_col2\" class=\"data row1 col2\" >1</td>\n",
       "            </tr>\n",
       "            <tr>\n",
       "                        <th id=\"T_af8d4266_3eb8_11ea_a146_d89ef3129698level0_row2\" class=\"row_heading level0 row2\" >2</th>\n",
       "                        <td id=\"T_af8d4266_3eb8_11ea_a146_d89ef3129698row2_col0\" class=\"data row2 col0\" >21.8604</td>\n",
       "                        <td id=\"T_af8d4266_3eb8_11ea_a146_d89ef3129698row2_col1\" class=\"data row2 col1\" >1</td>\n",
       "                        <td id=\"T_af8d4266_3eb8_11ea_a146_d89ef3129698row2_col2\" class=\"data row2 col2\" >1</td>\n",
       "            </tr>\n",
       "            <tr>\n",
       "                        <th id=\"T_af8d4266_3eb8_11ea_a146_d89ef3129698level0_row3\" class=\"row_heading level0 row3\" >3</th>\n",
       "                        <td id=\"T_af8d4266_3eb8_11ea_a146_d89ef3129698row3_col0\" class=\"data row3 col0\" >22.5586</td>\n",
       "                        <td id=\"T_af8d4266_3eb8_11ea_a146_d89ef3129698row3_col1\" class=\"data row3 col1\" >1.07692</td>\n",
       "                        <td id=\"T_af8d4266_3eb8_11ea_a146_d89ef3129698row3_col2\" class=\"data row3 col2\" >1</td>\n",
       "            </tr>\n",
       "            <tr>\n",
       "                        <th id=\"T_af8d4266_3eb8_11ea_a146_d89ef3129698level0_row4\" class=\"row_heading level0 row4\" >4</th>\n",
       "                        <td id=\"T_af8d4266_3eb8_11ea_a146_d89ef3129698row4_col0\" class=\"data row4 col0\" >14.9414</td>\n",
       "                        <td id=\"T_af8d4266_3eb8_11ea_a146_d89ef3129698row4_col1\" class=\"data row4 col1\" >0.888889</td>\n",
       "                        <td id=\"T_af8d4266_3eb8_11ea_a146_d89ef3129698row4_col2\" class=\"data row4 col2\" >1</td>\n",
       "            </tr>\n",
       "            <tr>\n",
       "                        <th id=\"T_af8d4266_3eb8_11ea_a146_d89ef3129698level0_row5\" class=\"row_heading level0 row5\" >5</th>\n",
       "                        <td id=\"T_af8d4266_3eb8_11ea_a146_d89ef3129698row5_col0\" class=\"data row5 col0\" >27.9932</td>\n",
       "                        <td id=\"T_af8d4266_3eb8_11ea_a146_d89ef3129698row5_col1\" class=\"data row5 col1\" >0.894737</td>\n",
       "                        <td id=\"T_af8d4266_3eb8_11ea_a146_d89ef3129698row5_col2\" class=\"data row5 col2\" >1</td>\n",
       "            </tr>\n",
       "            <tr>\n",
       "                        <th id=\"T_af8d4266_3eb8_11ea_a146_d89ef3129698level0_row6\" class=\"row_heading level0 row6\" >6</th>\n",
       "                        <td id=\"T_af8d4266_3eb8_11ea_a146_d89ef3129698row6_col0\" class=\"data row6 col0\" >-0.563965</td>\n",
       "                        <td id=\"T_af8d4266_3eb8_11ea_a146_d89ef3129698row6_col1\" class=\"data row6 col1\" >1.07143</td>\n",
       "                        <td id=\"T_af8d4266_3eb8_11ea_a146_d89ef3129698row6_col2\" class=\"data row6 col2\" >1</td>\n",
       "            </tr>\n",
       "            <tr>\n",
       "                        <th id=\"T_af8d4266_3eb8_11ea_a146_d89ef3129698level0_row7\" class=\"row_heading level0 row7\" >7</th>\n",
       "                        <td id=\"T_af8d4266_3eb8_11ea_a146_d89ef3129698row7_col0\" class=\"data row7 col0\" >18.9756</td>\n",
       "                        <td id=\"T_af8d4266_3eb8_11ea_a146_d89ef3129698row7_col1\" class=\"data row7 col1\" >1.07692</td>\n",
       "                        <td id=\"T_af8d4266_3eb8_11ea_a146_d89ef3129698row7_col2\" class=\"data row7 col2\" >1</td>\n",
       "            </tr>\n",
       "            <tr>\n",
       "                        <th id=\"T_af8d4266_3eb8_11ea_a146_d89ef3129698level0_row8\" class=\"row_heading level0 row8\" >8</th>\n",
       "                        <td id=\"T_af8d4266_3eb8_11ea_a146_d89ef3129698row8_col0\" class=\"data row8 col0\" >20.0259</td>\n",
       "                        <td id=\"T_af8d4266_3eb8_11ea_a146_d89ef3129698row8_col1\" class=\"data row8 col1\" >1.17647</td>\n",
       "                        <td id=\"T_af8d4266_3eb8_11ea_a146_d89ef3129698row8_col2\" class=\"data row8 col2\" >1</td>\n",
       "            </tr>\n",
       "            <tr>\n",
       "                        <th id=\"T_af8d4266_3eb8_11ea_a146_d89ef3129698level0_row9\" class=\"row_heading level0 row9\" >9</th>\n",
       "                        <td id=\"T_af8d4266_3eb8_11ea_a146_d89ef3129698row9_col0\" class=\"data row9 col0\" >35.0566</td>\n",
       "                        <td id=\"T_af8d4266_3eb8_11ea_a146_d89ef3129698row9_col1\" class=\"data row9 col1\" >1.06667</td>\n",
       "                        <td id=\"T_af8d4266_3eb8_11ea_a146_d89ef3129698row9_col2\" class=\"data row9 col2\" >1</td>\n",
       "            </tr>\n",
       "            <tr>\n",
       "                        <th id=\"T_af8d4266_3eb8_11ea_a146_d89ef3129698level0_row10\" class=\"row_heading level0 row10\" >10</th>\n",
       "                        <td id=\"T_af8d4266_3eb8_11ea_a146_d89ef3129698row10_col0\" class=\"data row10 col0\" >12.3291</td>\n",
       "                        <td id=\"T_af8d4266_3eb8_11ea_a146_d89ef3129698row10_col1\" class=\"data row10 col1\" >2.18182</td>\n",
       "                        <td id=\"T_af8d4266_3eb8_11ea_a146_d89ef3129698row10_col2\" class=\"data row10 col2\" >-1</td>\n",
       "            </tr>\n",
       "            <tr>\n",
       "                        <th id=\"T_af8d4266_3eb8_11ea_a146_d89ef3129698level0_row11\" class=\"row_heading level0 row11\" >11</th>\n",
       "                        <td id=\"T_af8d4266_3eb8_11ea_a146_d89ef3129698row11_col0\" class=\"data row11 col0\" >4.10889</td>\n",
       "                        <td id=\"T_af8d4266_3eb8_11ea_a146_d89ef3129698row11_col1\" class=\"data row11 col1\" >0.904762</td>\n",
       "                        <td id=\"T_af8d4266_3eb8_11ea_a146_d89ef3129698row11_col2\" class=\"data row11 col2\" >-1</td>\n",
       "            </tr>\n",
       "            <tr>\n",
       "                        <th id=\"T_af8d4266_3eb8_11ea_a146_d89ef3129698level0_row12\" class=\"row_heading level0 row12\" >12</th>\n",
       "                        <td id=\"T_af8d4266_3eb8_11ea_a146_d89ef3129698row12_col0\" class=\"data row12 col0\" >-9.48779</td>\n",
       "                        <td id=\"T_af8d4266_3eb8_11ea_a146_d89ef3129698row12_col1\" class=\"data row12 col1\" >1.75</td>\n",
       "                        <td id=\"T_af8d4266_3eb8_11ea_a146_d89ef3129698row12_col2\" class=\"data row12 col2\" >-1</td>\n",
       "            </tr>\n",
       "            <tr>\n",
       "                        <th id=\"T_af8d4266_3eb8_11ea_a146_d89ef3129698level0_row13\" class=\"row_heading level0 row13\" >13</th>\n",
       "                        <td id=\"T_af8d4266_3eb8_11ea_a146_d89ef3129698row13_col0\" class=\"data row13 col0\" >13.7573</td>\n",
       "                        <td id=\"T_af8d4266_3eb8_11ea_a146_d89ef3129698row13_col1\" class=\"data row13 col1\" >2</td>\n",
       "                        <td id=\"T_af8d4266_3eb8_11ea_a146_d89ef3129698row13_col2\" class=\"data row13 col2\" >-1</td>\n",
       "            </tr>\n",
       "            <tr>\n",
       "                        <th id=\"T_af8d4266_3eb8_11ea_a146_d89ef3129698level0_row14\" class=\"row_heading level0 row14\" >14</th>\n",
       "                        <td id=\"T_af8d4266_3eb8_11ea_a146_d89ef3129698row14_col0\" class=\"data row14 col0\" >-20.1221</td>\n",
       "                        <td id=\"T_af8d4266_3eb8_11ea_a146_d89ef3129698row14_col1\" class=\"data row14 col1\" >1.71429</td>\n",
       "                        <td id=\"T_af8d4266_3eb8_11ea_a146_d89ef3129698row14_col2\" class=\"data row14 col2\" >-1</td>\n",
       "            </tr>\n",
       "            <tr>\n",
       "                        <th id=\"T_af8d4266_3eb8_11ea_a146_d89ef3129698level0_row15\" class=\"row_heading level0 row15\" >15</th>\n",
       "                        <td id=\"T_af8d4266_3eb8_11ea_a146_d89ef3129698row15_col0\" class=\"data row15 col0\" >1.89258</td>\n",
       "                        <td id=\"T_af8d4266_3eb8_11ea_a146_d89ef3129698row15_col1\" class=\"data row15 col1\" >1.88889</td>\n",
       "                        <td id=\"T_af8d4266_3eb8_11ea_a146_d89ef3129698row15_col2\" class=\"data row15 col2\" >-1</td>\n",
       "            </tr>\n",
       "            <tr>\n",
       "                        <th id=\"T_af8d4266_3eb8_11ea_a146_d89ef3129698level0_row16\" class=\"row_heading level0 row16\" >16</th>\n",
       "                        <td id=\"T_af8d4266_3eb8_11ea_a146_d89ef3129698row16_col0\" class=\"data row16 col0\" >10.7578</td>\n",
       "                        <td id=\"T_af8d4266_3eb8_11ea_a146_d89ef3129698row16_col1\" class=\"data row16 col1\" >1.83333</td>\n",
       "                        <td id=\"T_af8d4266_3eb8_11ea_a146_d89ef3129698row16_col2\" class=\"data row16 col2\" >-1</td>\n",
       "            </tr>\n",
       "            <tr>\n",
       "                        <th id=\"T_af8d4266_3eb8_11ea_a146_d89ef3129698level0_row17\" class=\"row_heading level0 row17\" >17</th>\n",
       "                        <td id=\"T_af8d4266_3eb8_11ea_a146_d89ef3129698row17_col0\" class=\"data row17 col0\" >-23.5273</td>\n",
       "                        <td id=\"T_af8d4266_3eb8_11ea_a146_d89ef3129698row17_col1\" class=\"data row17 col1\" >1.375</td>\n",
       "                        <td id=\"T_af8d4266_3eb8_11ea_a146_d89ef3129698row17_col2\" class=\"data row17 col2\" >-1</td>\n",
       "            </tr>\n",
       "            <tr>\n",
       "                        <th id=\"T_af8d4266_3eb8_11ea_a146_d89ef3129698level0_row18\" class=\"row_heading level0 row18\" >18</th>\n",
       "                        <td id=\"T_af8d4266_3eb8_11ea_a146_d89ef3129698row18_col0\" class=\"data row18 col0\" >5.44922</td>\n",
       "                        <td id=\"T_af8d4266_3eb8_11ea_a146_d89ef3129698row18_col1\" class=\"data row18 col1\" >1.75</td>\n",
       "                        <td id=\"T_af8d4266_3eb8_11ea_a146_d89ef3129698row18_col2\" class=\"data row18 col2\" >-1</td>\n",
       "            </tr>\n",
       "            <tr>\n",
       "                        <th id=\"T_af8d4266_3eb8_11ea_a146_d89ef3129698level0_row19\" class=\"row_heading level0 row19\" >19</th>\n",
       "                        <td id=\"T_af8d4266_3eb8_11ea_a146_d89ef3129698row19_col0\" class=\"data row19 col0\" >-0.505859</td>\n",
       "                        <td id=\"T_af8d4266_3eb8_11ea_a146_d89ef3129698row19_col1\" class=\"data row19 col1\" >1.26316</td>\n",
       "                        <td id=\"T_af8d4266_3eb8_11ea_a146_d89ef3129698row19_col2\" class=\"data row19 col2\" >-1</td>\n",
       "            </tr>\n",
       "    </tbody></table>"
      ],
      "text/plain": [
       "<pandas.io.formats.style.Styler at 0x7f466d98d438>"
=======
       "    #T_1309619a_3f94_11ea_a64b_1063c89610e1row0_col0 {\n",
       "            background-color:  #08306b;\n",
       "        }    #T_1309619a_3f94_11ea_a64b_1063c89610e1row0_col1 {\n",
       "            background-color:  #f7fbff;\n",
       "        }    #T_1309619a_3f94_11ea_a64b_1063c89610e1row0_col2 {\n",
       "            background-color:  #08306b;\n",
       "        }    #T_1309619a_3f94_11ea_a64b_1063c89610e1row1_col0 {\n",
       "            background-color:  #549fcd;\n",
       "        }    #T_1309619a_3f94_11ea_a64b_1063c89610e1row1_col1 {\n",
       "            background-color:  #e3eef9;\n",
       "        }    #T_1309619a_3f94_11ea_a64b_1063c89610e1row1_col2 {\n",
       "            background-color:  #08306b;\n",
       "        }    #T_1309619a_3f94_11ea_a64b_1063c89610e1row2_col0 {\n",
       "            background-color:  #8abfdd;\n",
       "        }    #T_1309619a_3f94_11ea_a64b_1063c89610e1row2_col1 {\n",
       "            background-color:  #e3eef9;\n",
       "        }    #T_1309619a_3f94_11ea_a64b_1063c89610e1row2_col2 {\n",
       "            background-color:  #08306b;\n",
       "        }    #T_1309619a_3f94_11ea_a64b_1063c89610e1row3_col0 {\n",
       "            background-color:  #89bedc;\n",
       "        }    #T_1309619a_3f94_11ea_a64b_1063c89610e1row3_col1 {\n",
       "            background-color:  #d8e7f5;\n",
       "        }    #T_1309619a_3f94_11ea_a64b_1063c89610e1row3_col2 {\n",
       "            background-color:  #08306b;\n",
       "        }    #T_1309619a_3f94_11ea_a64b_1063c89610e1row4_col0 {\n",
       "            background-color:  #a4cce3;\n",
       "        }    #T_1309619a_3f94_11ea_a64b_1063c89610e1row4_col1 {\n",
       "            background-color:  #f5f9fe;\n",
       "        }    #T_1309619a_3f94_11ea_a64b_1063c89610e1row4_col2 {\n",
       "            background-color:  #08306b;\n",
       "        }    #T_1309619a_3f94_11ea_a64b_1063c89610e1row5_col0 {\n",
       "            background-color:  #74b3d8;\n",
       "        }    #T_1309619a_3f94_11ea_a64b_1063c89610e1row5_col1 {\n",
       "            background-color:  #f4f9fe;\n",
       "        }    #T_1309619a_3f94_11ea_a64b_1063c89610e1row5_col2 {\n",
       "            background-color:  #08306b;\n",
       "        }    #T_1309619a_3f94_11ea_a64b_1063c89610e1row6_col0 {\n",
       "            background-color:  #cde0f1;\n",
       "        }    #T_1309619a_3f94_11ea_a64b_1063c89610e1row6_col1 {\n",
       "            background-color:  #d9e7f5;\n",
       "        }    #T_1309619a_3f94_11ea_a64b_1063c89610e1row6_col2 {\n",
       "            background-color:  #08306b;\n",
       "        }    #T_1309619a_3f94_11ea_a64b_1063c89610e1row7_col0 {\n",
       "            background-color:  #95c5df;\n",
       "        }    #T_1309619a_3f94_11ea_a64b_1063c89610e1row7_col1 {\n",
       "            background-color:  #d8e7f5;\n",
       "        }    #T_1309619a_3f94_11ea_a64b_1063c89610e1row7_col2 {\n",
       "            background-color:  #08306b;\n",
       "        }    #T_1309619a_3f94_11ea_a64b_1063c89610e1row8_col0 {\n",
       "            background-color:  #92c4de;\n",
       "        }    #T_1309619a_3f94_11ea_a64b_1063c89610e1row8_col1 {\n",
       "            background-color:  #caddf0;\n",
       "        }    #T_1309619a_3f94_11ea_a64b_1063c89610e1row8_col2 {\n",
       "            background-color:  #08306b;\n",
       "        }    #T_1309619a_3f94_11ea_a64b_1063c89610e1row9_col0 {\n",
       "            background-color:  #5ca4d0;\n",
       "        }    #T_1309619a_3f94_11ea_a64b_1063c89610e1row9_col1 {\n",
       "            background-color:  #d9e8f5;\n",
       "        }    #T_1309619a_3f94_11ea_a64b_1063c89610e1row9_col2 {\n",
       "            background-color:  #08306b;\n",
       "        }    #T_1309619a_3f94_11ea_a64b_1063c89610e1row10_col0 {\n",
       "            background-color:  #abd0e6;\n",
       "        }    #T_1309619a_3f94_11ea_a64b_1063c89610e1row10_col1 {\n",
       "            background-color:  #08306b;\n",
       "        }    #T_1309619a_3f94_11ea_a64b_1063c89610e1row10_col2 {\n",
       "            background-color:  #f7fbff;\n",
       "        }    #T_1309619a_3f94_11ea_a64b_1063c89610e1row11_col0 {\n",
       "            background-color:  #c4daee;\n",
       "        }    #T_1309619a_3f94_11ea_a64b_1063c89610e1row11_col1 {\n",
       "            background-color:  #f2f8fd;\n",
       "        }    #T_1309619a_3f94_11ea_a64b_1063c89610e1row11_col2 {\n",
       "            background-color:  #f7fbff;\n",
       "        }    #T_1309619a_3f94_11ea_a64b_1063c89610e1row12_col0 {\n",
       "            background-color:  #ddeaf7;\n",
       "        }    #T_1309619a_3f94_11ea_a64b_1063c89610e1row12_col1 {\n",
       "            background-color:  #3686c0;\n",
       "        }    #T_1309619a_3f94_11ea_a64b_1063c89610e1row12_col2 {\n",
       "            background-color:  #f7fbff;\n",
       "        }    #T_1309619a_3f94_11ea_a64b_1063c89610e1row13_col0 {\n",
       "            background-color:  #a8cee4;\n",
       "        }    #T_1309619a_3f94_11ea_a64b_1063c89610e1row13_col1 {\n",
       "            background-color:  #0a549e;\n",
       "        }    #T_1309619a_3f94_11ea_a64b_1063c89610e1row13_col2 {\n",
       "            background-color:  #f7fbff;\n",
       "        }    #T_1309619a_3f94_11ea_a64b_1063c89610e1row14_col0 {\n",
       "            background-color:  #f1f7fd;\n",
       "        }    #T_1309619a_3f94_11ea_a64b_1063c89610e1row14_col1 {\n",
       "            background-color:  #3d8dc4;\n",
       "        }    #T_1309619a_3f94_11ea_a64b_1063c89610e1row14_col2 {\n",
       "            background-color:  #f7fbff;\n",
       "        }    #T_1309619a_3f94_11ea_a64b_1063c89610e1row15_col0 {\n",
       "            background-color:  #c9ddf0;\n",
       "        }    #T_1309619a_3f94_11ea_a64b_1063c89610e1row15_col1 {\n",
       "            background-color:  #1c6ab0;\n",
       "        }    #T_1309619a_3f94_11ea_a64b_1063c89610e1row15_col2 {\n",
       "            background-color:  #f7fbff;\n",
       "        }    #T_1309619a_3f94_11ea_a64b_1063c89610e1row16_col0 {\n",
       "            background-color:  #b0d2e7;\n",
       "        }    #T_1309619a_3f94_11ea_a64b_1063c89610e1row16_col1 {\n",
       "            background-color:  #2474b7;\n",
       "        }    #T_1309619a_3f94_11ea_a64b_1063c89610e1row16_col2 {\n",
       "            background-color:  #f7fbff;\n",
       "        }    #T_1309619a_3f94_11ea_a64b_1063c89610e1row17_col0 {\n",
       "            background-color:  #f7fbff;\n",
       "        }    #T_1309619a_3f94_11ea_a64b_1063c89610e1row17_col1 {\n",
       "            background-color:  #9ac8e0;\n",
       "        }    #T_1309619a_3f94_11ea_a64b_1063c89610e1row17_col2 {\n",
       "            background-color:  #f7fbff;\n",
       "        }    #T_1309619a_3f94_11ea_a64b_1063c89610e1row18_col0 {\n",
       "            background-color:  #c1d9ed;\n",
       "        }    #T_1309619a_3f94_11ea_a64b_1063c89610e1row18_col1 {\n",
       "            background-color:  #3686c0;\n",
       "        }    #T_1309619a_3f94_11ea_a64b_1063c89610e1row18_col2 {\n",
       "            background-color:  #f7fbff;\n",
       "        }    #T_1309619a_3f94_11ea_a64b_1063c89610e1row19_col0 {\n",
       "            background-color:  #cde0f1;\n",
       "        }    #T_1309619a_3f94_11ea_a64b_1063c89610e1row19_col1 {\n",
       "            background-color:  #b7d4ea;\n",
       "        }    #T_1309619a_3f94_11ea_a64b_1063c89610e1row19_col2 {\n",
       "            background-color:  #f7fbff;\n",
       "        }</style>  \n",
       "<table id=\"T_1309619a_3f94_11ea_a64b_1063c89610e1\" > \n",
       "<thead>    <tr> \n",
       "        <th class=\"blank level0\" ></th> \n",
       "        <th class=\"col_heading level0 col0\" >redness</th> \n",
       "        <th class=\"col_heading level0 col1\" >elongation</th> \n",
       "        <th class=\"col_heading level0 col2\" >fruit</th> \n",
       "    </tr></thead> \n",
       "<tbody>    <tr> \n",
       "        <th id=\"T_1309619a_3f94_11ea_a64b_1063c89610e1level0_row0\" class=\"row_heading level0 row0\" >0</th> \n",
       "        <td id=\"T_1309619a_3f94_11ea_a64b_1063c89610e1row0_col0\" class=\"data row0 col0\" >84.0122</td> \n",
       "        <td id=\"T_1309619a_3f94_11ea_a64b_1063c89610e1row0_col1\" class=\"data row0 col1\" >0.869565</td> \n",
       "        <td id=\"T_1309619a_3f94_11ea_a64b_1063c89610e1row0_col2\" class=\"data row0 col2\" >1</td> \n",
       "    </tr>    <tr> \n",
       "        <th id=\"T_1309619a_3f94_11ea_a64b_1063c89610e1level0_row1\" class=\"row_heading level0 row1\" >1</th> \n",
       "        <td id=\"T_1309619a_3f94_11ea_a64b_1063c89610e1row1_col0\" class=\"data row1 col0\" >37.7764</td> \n",
       "        <td id=\"T_1309619a_3f94_11ea_a64b_1063c89610e1row1_col1\" class=\"data row1 col1\" >1</td> \n",
       "        <td id=\"T_1309619a_3f94_11ea_a64b_1063c89610e1row1_col2\" class=\"data row1 col2\" >1</td> \n",
       "    </tr>    <tr> \n",
       "        <th id=\"T_1309619a_3f94_11ea_a64b_1063c89610e1level0_row2\" class=\"row_heading level0 row2\" >2</th> \n",
       "        <td id=\"T_1309619a_3f94_11ea_a64b_1063c89610e1row2_col0\" class=\"data row2 col0\" >21.8604</td> \n",
       "        <td id=\"T_1309619a_3f94_11ea_a64b_1063c89610e1row2_col1\" class=\"data row2 col1\" >1</td> \n",
       "        <td id=\"T_1309619a_3f94_11ea_a64b_1063c89610e1row2_col2\" class=\"data row2 col2\" >1</td> \n",
       "    </tr>    <tr> \n",
       "        <th id=\"T_1309619a_3f94_11ea_a64b_1063c89610e1level0_row3\" class=\"row_heading level0 row3\" >3</th> \n",
       "        <td id=\"T_1309619a_3f94_11ea_a64b_1063c89610e1row3_col0\" class=\"data row3 col0\" >22.5586</td> \n",
       "        <td id=\"T_1309619a_3f94_11ea_a64b_1063c89610e1row3_col1\" class=\"data row3 col1\" >1.07692</td> \n",
       "        <td id=\"T_1309619a_3f94_11ea_a64b_1063c89610e1row3_col2\" class=\"data row3 col2\" >1</td> \n",
       "    </tr>    <tr> \n",
       "        <th id=\"T_1309619a_3f94_11ea_a64b_1063c89610e1level0_row4\" class=\"row_heading level0 row4\" >4</th> \n",
       "        <td id=\"T_1309619a_3f94_11ea_a64b_1063c89610e1row4_col0\" class=\"data row4 col0\" >14.9414</td> \n",
       "        <td id=\"T_1309619a_3f94_11ea_a64b_1063c89610e1row4_col1\" class=\"data row4 col1\" >0.888889</td> \n",
       "        <td id=\"T_1309619a_3f94_11ea_a64b_1063c89610e1row4_col2\" class=\"data row4 col2\" >1</td> \n",
       "    </tr>    <tr> \n",
       "        <th id=\"T_1309619a_3f94_11ea_a64b_1063c89610e1level0_row5\" class=\"row_heading level0 row5\" >5</th> \n",
       "        <td id=\"T_1309619a_3f94_11ea_a64b_1063c89610e1row5_col0\" class=\"data row5 col0\" >27.9932</td> \n",
       "        <td id=\"T_1309619a_3f94_11ea_a64b_1063c89610e1row5_col1\" class=\"data row5 col1\" >0.894737</td> \n",
       "        <td id=\"T_1309619a_3f94_11ea_a64b_1063c89610e1row5_col2\" class=\"data row5 col2\" >1</td> \n",
       "    </tr>    <tr> \n",
       "        <th id=\"T_1309619a_3f94_11ea_a64b_1063c89610e1level0_row6\" class=\"row_heading level0 row6\" >6</th> \n",
       "        <td id=\"T_1309619a_3f94_11ea_a64b_1063c89610e1row6_col0\" class=\"data row6 col0\" >-0.563965</td> \n",
       "        <td id=\"T_1309619a_3f94_11ea_a64b_1063c89610e1row6_col1\" class=\"data row6 col1\" >1.07143</td> \n",
       "        <td id=\"T_1309619a_3f94_11ea_a64b_1063c89610e1row6_col2\" class=\"data row6 col2\" >1</td> \n",
       "    </tr>    <tr> \n",
       "        <th id=\"T_1309619a_3f94_11ea_a64b_1063c89610e1level0_row7\" class=\"row_heading level0 row7\" >7</th> \n",
       "        <td id=\"T_1309619a_3f94_11ea_a64b_1063c89610e1row7_col0\" class=\"data row7 col0\" >18.9756</td> \n",
       "        <td id=\"T_1309619a_3f94_11ea_a64b_1063c89610e1row7_col1\" class=\"data row7 col1\" >1.07692</td> \n",
       "        <td id=\"T_1309619a_3f94_11ea_a64b_1063c89610e1row7_col2\" class=\"data row7 col2\" >1</td> \n",
       "    </tr>    <tr> \n",
       "        <th id=\"T_1309619a_3f94_11ea_a64b_1063c89610e1level0_row8\" class=\"row_heading level0 row8\" >8</th> \n",
       "        <td id=\"T_1309619a_3f94_11ea_a64b_1063c89610e1row8_col0\" class=\"data row8 col0\" >20.0259</td> \n",
       "        <td id=\"T_1309619a_3f94_11ea_a64b_1063c89610e1row8_col1\" class=\"data row8 col1\" >1.17647</td> \n",
       "        <td id=\"T_1309619a_3f94_11ea_a64b_1063c89610e1row8_col2\" class=\"data row8 col2\" >1</td> \n",
       "    </tr>    <tr> \n",
       "        <th id=\"T_1309619a_3f94_11ea_a64b_1063c89610e1level0_row9\" class=\"row_heading level0 row9\" >9</th> \n",
       "        <td id=\"T_1309619a_3f94_11ea_a64b_1063c89610e1row9_col0\" class=\"data row9 col0\" >35.0566</td> \n",
       "        <td id=\"T_1309619a_3f94_11ea_a64b_1063c89610e1row9_col1\" class=\"data row9 col1\" >1.06667</td> \n",
       "        <td id=\"T_1309619a_3f94_11ea_a64b_1063c89610e1row9_col2\" class=\"data row9 col2\" >1</td> \n",
       "    </tr>    <tr> \n",
       "        <th id=\"T_1309619a_3f94_11ea_a64b_1063c89610e1level0_row10\" class=\"row_heading level0 row10\" >10</th> \n",
       "        <td id=\"T_1309619a_3f94_11ea_a64b_1063c89610e1row10_col0\" class=\"data row10 col0\" >12.3291</td> \n",
       "        <td id=\"T_1309619a_3f94_11ea_a64b_1063c89610e1row10_col1\" class=\"data row10 col1\" >2.18182</td> \n",
       "        <td id=\"T_1309619a_3f94_11ea_a64b_1063c89610e1row10_col2\" class=\"data row10 col2\" >-1</td> \n",
       "    </tr>    <tr> \n",
       "        <th id=\"T_1309619a_3f94_11ea_a64b_1063c89610e1level0_row11\" class=\"row_heading level0 row11\" >11</th> \n",
       "        <td id=\"T_1309619a_3f94_11ea_a64b_1063c89610e1row11_col0\" class=\"data row11 col0\" >4.10889</td> \n",
       "        <td id=\"T_1309619a_3f94_11ea_a64b_1063c89610e1row11_col1\" class=\"data row11 col1\" >0.904762</td> \n",
       "        <td id=\"T_1309619a_3f94_11ea_a64b_1063c89610e1row11_col2\" class=\"data row11 col2\" >-1</td> \n",
       "    </tr>    <tr> \n",
       "        <th id=\"T_1309619a_3f94_11ea_a64b_1063c89610e1level0_row12\" class=\"row_heading level0 row12\" >12</th> \n",
       "        <td id=\"T_1309619a_3f94_11ea_a64b_1063c89610e1row12_col0\" class=\"data row12 col0\" >-9.48779</td> \n",
       "        <td id=\"T_1309619a_3f94_11ea_a64b_1063c89610e1row12_col1\" class=\"data row12 col1\" >1.75</td> \n",
       "        <td id=\"T_1309619a_3f94_11ea_a64b_1063c89610e1row12_col2\" class=\"data row12 col2\" >-1</td> \n",
       "    </tr>    <tr> \n",
       "        <th id=\"T_1309619a_3f94_11ea_a64b_1063c89610e1level0_row13\" class=\"row_heading level0 row13\" >13</th> \n",
       "        <td id=\"T_1309619a_3f94_11ea_a64b_1063c89610e1row13_col0\" class=\"data row13 col0\" >13.7573</td> \n",
       "        <td id=\"T_1309619a_3f94_11ea_a64b_1063c89610e1row13_col1\" class=\"data row13 col1\" >2</td> \n",
       "        <td id=\"T_1309619a_3f94_11ea_a64b_1063c89610e1row13_col2\" class=\"data row13 col2\" >-1</td> \n",
       "    </tr>    <tr> \n",
       "        <th id=\"T_1309619a_3f94_11ea_a64b_1063c89610e1level0_row14\" class=\"row_heading level0 row14\" >14</th> \n",
       "        <td id=\"T_1309619a_3f94_11ea_a64b_1063c89610e1row14_col0\" class=\"data row14 col0\" >-20.1221</td> \n",
       "        <td id=\"T_1309619a_3f94_11ea_a64b_1063c89610e1row14_col1\" class=\"data row14 col1\" >1.71429</td> \n",
       "        <td id=\"T_1309619a_3f94_11ea_a64b_1063c89610e1row14_col2\" class=\"data row14 col2\" >-1</td> \n",
       "    </tr>    <tr> \n",
       "        <th id=\"T_1309619a_3f94_11ea_a64b_1063c89610e1level0_row15\" class=\"row_heading level0 row15\" >15</th> \n",
       "        <td id=\"T_1309619a_3f94_11ea_a64b_1063c89610e1row15_col0\" class=\"data row15 col0\" >1.89258</td> \n",
       "        <td id=\"T_1309619a_3f94_11ea_a64b_1063c89610e1row15_col1\" class=\"data row15 col1\" >1.88889</td> \n",
       "        <td id=\"T_1309619a_3f94_11ea_a64b_1063c89610e1row15_col2\" class=\"data row15 col2\" >-1</td> \n",
       "    </tr>    <tr> \n",
       "        <th id=\"T_1309619a_3f94_11ea_a64b_1063c89610e1level0_row16\" class=\"row_heading level0 row16\" >16</th> \n",
       "        <td id=\"T_1309619a_3f94_11ea_a64b_1063c89610e1row16_col0\" class=\"data row16 col0\" >10.7578</td> \n",
       "        <td id=\"T_1309619a_3f94_11ea_a64b_1063c89610e1row16_col1\" class=\"data row16 col1\" >1.83333</td> \n",
       "        <td id=\"T_1309619a_3f94_11ea_a64b_1063c89610e1row16_col2\" class=\"data row16 col2\" >-1</td> \n",
       "    </tr>    <tr> \n",
       "        <th id=\"T_1309619a_3f94_11ea_a64b_1063c89610e1level0_row17\" class=\"row_heading level0 row17\" >17</th> \n",
       "        <td id=\"T_1309619a_3f94_11ea_a64b_1063c89610e1row17_col0\" class=\"data row17 col0\" >-23.5273</td> \n",
       "        <td id=\"T_1309619a_3f94_11ea_a64b_1063c89610e1row17_col1\" class=\"data row17 col1\" >1.375</td> \n",
       "        <td id=\"T_1309619a_3f94_11ea_a64b_1063c89610e1row17_col2\" class=\"data row17 col2\" >-1</td> \n",
       "    </tr>    <tr> \n",
       "        <th id=\"T_1309619a_3f94_11ea_a64b_1063c89610e1level0_row18\" class=\"row_heading level0 row18\" >18</th> \n",
       "        <td id=\"T_1309619a_3f94_11ea_a64b_1063c89610e1row18_col0\" class=\"data row18 col0\" >5.44922</td> \n",
       "        <td id=\"T_1309619a_3f94_11ea_a64b_1063c89610e1row18_col1\" class=\"data row18 col1\" >1.75</td> \n",
       "        <td id=\"T_1309619a_3f94_11ea_a64b_1063c89610e1row18_col2\" class=\"data row18 col2\" >-1</td> \n",
       "    </tr>    <tr> \n",
       "        <th id=\"T_1309619a_3f94_11ea_a64b_1063c89610e1level0_row19\" class=\"row_heading level0 row19\" >19</th> \n",
       "        <td id=\"T_1309619a_3f94_11ea_a64b_1063c89610e1row19_col0\" class=\"data row19 col0\" >-0.505859</td> \n",
       "        <td id=\"T_1309619a_3f94_11ea_a64b_1063c89610e1row19_col1\" class=\"data row19 col1\" >1.26316</td> \n",
       "        <td id=\"T_1309619a_3f94_11ea_a64b_1063c89610e1row19_col2\" class=\"data row19 col2\" >-1</td> \n",
       "    </tr></tbody> \n",
       "</table> "
      ],
      "text/plain": [
       "<pandas.io.formats.style.Styler at 0x7fb0c55cf048>"
>>>>>>> 00ba44dbd9172a07fe9391baa749946d2b521674
      ]
     },
     "execution_count": 10,
     "metadata": {},
     "output_type": "execute_result"
    }
   ],
   "source": [
    "import pandas as pd\n",
    "column_names = ['redness', 'elongation', 'fruit']\n",
    "_XY = pd.DataFrame(np.append(_X, Y, axis=1), columns=column_names)\n",
    "_XY.style.background_gradient(cmap='Blues')"
   ]
  },
  {
   "cell_type": "markdown",
   "metadata": {},
   "source": [
    "There is another way of making heatmaps that we showed you last time using Seaborn. Check the <a href=\"https://seaborn.pydata.org/generated/seaborn.heatmap.html\">searborn heatmap documentation</a> to figure out how to add annotations and change the color map.\n",
    "1. Try to make it look just like the one shown in class. \n",
    "2. Why are the colors in the second column so poorly contrated when you use seaborn heatmaps compared to the first method we showed to display Pandas dataframes as heatmaps?"
   ]
  },
  {
   "cell_type": "code",
   "execution_count": 11,
   "metadata": {},
   "outputs": [
    {
     "data": {
      "text/plain": [
<<<<<<< HEAD
       "<matplotlib.axes._subplots.AxesSubplot at 0x7f466d98df98>"
=======
       "<matplotlib.axes._subplots.AxesSubplot at 0x7fb0c500ea58>"
>>>>>>> 00ba44dbd9172a07fe9391baa749946d2b521674
      ]
     },
     "execution_count": 11,
     "metadata": {},
     "output_type": "execute_result"
    },
    {
     "data": {
<<<<<<< HEAD
      "image/png": "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\n",
=======
      "image/png": "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\n",
>>>>>>> 00ba44dbd9172a07fe9391baa749946d2b521674
      "text/plain": [
       "<matplotlib.figure.Figure at 0x7fb0c55cfa58>"
      ]
     },
     "metadata": {},
     "output_type": "display_data"
    }
   ],
   "source": [
    "import seaborn as sns; sns.set()\n",
    "fig = plt.figure(figsize=(5,10))\n",
    "_XY = pd.DataFrame(np.append(_X, Y, axis=1), columns=column_names)\n",
    "_XY.head().style.background_gradient(cmap='Blues')\n",
    "sns.heatmap(_XY)"
   ]
  },
  {
   "cell_type": "markdown",
   "metadata": {},
   "source": [
    "### Question 6: Feature standardization\n",
    "For better rendering and improved results, the features are often standardized. This means that for each column, we subtract the mean and divide by the standard deviation (except for the target).\n",
    "\n",
    "From the previous TP, do you remember some of the Pandas useful functions like `describe`? This allows you to quickly get statistics about your dataset. You can also use `mean` and `std`. Provide the mean and standard deviation of the features before and after standardization. Observe the effect of standardization on the heat map."
   ]
  },
  {
   "cell_type": "code",
   "execution_count": 12,
   "metadata": {},
   "outputs": [
    {
     "name": "stdout",
     "output_type": "stream",
     "text": [
      "** BEFORE **\n",
      "redness: mean=10.00, std=10.00\n",
      "elongation: mean=10.00, std=10.00\n",
      "** AFTER **\n",
      "redness: mean=10.00, std=10.00\n",
      "elongation: mean=10.00, std=10.00\n"
     ]
    },
    {
     "data": {
      "text/html": [
       "<div style=\"background:#FF0000\">BOOOOH<br>:-(</div>"
      ],
      "text/plain": [
       "<IPython.core.display.HTML object>"
      ]
     },
     "metadata": {},
     "output_type": "display_data"
    },
    {
     "data": {
      "image/png": "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\n",
      "text/plain": [
       "<matplotlib.figure.Figure at 0x7fb0c56334e0>"
      ]
     },
     "metadata": {},
     "output_type": "display_data"
    }
   ],
   "source": [
    "question = 6\n",
    "\n",
    "# The library scikit-learn (sklearn) provides you code to standardize\n",
    "from sklearn.preprocessing import StandardScaler\n",
    "scaler = StandardScaler() \n",
    "X = scaler.fit_transform(_X)\n",
    "XY = pd.DataFrame(np.append(X, Y, axis=1), columns=['redness', 'elongation', 'fruit'])\n",
    "\n",
    "# Change this code to make this heatmap look like the one in class\n",
    "fig = plt.figure(figsize=(5,10))\n",
    "sns.heatmap(XY)\n",
    "\n",
    "# Put your answers to question 6 here\n",
    "redness_mean_before, elongation_mean_before = 10, 10\n",
    "redness_std_before, elongation_std_before = 10, 10\n",
    "redness_mean_after, elongation_mean_after = 10, 10\n",
    "redness_std_after, elongation_std_after = 10, 10\n",
    "\n",
    "print(\"** BEFORE **\")\n",
    "print(\"redness: mean={0:5.2f}, std={1:5.2f}\".format(redness_mean_before, redness_std_before))\n",
    "print(\"elongation: mean={0:5.2f}, std={1:5.2f}\".format(elongation_mean_before, elongation_std_before))\n",
    "print(\"** AFTER **\")\n",
    "print(\"redness: mean={0:5.2f}, std={1:5.2f}\".format(redness_mean_after, redness_std_after))\n",
    "print(\"elongation: mean={0:5.2f}, std={1:5.2f}\".format(elongation_mean_after, elongation_std_after))\n",
    "\n",
    "# This is the checker code for question 6, keep it\n",
    "answer = redness_mean_before+elongation_mean_before+redness_std_before+elongation_std_before\n",
    "answer = answer - (redness_mean_after+elongation_mean_after+redness_std_after+elongation_std_after)\n",
    "score += check(answer, question)"
   ]
  },
  {
   "cell_type": "markdown",
   "metadata": {},
   "source": [
    "### Pairplots\n",
    "Last time we also visualized data as pairplot, here is the pairplot of this dataset."
   ]
  },
  {
   "cell_type": "code",
   "execution_count": 13,
   "metadata": {},
   "outputs": [
    {
     "data": {
      "image/png": "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\n",
      "text/plain": [
       "<matplotlib.figure.Figure at 0x7fb0c564a470>"
      ]
     },
     "metadata": {},
     "output_type": "display_data"
    }
   ],
   "source": [
    "sns.pairplot(XY, vars=['redness', 'elongation'], hue='fruit', markers=[\"s\", \"o\"])\n",
    "plt.show()"
   ]
  },
  {
   "cell_type": "markdown",
   "metadata": {},
   "source": [
    "### Correlation matrix"
   ]
  },
  {
   "cell_type": "code",
   "execution_count": 14,
   "metadata": {},
   "outputs": [
    {
     "data": {
      "image/png": "iVBORw0KGgoAAAANSUhEUgAAAV0AAAD8CAYAAADUv3dIAAAABHNCSVQICAgIfAhkiAAAAAlwSFlzAAALEgAACxIB0t1+/AAAADl0RVh0U29mdHdhcmUAbWF0cGxvdGxpYiB2ZXJzaW9uIDIuMS4xLCBodHRwOi8vbWF0cGxvdGxpYi5vcmcvAOZPmwAAIABJREFUeJzt3XlcVOX+B/DPMMMOIqYwgoSpXBdQU3PLFAVtAXEDSzM1vS630uqXS9csTNzqdtXrcs01S7tmZlcNMTOVK6ZpuSBKlrmALILJIussnPP8/jDHJrajMgOMn/frNa8X55nnPPM9g317+J5znqMSQggQEZFV2NV2AEREDxImXSIiK2LSJSKyIiZdIiIrYtIlIrIiJl0iIiti0iUiqsSsWbPQs2dPDBw4sML3hRCYP38+BgwYgIiICCQnJ1c7JpMuEVElhg0bhvXr11f6fkJCAlJSUrBv3z7MmzcP7777brVjMukSEVWia9eu8PDwqPT9AwcOYMiQIVCpVHj00UdRUFCA69evVzmmpqaDLCf5S4t/xINu+wsf1nYINq9TwM3aDuGB0HLbj/c/yN3knMDI+/qo7OxsaLVa07ZWq0V2dja8vLwq3YczXSKie1TRKgoqlarKfZh0iYjukVarRVZWlmk7KyurylkuwKRLRHTPQkJCsHPnTgghkJiYCHd392qTruVrukREViQkSXHfqgsBwBtvvIEffvgBeXl56NOnD6ZOnYqysjIAwMiRIxEcHIxDhw5hwIABcHZ2xsKFC6v9TCZdIqJKLFmypMr3VSoV5syZc1djsrxARGRFTLpERFbE8gIR2RaprLYjqBJnukREVsSkS0RkRSwvEJFNEbLy8kJ1l4xZAme6RERWxKRLRGRFLC8QkW25izvSagNnukREVsSkS0RkRSwvEJFNEbw5goiIbmPSJSKyIpYXiMi2sLxARES3MekSEVkRky4RkRWxpktENuVuFrypDZzpEhFZEWe6RGRbuPYCERHdxqRLRGRFTLpERFbEmi4R2RQueENERCac6f7u0z3f47/xp3AhNQsDe3fEe1Ojajukese+gTsemzMN3j27QJ9fgHPLNyBt78FK+6s0GgzYthYaF2fseXokAKBxpyA8sXKRWT+NizO+nz4XGQcOWzT++sDOtQGavPQ2XDr0gFSYj9wt/0bRkW8q7OvwSGs0HvsGHFu0gawrRf6Oj3Hz661mfZzadobv3DXI+3IDcj9fbY1DeOAx6f7Oq5E7Xo7qh8OJF6A31O0/T+qqTrOmQjaWITZ0OBq2boUnli/AzQuXUHA5tcL+rcc+C31ePjQuzqa2G6fPYWevCNN2ky4d8fiyecg68qPF468PGk+YCZSVIWXiU3Bs/hdoZ/0L+tRfYUy/bNbPzt0DPm8tx41PlqLo2AGoNPbQPORlPphajcbjpkF34awVj8AKWF6oH57sEYT+3duhobtLbYdSL6mdnNAstDeSV22EVKpDTuI5ZB46iocHDqiwv4uPFg+HheKXjz6rclz/iAHI2J8ASaezRNj1isrRCW7dQ5D7+WoIfSl0v5xByYkEuPcJK9e34cBRKDlzDEXf7QXKjBC6EhgzUv7U5wWUnDkGQ2bF/1Mky7jrpCvLMoqKiiwRC9Vj7v7NICQZRVczTG03L1xGgxb+Ffbv9OYUnFv5ESSdodIx1U6O8O3fB6mx39Z4vPWRfdOHIWQJxmtXTW361F/h4NeiXF+ngCBIRQXwnbcBzdd9A+2bS6B5yNv0vqaxFu79IpC3fb1VYqc7FCXdadOmoaioCCUlJQgLC8PTTz+N9ev5y6I7NC5OMBYVm7UZi4ph71r+Lweffr2gUquRGX+kyjF9Q3vDkH8Tv508U6Ox1ld2Ti6QS8y/Y7mkCHZO5b9jdSMvuAeH48bHi5H6cgSM1zPg9doC0/uNx01H7udrIPSlFo+bzClKuhcvXoSbmxv279+P4OBgxMfHY9euXZaOjeqRshIdNH9KsBo3FxiLS8za1E5OaP/6RCT+Y2W1Y/pHPInU3Zzl3ibrSmDn7GrWZufsCllXUq6vMOhR/MP/oL/0E4TRgLwv1sO5TUfYObvCpUtv2Dm7oPh72/xuhSwpftUGRSfSysrKYDQasX//frzwwguwt7eHSqWydGxUjxSmpsNOo4bbw76mEkPDv7QsdxLN7WFfuDbVou+GpQAAO3sN7N1cMfDbbTg4ZipKrmUDAJy9m6BJl444NX+pdQ+kDjNeuwqVWg17rR+MWWkAAEf/ABjSLpfra7h6EYC40yB+/1mlgnNQVzi2aAv/tXsBAHYuroAsw+HhVsj6YLqlD6NeSUhIwIIFCyDLMoYPH45JkyaZvZ+RkYG33noLubm5aNiwIT744ANotdoqx1Q0033uuecQEhKC0tJSdO3aFRkZGXBzc7v3I6mDyiQJeoMRsiwgyTL0BiPK6vjCGXWJpNMh4+B3aPfSWKidnPBQx0D4BD+Oq3+aqRZcuoK4Z0bi2xGT8e2IyTgRswS63Dx8O2IySrJ/M/XzD++PnKRkFKdfs/ah1FlCr0PR8Xh4PjcZKkcnOLXuAJeuwShM2FOub2F8LFy79oWD/18AtRqeUX9F6fnTkEuKkPv5alx9LQrpM0YhfcYolJw4jIIDO3F9VUwtHFXNE1KZ4ldVJElCTEwM1q9fj7i4OOzevRsXL1406/P+++9jyJAhiI2Nxcsvv4zFixdXG5+ipDtmzBgcPnwY69atg0qlgq+vLzZt2qRk13rjwy/i0WHEHKz97yF8dSgRHUbMwYdfxNd2WPXKqYXLoXZ0RMTBL9B90WycWrgMBZdT0bhTEIYciQUACEmGPifP9DLeLISQBfQ5eYAsm8Z6eOAApMbuq61DqbNurH8fdg6OaL5uH7xeW4Ab696DMf0ynNo8ikc2HTL1K00+gdzPVqHprKVovm4f7LV+yF7+DgBA6Eog3cwxvWSDHkJXCrm4oLYOq05KSkqCv78//Pz84ODggPDwcBw4cMCsz6VLl9CzZ08AQI8ePcq9XxGVEEJU1+mTTz5BZGQkXF1dMXv2bJw/fx7Tpk3DE088UX3kyV9W34fuy/YXPqztEGxep4CbtR3CA6Hltvu/Hlu/e67ivo4D51T63t69e3H48GEsWHDrBOTOnTuRlJSE6OhoU59p06ahQ4cOGDt2LPbt24epU6fi2LFj8PT0rHRcRTPdL7/8Em5ubvjuu++Qm5uLRYsWKZpGExFZnVSm/FWFiuajfz6XNXPmTPz4448YMmQIfvjhB3h7e0OjqfpUmaITabc//NChQ4iMjESbNm0qDIiIyFZotVpkZWWZtrOzs+HlZX5Xn7e3N1auvHUlTnFxMfbt2wd3d/cqx1U00w0KCsL48eORkJCAJ554AkVFRbCz481sRGS72rdvj5SUFKSlpcFgMCAuLg4hISFmfXJzcyH/fi5i7dq1iIyMrHZcRTPdBQsW4Pz58/Dz84OzszPy8vKwcOHCezgMIqL6QaPRIDo6GhMmTIAkSYiMjERAQACWLVuGoKAghIaG4ocffsCSJUugUqnw2GOPYc6cymvEpnGVfLhKpcLFixcRHx+PKVOmoLS0FAZD5bdvEhHVlpq86SE4OBjBwcFmba+99prp56effhpPP/30XY2pqEbw7rvvIjExEXFxcQAAV1dXzJ2r/AwhERHdoijpJiUlYc6cOXB0dAQAeHh4wGg0WjQwIqJ7UkNXL1iKoqSr0WggSZLpconc3FyeSCMiugeKarqjR4/GK6+8gpycHCxduhR79+7F66+/bunYiIhsjqKkO2jQIAQGBuLYsWMQQmDVqlVo2bKlpWMjIrI5ih/X07x5c7i5uUH6fRGYzMxM+Pj4WCwwIqJ7UdefBqwo6W7evBkrV65E48aNzWq5sbGxFguMiMgWKUq6mzZtwt69e6tcxIGIiKqnKOlqtdpq7ycmIqoTbKG84Ofnh9GjR6Nv375wcHAwtY8bN85igRER2SJFSdfHxwc+Pj4wGo28KYKI6D4oSrpTpkyxdBxERA+EKpPu3/72typ3Xr16dY0GQ0R0v2rrKb9KVZl0x48fDwDYt28fbty4gUGDBgEA4uLi4Ovra/noiIhsTJVJt1u3bgCAZcuW4T//+Y+pPSQkBKNGjbJsZERE96KOX72gaNWa3NxcpKWlmbbT0tKQm5trsaCIiGyVohNps2bNwujRo+Hn5wcAyMjI4Hq6RET3QFHS7dOnD/bt24fLly8DAFq0aGF2vS4RESmjqLxQWlqK9evX49NPP0WbNm2QmZmJ+Ph4S8dGRHTXhCQpftUGRUl31qxZsLe3R2JiIoBbtwX/61//smhgRES2SFHSvXr1KiZOnAiN5lY1wsnJCUIIiwZGRGSLFNV0HRwcoNPpTI/ruXr1Kmu6RFQn1fv1dIUQGDFiBCZMmIBr165h2rRpOH36NBYtWmSN+IiIbEq1SVelUmHTpk3YsGEDzpw5AyEEZs+ejUaNGlkjPiIim6KovNCxY0ekpaWhb9++Fg6HiOg+yfW8vAAAx48fx+effw4fHx84Ozub2pU8rmf7Cx/ee3SkSNSnL9V2CDYvP3Z9bYdANkJR0l23bp2l4yAieiAoSrpcUYyI6ovauulBKUXX6RIRUc1g0iUisiJF5QUionqD5QUiIrqNSZeIqBIJCQl46qmnMGDAAKxdu7bc+5mZmRg9ejSGDBmCiIgIHDp0qNoxWV4gIqqAJEmIiYnBxo0b4e3tjaioKISEhKBVq1amPh9++CGeeeYZPP/887h48SImTZqEgwcPVjkuZ7pEZFOEVKb4VZWkpCT4+/vDz88PDg4OCA8Px4EDB8z6qFQqFBUVAQAKCwvh5eVVbXyc6RIRVSA7Oxtarda07e3tjaSkJLM+U6ZMwV//+ld8+umnKC0txcaNG6sdlzNdIqIKVLRm+O3lbW+Li4vD0KFDkZCQgLVr12LmzJmQZbnKcZl0ici2SJLyVxW0Wi2ysrJM29nZ2eXKB9u3b8czzzwDAOjUqRP0ej3y8vKqHJdJl4ioAu3bt0dKSgrS0tJgMBgQFxeHkJAQsz5NmzbF999/DwC4dOkS9Hp9tcvesqZLRFQBjUaD6OhoTJgwAZIkITIyEgEBAVi2bBmCgoIQGhqKv//973j77bfx8ccfQ6VS4b333itXgig3rpXiJyKyippc8CY4OBjBwcFmba+99prp51atWmHr1q13NSbLC0REVsSkS0RkRSwvEJFNETIXvCEiot8x6RIRWRHLC0RkW7ieLhER3cakS0RkRSwvEJFN4dOAiYjIhEmXiMiKWF4gIpsipKrXs61tnOkSEVkRky4RkRUx6RIRWRFrukRkW+p4TfeBSLr2Ddzx2Jxp8O7ZBfr8ApxbvgFpeyt/Nr1Ko8GAbWuhcXHGnqdHAgAadwrCEysXmfXTuDjj++lzkXHgsEXjtyWf7vke/40/hQupWRjYuyPemxpV2yHVKyonNziH/R/sm3eGKL2J0kMfw/jT/8r1cx0eA41f0J0GtQZyTjoKP3r51qZXCzgPeAnqJo9AGEqhP/M19Ee2WOkoHmwPRNLtNGsqZGMZYkOHo2HrVnhi+QLcvHAJBZdTK+zfeuyz0OflQ+PibGq7cfocdvaKMG036dIRjy+bh6wjP1o8flvi1cgdL0f1w+HEC9Abymo7nHrH+clXAMmImytGQu3dEm5Rc1F4/TLkG1fN+hV/EW227fb8+zCmnjFtuwx6E8YLR1G05U3YeXjD7YV/Qsq+hLKLx61yHA8ym6/pqp2c0Cy0N5JXbYRUqkNO4jlkHjqKhwcOqLC/i48WD4eF4pePPqtyXP+IAcjYnwBJp7NE2DbryR5B6N+9HRq6u9R2KPWPvSPsW/eCLmEzYNRBSk+G8eIxOASGVrmbnYcX1M0CYTx3wKzNkBwPCBly/jWUpSdD3djf0kdgFUKSFL9qg80nXXf/ZhCSjKKrGaa2mxcuo0GLiv+BdXpzCs6t/AiSzlDpmGonR/j274PU2G9rPF6iyqgbNQNkGXLenX/L0vUrUDepOlnaB/WHlJ4M+Wa2qU3/4044BIUCdmrYNfKFxqctylISLRY73aG4vCBJEm7cuAHpD/938PHxsUhQNUnj4gRjUbFZm7GoGPau5WdaPv16QaVWIzP+CJp06VjpmL6hvWHIv4nfTp6ptA9RjbN3gtCb/1sW+mKoHJwr2eEWh6BQ6I+a/+VmvPQDXAZOh2P3SKjs1NB99x9IWRdqPGQqT1HS3bx5M1auXInGjRvDzu7O5Dg2NtZigdWUshIdNH9KsBo3FxiLS8za1E5OaP/6RByZOrvaMf0jnkTqbs5yycqMOqgczf8tqxxdIAylle6ibhYIO1dPGH7+7s4+Tm5we3Y+Sr5dBWNyPFRujeA6ZDYcivNgOB1nsfCtRUiitkOokqKku2nTJuzduxeenp6WjqfGFaamw06jhtvDvqYSQ8O/tCx3Es3tYV+4NtWi74alAAA7ew3s3Vwx8NttODhmKkqu3frTzNm7CZp06YhT85da90DogSflpt8qB3j6QM7LBACovR6B9FvFJ4SBW7Nc44UjgPHOuQe7hk0hhGSq8YrCGzCePwT7ll1tIunWdYpqulqtFu7u7paOxSIknQ4ZB79Du5fGQu3khIc6BsIn+HFc/dNMteDSFcQ9MxLfjpiMb0dMxomYJdDl5uHbEZNRkv2bqZ9/eH/kJCWjOP2atQ/FJpRJEvQGI2RZQJJl6A1GlNXxpfjqDKMexl+Owqn3aMDeEWrfdrBv1ROG5AMV99c4wKFNbxjO7jdrlnIzoIIK9u36AlBB5eoJ+7Z9IF2/YvFDIIUzXT8/P4wePRp9+/aFg4ODqX3cuHEWC6wmnVq4HI+9Ox0RB7+AIb8QpxYuQ8HlVNO1tzt7RUBIMvQ5eaZ9jDcLIWRh1gYADw8cgAubtln7EGzGh1/EY+W2O9dIf3UoEVOeDcHUEf1rMar6o3TfSriE/R88pm6FKC1Ayb6VkG9chbpZINyenYebS4aZ+toH9ITQF6Ms9U/nHgwlKN4xH059x8PlySkQZXoYLx6H7uhWKx+NZdT1BW9UQohqCyArV66ssH3KlCnVfsD2TvyPydKiPn2ptkOwefmx62s7hAdCw79/fd9j/Datp+K+TRZ/f9+fd7cUzXRvJ9eioiKoVCq4urpaNCgiIlulKOleuHABM2fOxM2bNwEAnp6eeP/99xEQEGDR4IiIbI2ipBsdHY2///3v6NGjBwDg+PHjeOedd7B1q23UgIjIdtT1mq6iqxdKSkpMCRcAunfvjpKSkir2ICKiiii+euHf//43Bg8eDAD46quv0KxZM4sGRkRkixQl3YULF2LFihWYOnUqhBB47LHHsGjRoup3JCKyMiHX3B1pCQkJWLBgAWRZxvDhwzFp0iSz9xcuXIjjx2+tzKbT6ZCTk4MTJ05UOaaipOvh4YG33377HsMmIqp/JElCTEwMNm7cCG9vb0RFRSEkJAStWrUy9XnrrbdMP2/evBk//fRTteNWmXQXLFiA2bNn429/+1uF769evVpp/EREVlFTay8kJSXB398ffn5+AIDw8HAcOHDALOn+UVxcHKZOnVrtuFUm3ds13PHjx99tvERE9Vp2dja0Wq1p29vbG0lJSRX2zcjIQHp6utkFB5WpMukGBd163Mf58+cxduxYs/c++eQTdOvWrdoPICKqjyq6WVelUlXYNy4uDk899RTUanW14yq6ZGznzp3l2nbs2KFkVyKiekmr1SIrK8u0nZ2dDS8vrwr77tmzB+Hh4YrGrXKmu3v3buzevRvp6elmdd3i4mI0bNhQ0QcQEVmTqKFF69q3b4+UlBSkpaXB29sbcXFxWLx4cbl+ly9fRkFBATp16qRo3CqTbqdOndCkSRPk5eWZ1XVdXV3RunXruzwEIqL6Q6PRIDo6GhMmTIAkSYiMjERAQACWLVuGoKAghIbeejZdXFwcwsLCKi09/JmiVcbuB1cZszyuMmZ5XGXMOmpilbFrf+uquG/T1dZ/mrei63QTExMxb948XL58GUajEZIkwdnZGadOnbJ0fEREd6WuP65H0Ym0mJgYLFmyBP7+/jhz5gzmz5+P0aNHWzo2IiKbo/gR7P7+/pAkCWq1GpGRkaZb34iISDlF5QVnZ2cYDAa0bdsW//jHP+Dl5cVVxoiI7oGime4//vEPyLKM6OhouLi44Nq1a1ixYoWlYyMiumuyrPxVGxTNdH19fU0/K3kuGhERVUxR0o2IiCjX5u7ujqCgILz00kvw9PSs8cCIiO5FTd0cYSmKkm7v3r2hVqsxcOBAALdueRNCwM3NDbNmzeJqY0RECilKuqdOnTJ7Hlrr1q0xYsQIbN26tcJZMBERVUzxM9LOnDlj2k5KSjJdvaBkVR0iIrpF0Ux3/vz5mD17NoqLiwHcWnthwYIFKCkpKff4CiKi2mQTNd0OHTogNjYWhYWFEEKgQYMGpvfCwsIsFhwRka1RlHQNBgO++eYbZGRkoKyszNTOy8eIiO6OoqT70ksvwd3dHYGBgXBwcLB0TERE96y2bnpQSlHSzc7OxoYNGywdCxGRzVN09UKnTp3wyy+/WDoWIiKbp2ime/LkSezYsQO+vr5m5YXY2FiLBUZEdC9s4uqFdevW3fMHdAq4ec/7kjJ8qoHlNYyYUNshkI1QVF7w9fVFYWEh4uPjER8fj8LCQrNFcIiISBlFSfeTTz7B9OnTkZOTg5ycHMyYMQObN2+2dGxERHdNllWKX7VBUXlh+/bt2LZtG1xcXAAAEydOxHPPPcdH9hAR3SXFj+v54xoLXG+BiOjeKJrpDhs2DMOHD8eAAQMAAPv370dkZKRFAyMiuhc2cXPEuHHj0K1bN5w8eRJCCCxatAjt2rWzdGxERDanyqSbn59v+tnX19fsioX8/Hw0bNjQcpEREdmgKpPusGHDoFKpIISASnXnTN/t7QMHDlg8QCIiW1Jl0j148CAAQJZlfPXVV0hPT8eUKVOQmZmJ3377zSoBEhHdjbp+R5qiqxfmzp2LM2fOIC4uDsCtRcxjYmIsGhgRkS1SlHSTkpIwZ84cODo6AgA8PDxgNBotGhgR0b2o6zdHKEq6Go0GkiSZ6rq5ubmws1N8iS8REf1O0SVjo0ePxiuvvIKcnBwsXboUe/fuxeuvv27p2IiIbI6ipDto0CAEBgbi2LFjEEJg1apVaNmypaVjIyKyOYqSLgC0bNmSiZaI6jy5Bq9eSEhIwIIFCyDLMoYPH17h08/37NmDlStXQqVSoU2bNli8eHGVYypOukREDxJJkhATE4ONGzfC29sbUVFRCAkJQatWrUx9UlJSsHbtWnz22Wfw8PBATk5OtePybBgRUQWSkpLg7+8PPz8/ODg4IDw8vNwNYdu2bcOoUaPg4eEBAHjooYeqHZczXSKyKTV1KVh2dja0Wq1p29vbG0lJSWZ9UlJSAAAjRoyALMuYMmUK+vTpU+W4TLpERBUQQpRr++NyCMCtEkRqaio2b96MrKwsjBo1Crt370aDBg0qHZflBSKiCmi1WmRlZZm2s7Oz4eXlZdbH29sboaGhsLe3h5+fHx555BHT7LcyTLpEZFOErFL8qkr79u2RkpKCtLQ0GAwGxMXFISQkxKxP//79cfz4cQC3bhpLSUmBn59fleOyvEBEVAGNRoPo6GhMmDABkiQhMjISAQEBWLZsGYKCghAaGorevXvjyJEjCAsLg1qtxsyZM+Hp6VnluCpRUeGiBl16tqslhycAD3VuXNsh2Dw+gt1KAu//iTRnn+6huG/7vcfu+/PuFme6RGRT6vrjeljTJSKyIiZdIiIrYnmBiGxKba2TqxRnukREVsSkS0RkRUy6RERWxJouEdmUul7TfSCSrp1rAzR56W24dOgBqTAfuVv+jaIj31TY1+GR1mg89g04tmgDWVeK/B0f4+bXW836OLXtDN+5a5D35Qbkfr7aGodQL6ic3OAc9n+wb94ZovQmSg99DONP/yvXz3V4DDR+QXca1BrIOeko/OjlW5teLeA84CWomzwCYSiF/szX0B/ZYqWjqP8+3fM9/ht/ChdSszCwd0e8NzWqtkOiP3ggkm7jCTOBsjKkTHwKjs3/Au2sf0Gf+iuM6ZfN+tm5e8DnreW48clSFB07AJXGHpqHzBe4gFqNxuOmQXfhrBWPoH5wfvIVQDLi5oqRUHu3hFvUXBRevwz5xlWzfsVfRJttuz3/PoypZ0zbLoPehPHCURRteRN2Ht5we+GfkLIvoezicascR33n1cgdL0f1w+HEC9Abymo7HKuT6vhM1+ZruipHJ7h1D0Hu56sh9KXQ/XIGJScS4N4nrFzfhgNHoeTMMRR9txcoM0LoSmDMSPlTnxdQcuYYDJmpVjqCesLeEfate0GXsBkw6iClJ8N48RgcAkOr3M3OwwvqZoEwnjtg1mZIjgeEDDn/GsrSk6Fu7G/pI7AZT/YIQv/u7dDQ3aW2Q6EKVJt0P/jgA0VtdZV904chZAnGa3dmW/rUX+Hg16JcX6eAIEhFBfCdtwHN130D7ZtLoHnI2/S+prEW7v0ikLd9vVVir0/UjZoBsgw5L8PUJl2/AnWTqpOlfVB/SOnJkG9mm9r0P+6EQ1AoYKeGXSNfaHzaoiwl0WKxE1lTtUn36NGj5doSEhIsEowl2Dm5QC4pNmuTS4pg51R+FqBu5AX34HDc+HgxUl+OgPF6BrxeW2B6v/G46cj9fA2EvtTicdc79k4QevPvWeiLoXJwrnI3h6BQGM5+a9ZmvPQD7Ns8AY/pu9Bg0noYkr6BlHWhxkMmqg2V1nS3bNmCzz77DGlpaYiIiDC1FxcXo3PnzlYJribIuhLYObuatdk5u0LWlZTrKwx6FP/wP+gv/QQAyPtiPR75aD/snF3h1K4z7JxdUPz9t+X2IwBGHVSO5v8jUzm6QBgq/x+Uulkg7Fw9Yfj5uzv7OLnB7dn5KPl2FYzJ8VC5NYLrkNlwKM6D4XScxcIn21Fvr16IiIhAnz59sGTJEkybNs3U7urqioYNG1oluJpgvHYVKrUa9lo/GLPSAACO/gEwpF0u19dw9SKAP6x0eXvVS5UKzkFd4diiLfzX7gUA2Lm4ArIMh4dbIeuD6ZY+jDpPyk2/VQ7w9IGclwkNIdJEAAAL4ElEQVQAUHs9Aum3ymvfDkGhMF44Ahh1pja7hk0hhGSq8YrCGzCePwT7ll2ZdMkmVFpeUKlUaNasGaKjo+Hq6mp6AUB+fr7VArxfQq9D0fF4eD43GSpHJzi17gCXrsEoTNhTrm9hfCxcu/aFg/9fALUanlF/Ren505BLipD7+WpcfS0K6TNGIX3GKJScOIyCAztxfVVMLRxVHWTUw/jLUTj1Hg3YO0Lt2w72rXrCkHyg4v4aBzi06Q3D2f1mzVJuBlRQwb5dXwAqqFw9Yd+2D6TrVyx+CLaiTJKgNxghywKSLENvMKJMkmo7LPpdpTPdadOmYc2aNRg2bBhUKpXZQ9pUKlW5RxHXZTfWvw+vl99B83X7IBXdxI1178GYfhlObR5F07eW4cqYYABAafIJ5H62Ck1nLYXKwQm6X84ge/k7AAChK4H0h5KEbNBD6EohFxfUyjHVRaX7VsIl7P/gMXUrRGkBSvathHzjKtTNAuH27DzcXDLM1Nc+oCeEvhhlf7hUDABgKEHxjvlw6jseLk9OgSjTw3jxOHRHt4KU+fCLeKzcdtC0/dWhREx5NgRTR/SvxaisRxZ1u7zAJ0fYAD45wvL45AgrqYEnRxzt3Vtx38cPH77vz7tb1d4c8eOPP1bY3rUrkykR0d2qNulu2LDB9LNer0dSUhICAwOxadMmiwZGRGSLqk26q1ebry1w7dq1enVzBBE9WGzuGWlarRa//vqrJWIhIrJ51c50582bB5Xq1tlAWZZx/vx5tG7d2uKBERHdC6mOX71QbdINCrqzBJ9arUZ4eDi6dOli0aCIiGxVlUlXkiQcOXIE//znP60VDxGRTauypqtWq5GXlweDwWCteIiIbFq15QVfX1+MHDkSISEhcHG5s6DJuHHjLBoYEdG9qOsL3lQ6050xYwYAYM+ePejXrx+EECguLja9iIjo7lU6001OTkZGRgaaNm2KF154wZoxERHZrEqT7ogRIzBhwgSkp6cjMvLO/dBCiHq34A0RPTjq7SVjY8aMwZgxYzBnzhzMnTvXmjEREdmsau9IY8IlIqo5Nv80YCJ6sMhCpfhVnYSEBDz11FMYMGAA1q5dW+79//73v+jRowcGDx6MwYMH44svvqh2zGovGSMiehBJkoSYmBhs3LgR3t7eiIqKQkhICFq1amXWLywsDNHR0YrH5UyXiKgCSUlJ8Pf3h5+fHxwcHBAeHl4jFxAw6RKRTZGESvGrKtnZ2dBqtaZtb29vZGdnl+u3b98+RERE4NVXX8W1a9eqjY9Jl4ioAhU9yez2iou39evXDwcPHkRsbCx69uyJN998s9pxmXSJiCqg1WqRlZVl2s7OzoaXl5dZH09PTzg4OAAAnn32WSQnJ1c7LpMuEdkUSSh/VaV9+/ZISUlBWloaDAYD4uLiEBISYtbn+vXrpp8PHjyIli1bVhsfr14gIqqARqNBdHQ0JkyYAEmSEBkZiYCAACxbtgxBQUEIDQ3F5s2bcfDgQajVanh4eGDRokXVjstHsNsAPoLd8vgIdiupgUew734spPpOvxt44uB9f97dYnmBiMiKWF4gIpui5E6z2sSZLhGRFTHpEhFZEcsLRGRT6vp6upzpEhFZEZMuEZEVsbxARDalujvNapvFb44gIqI7WF4gIrIiJl0iIiti0iUisiImXSIiK2LSJSKyIiZdIiIrYtIlIrKiBzrpHj9+HJMnT67tMOqFkJAQ5ObmWuWz0tPTERsba9o+e/Ys5s+fb5XPri82bdqEZ555BtOmTVO8z8SJE1FQUICCggL85z//sWB0VBWbTLpCCMiyXNth0D3KyMjA7t27Tdvt27fH22+/XYsR1T1btmzB2rVrsXjxYlNbWVlZlfusW7cODRo0QEFBAT777DNLh0iVsJnbgNPT0zFx4kR0794diYmJGDt2LLZu3QqDwQA/Pz8sWrQIrq6uSEhIwMKFC+Hp6YnAwEDT/itWrEBmZibS09ORmZmJsWPHYsyYMQCAXbt2YfPmzTAajejYsSPmzJkDAJg9ezbOnTsHlUqFyMhIvPjii9i0aRO2bt0KtVqNVq1aYenSpbXyfdyPyo73to0bN+LLL78EAERFReHFF180ff9dunTB6dOn4e3tjVWrVsHJyQlJSUmYPXs2XFxc0LlzZxw+fBi7d+9Geno6Zs6cidLSUgDAO++8g86dO2Px4sW4dOkSBg8ejKFDh6Jt27b46KOPsGbNGuTn5+Ott95CWloanJ2dERMTgzZt2lT5+7M10dHRSE9Px8svv4zMzEyEhYUhIyMDnp6e6NWrF86dO4fo6GgAwOTJkzF+/Hh0794dISEh2L59OxYvXoyrV69i8ODBePzxxxU9NpxqkLARaWlponXr1uL06dMiJydHPP/886K4uFgIIcSaNWvEihUrhE6nE3369BFXrlwRsiyLV199VUyaNEkIIcTy5cvFc889J/R6vcjJyRHdunUTBoNBXLx4UUyePFkYDAYhhBBz5swRO3bsEGfPnhUvvvii6fNv3rwphBCiV69eQq/Xm7XVJ5Udb79+/UROTo44e/asGDhwoCguLhZFRUUiLCxMJCcni7S0NNG2bVvx008/CSGEePXVV8XOnTuFEEKEh4eLkydPCiGE+OCDD0R4eLgQQoiSkhKh0+mEEEJcuXJFDB06VAghxLFjx0y/lz9vx8TEiBUrVgghhDh69KgYNGiQEKLy35+tuv37WL58uRg6dKgoLS0VQgjx5Zdfirlz55r6TZo0SRw7dsxsn7S0NNPvgKzPZma6AODj44NHH30U8fHxuHjxIkaOHAkAMBqNePTRR3H58mU0a9YMzZs3BwAMGjQI27ZtM+0fHBwMBwcHNGrUCI0aNUJOTg6+//57nDt3DlFRUQAAnU6Hhx56CP369UNaWhrmzZuH4OBgPPHEEwCA1q1bY/r06QgNDUX//v2t+wXUgMqO97aTJ0+if//+cHFxAQAMGDAAJ06cQEhICJo1a4a2bdsCAAIDA5GRkYGCggIUFxejc+fOAICBAwfif//7H4Bbfw7HxMTg559/hp2dHVJSUqqN7+TJk1ixYgUAoGfPnsjPz0dhYSGAin9/Wq22Rr6XuiwkJAROTk61HQYpZFNJ93YiEEKgV69eWLJkidn758+fh0pV+QLHDg4Opp/VajXKysoghMDQoUMrPGGxa9cufPfdd9iyZQu+/vprLFq0CGvXrsWPP/6IgwcPYtWqVYiLi4NGU3++5sqOd8eOHab3K/Pn70+v11fZ/+OPP0bjxo2xa9cuyLKMDh06KIrvz27/Tiv6/T0InJ2dTT+r1Wqz8xl6vb42QqIq2OSJtEcffRSnTp1CamoqAKC0tBRXrlxBixYtkJ6ejqtXrwIA4uLiqh2rZ8+e+Oabb5CTkwMAyM/PR0ZGBnJzcyGEwFNPPYXXXnsNP/30E2RZxrVr19CjRw/MmDEDhYWFKCkpsdyBWkBlx3tb165dsX//fpSWlqKkpAT79+/HY489Vul4Hh4ecHV1RWJiIgBgz549pvcKCwvRpEkT2NnZYdeuXZAkCQDg6uqK4uLiCsfr2rUrvvrqKwC3rj7x9PSEm5vb/R20DfH19cXPP/9s+reYlJRUrk9V3y9ZXv2Zgt2FRo0aYdGiRXjjjTdgMBgAAK+//joeeeQRxMTEYNKkSfD09ESXLl3w66+/VjlWq1at8Prrr2P8+PGQZRn29vaIjo6Gk5MTZs2aZZpVvPHGG5AkCTNmzEBRURGEEHjxxRfRoEEDix9vTarseG8LDAzEsGHDMHz4cAC3TqS1a9cO6enplY65YMECvP3223BxcUG3bt1MSfL555/H1KlTsXfvXnTv3t30l0rr1q2hVqsxaNAgDBs2zFSyAIApU6Zg1qxZiIiIgLOzM9577z1LfA31VpcuXeDr64uIiAgEBASYnSy+zdPTE507d8bAgQPRu3dvnkizMq6nSxZXXFwMV1dXAMDatWtx/fp1XgJGDyybnOlS3XLo0CGsWbMGkiTBx8eHs1N6oHGmS0RkRTZ5Io2IqK5i0iUisiImXSIiK2LSJSKyIiZdIiIr+n/XR+YkahqQwwAAAABJRU5ErkJggg==\n",
      "text/plain": [
       "<matplotlib.figure.Figure at 0x7fb0c4f66ba8>"
      ]
     },
     "metadata": {},
     "output_type": "display_data"
    }
   ],
   "source": [
    "corr_mat = XY.corr(method='pearson')\n",
    "sns.heatmap(abs(corr_mat), annot=True, center=0)\n",
    "plt.show()"
   ]
  },
  {
   "cell_type": "markdown",
   "metadata": {},
   "source": [
    "### Question 7: Feature selection\n",
    "Based on the pair plots and the correlation matrix:\n",
    "    - Which feature separates best the two fruit categories? \n",
    "    - Are the two features correlated or anti-correlated?"
   ]
  },
  {
   "cell_type": "code",
   "execution_count": 15,
   "metadata": {},
   "outputs": [
    {
     "data": {
      "text/html": [
       "<div style=\"background:#00FF00\">CORRECT<br>:-)</div>"
      ],
      "text/plain": [
       "<IPython.core.display.HTML object>"
      ]
     },
     "metadata": {},
     "output_type": "display_data"
    }
   ],
   "source": [
    "question = 7\n",
    "\n",
    "number_of_best_feature = 1      # 0 for redness and 1 for elongation\n",
    "correlation_between_features = -1 # 1 for correlated and -1 for anti-correlated\n",
    "\n",
    "# This is the checker code for question 7, keep it\n",
    "answer = (1+ number_of_best_feature) * correlation_between_features\n",
    "score += check(answer, question)"
   ]
  },
  {
   "cell_type": "markdown",
   "metadata": {},
   "source": [
    "Note: For simplicity and because the dataset is tiny, we showed the feature standardization and feature selection steps on the whole dataset. However, those steps should normally be performed on training data first and then applied to test data."
   ]
  },
  {
   "cell_type": "markdown",
   "metadata": {},
   "source": [
    "<div style=\"background:#FFFFAA\"> <h1> Step 2: Metric definition </h1></div>"
   ]
  },
  {
   "cell_type": "markdown",
   "metadata": {},
   "source": [
    "### Question 8: Error rate and accuracy score\n",
    "\n",
    "1. Write a function that implements the error rate metric. Follow this template:\n",
    "\n",
    "```python\n",
    "def error_rate(solution, prediction):\n",
    "# Put your code here.\n",
    "return e\n",
    "```\n",
    "    \n",
    "2. Then write unit tests using the function `assert` that :\n",
    "    1. check that the error rate between `solution=Y` and `prediction=Y` is zero, \n",
    "    2. that between `solution=Y` and `prediction=np.zeros(Y.shape)` is one \n",
    "    3. and the between `solution=Y` and `prediction=np.ones(Y.shape)` is 0.5."
   ]
  },
  {
   "cell_type": "code",
   "execution_count": 16,
   "metadata": {},
   "outputs": [
    {
     "data": {
      "text/html": [
       "<div style=\"background:#FF0000\">BOOOOH<br>:-(</div>"
      ],
      "text/plain": [
       "<IPython.core.display.HTML object>"
      ]
     },
     "metadata": {},
     "output_type": "display_data"
    }
   ],
   "source": [
    "### Answer to question 8\n",
    "question = 8\n",
    "\n",
    "def error_rate(solution, prediction):\n",
    "    '''Compute the error rate between two vectors.'''\n",
    "    e = 0\n",
    "    return e\n",
    "\n",
    "# This is the checker code for question 8, keep it\n",
    "answer = error_rate(Y, Y) + error_rate(Y, np.zeros(Y.shape)) + error_rate(Y, np.ones(Y.shape))\n",
    "score += check(answer, question)"
   ]
  },
  {
   "cell_type": "markdown",
   "metadata": {},
   "source": [
    "The library `scikit_learn` also called `sklearn` has a function `accuracy_score` = `1-error_rate`. You can verify below that we get the same results on the unit tests proposed above. There are many <a href=\"https://scikit-learn.org/stable/modules/model_evaluation.html\">sklearn metrics</a>, we invite you to check them out."
   ]
  },
  {
   "cell_type": "code",
   "execution_count": 17,
   "metadata": {},
   "outputs": [],
   "source": [
    "from sklearn.metrics import accuracy_score\n",
    "#assert(error_rate(Y, Y) == 1-accuracy_score(Y, Y))\n",
    "#assert(error_rate(Y, np.zeros(Y.shape)) == 1-accuracy_score(Y, np.zeros(Y.shape)))\n",
    "#assert(error_rate(Y, np.ones(Y.shape)) == 1-accuracy_score(Y, np.ones(Y.shape)))"
   ]
  },
  {
   "cell_type": "markdown",
   "metadata": {},
   "source": [
    "### Question 9: The metric of your challenge\n",
    "The challenge you have chosen uses a particular metric. The metrics were chosen among: \"balanced_accuracy\", \"balanced_error_rate\", \"auc_metric\", \"f1_score\", \"mean_absolute_error\", and \"r2_metric\". Two important metrics to understand are the AUC (area under <a href=\"https://en.wikipedia.org/wiki/Receiver_operating_characteristic\">ROC curve</a> and the \"r2-metric\" or <a href=\"https://en.wikipedia.org/wiki/Coefficient_of_determination\">coefficient of determination</a>.\n",
    "\n",
    "Click on the <a href=\"http://saclay.chalearn.org/\">websites of this year challenges</a> and go to the \"Evaluation\" tab. Find what the metrics are. Learn about the metric of your own challenge."
   ]
  },
  {
   "cell_type": "code",
   "execution_count": 18,
   "metadata": {},
   "outputs": [
    {
     "data": {
      "text/html": [
       "<div style=\"background:#FF0000\">BOOOOH<br>:-(</div>"
      ],
      "text/plain": [
       "<IPython.core.display.HTML object>"
      ]
     },
     "metadata": {},
     "output_type": "display_data"
    }
   ],
   "source": [
    "### Answer to question 9\n",
    "question = 9\n",
    "\n",
    "gaiasavers_metric = \" \"\n",
    "xporters_metric = \" \"\n",
    "medichal_metric = \" \"\n",
    "\n",
    "# This is the checker code for question 9, keep it\n",
    "my_string = gaiasavers_metric+xporters_metric+medichal_metric\n",
    "answer = int.from_bytes(my_string.encode('utf-8'), \"little\")  \n",
    "\n",
    "score += check(answer, question)"
   ]
  },
  {
   "cell_type": "markdown",
   "metadata": {},
   "source": [
    "<div style=\"background:#FFFFAA\"> <h1> Step 3: Baseline results </h1></div>\n",
    "<p>\n",
    "We are now equipped to try some basic machine learning method to predict what fruit is shown on an image, based on \"redness\" and \"elongation\". We will again use `scikit-learn`. We will split the data into a training set and a test set and see how well we do with the nearest neighbor method. </p>"
   ]
  },
  {
   "cell_type": "code",
   "execution_count": 19,
   "metadata": {},
   "outputs": [
    {
     "name": "stdout",
     "output_type": "stream",
     "text": [
      "TRAIN: [14 19  2 11  3 18 12  5  9  1] TEST: [ 0 17  4 13  6  8  7 16 10 15]\n"
     ]
    }
   ],
   "source": [
    "# Make one training-test split in a stratified manner. \n",
    "# \"Stratified\" means that we preserve the proportion of examples\n",
    "# of apples and bananas in the training and the test set.\n",
    "from sklearn.model_selection import StratifiedShuffleSplit\n",
    "\n",
    "SSS = StratifiedShuffleSplit(n_splits=1, test_size=0.5, random_state=0)\n",
    "for train_index, test_index in SSS.split(X, Y):\n",
    "    print(\"TRAIN:\", train_index, \"TEST:\", test_index)\n",
    "    Xtrain, Xtest = X[train_index], X[test_index]\n",
    "    Ytrain, Ytest = Y[train_index], Y[test_index]"
   ]
  },
  {
   "cell_type": "code",
   "execution_count": 20,
   "metadata": {},
   "outputs": [
    {
     "data": {
      "image/png": "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\n",
      "text/plain": [
       "<matplotlib.figure.Figure at 0x7fb0c5995d68>"
      ]
     },
     "metadata": {},
     "output_type": "display_data"
    }
   ],
   "source": [
    "# Show the training set (first line) and the test set (second line)\n",
    "columns = 10\n",
    "rows = len(a_files+b_files)/columns\n",
    "fig = plt.figure(figsize=(columns, rows))\n",
    "F = np.array(a_files + b_files)\n",
    "for k, filename in enumerate(np.concatenate((F[train_index],F[test_index])), start=1):\n",
    "    img = get_image(filename)\n",
    "    fig.add_subplot(rows, columns, k)\n",
    "    plt.imshow(img) \n",
    "    plt.tick_params(axis='both', labelsize=0, length = 0)\n",
    "    plt.grid(b=False)\n"
   ]
  },
  {
   "cell_type": "code",
   "execution_count": 21,
   "metadata": {},
   "outputs": [
    {
     "data": {
      "image/png": "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\n",
      "text/plain": [
       "<matplotlib.figure.Figure at 0x7fb0c57e7780>"
      ]
     },
     "metadata": {},
     "output_type": "display_data"
    }
   ],
   "source": [
    "# Plot training and test data as heat maps:\n",
    "# (We show the whole code for inspiration...)\n",
    "XY_train = pd.DataFrame(np.append(Xtrain, Ytrain, axis=1), columns=['redness', 'elongation', 'fruit'])\n",
    "XY_test = pd.DataFrame(np.append(Xtest, Ytest, axis=1), columns=['redness', 'elongation', 'fruit'])\n",
    "\n",
    "fig =  plt.figure(figsize=(5,5))\n",
    "fig.subplots_adjust(wspace=1)\n",
    "ax_train = fig.add_subplot(1, 2, 1)\n",
    "sns.heatmap(XY_train, annot=True, fmt='.1f', cmap='RdYlGn')\n",
    "ax_train.title.set_text('Training')\n",
    "\n",
    "ax_test = fig.add_subplot(1, 2, 2)\n",
    "sns.heatmap(XY_test, annot=True, fmt='.1f', cmap='RdYlGn')\n",
    "ax_test.title.set_text('Test')"
   ]
  },
  {
   "cell_type": "code",
   "execution_count": 22,
   "metadata": {},
   "outputs": [
    {
     "data": {
      "image/png": "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\n",
      "text/plain": [
       "<matplotlib.figure.Figure at 0x7fb0c59956a0>"
      ]
     },
     "metadata": {},
     "output_type": "display_data"
    }
   ],
   "source": [
    "# Our own kind of scatter plot...\n",
    "from utilities import make_scatter_plot\n",
    "\n",
    "# Check that this is the same as what we get with pair plots.\n",
    "make_scatter_plot(X, F, train_index, test_index)"
   ]
  },
  {
   "cell_type": "markdown",
   "metadata": {},
   "source": [
    "### Question 10: One nearest neighbor\n",
    "The 1-nearest neighbor classifier is a nice and simple method. Luckily it is implemented in `scikit-learn`. You may also want to implement it yourself as part of your project."
   ]
  },
  {
   "cell_type": "markdown",
   "metadata": {},
   "source": [
    "1. Import the `KNeighborsClassifier` classifier from `scikit-learn`. \n",
    "2. Instanciate a classifier of that class and set the number of neighbors to one. \n",
    "3. Train a model with `Xtrain` by calling the method `fit`. \n",
    "4.  Then use the trained model to create two vectors of prediction `Ytrain_predicted` and `Ytest_predicted` by calling the method `predict`. \n",
    "5. Compute `e_tr`, the training error rate, and `e_tr` the test error rate.\n",
    "\n",
    "**WARNING:** `scikit-learn` uses lists for prediction labels instead of column vectors. You will have to replace `Ytrain` by `Ytrain.ravel()` and `Ytest` by `Ytest.ravel()` to avoid an error message and wrong error rates."
   ]
  },
  {
   "cell_type": "code",
   "execution_count": 23,
   "metadata": {},
   "outputs": [
    {
     "name": "stdout",
     "output_type": "stream",
     "text": [
      "0.5 0.5\n"
     ]
    },
    {
     "data": {
      "text/html": [
       "<div style=\"background:#FF0000\">BOOOOH<br>:-(</div>"
      ],
      "text/plain": [
       "<IPython.core.display.HTML object>"
      ]
     },
     "metadata": {},
     "output_type": "display_data"
    }
   ],
   "source": [
    "### Answer to question 10\n",
    "question = 10\n",
    "\n",
    "### Put your code here\n",
    "Ytrain_predicted = np.ones(Ytrain.shape).ravel()\n",
    "Ytest_predicted = np.ones(Ytest.shape).ravel()\n",
    "e_tr = 0.5\n",
    "e_te = 0.5\n",
    "\n",
    "# This is the checker code for question 10, keep it\n",
    "print(e_tr, e_te)\n",
    "answer = e_tr + e_te\n",
    "score += check(answer, question)"
   ]
  },
  {
   "cell_type": "markdown",
   "metadata": {},
   "source": [
    "### Confusion matrix\n",
    "We can also extract the variables `tn`, `fp`, `fn`, `tp` (true negative, false positive, false negative, and true positive) using the `confusion_matrix` function of `scikit_learn`, for test data predictions. With these values, you can calculate the balanced error rate (`BER`) using the formula seen in class and verify that it gives the same result as `1-balanced_accuracy`.\n",
    "\n",
    "We also provide in `utilities.py` the function `plot_confusion_matrix`, which is in the latest version of scikit-learn (not necessarily in the one you have)."
   ]
  },
  {
   "cell_type": "code",
   "execution_count": 24,
   "metadata": {},
   "outputs": [
    {
     "name": "stdout",
     "output_type": "stream",
     "text": [
      "TP=0, FP=5, FN=0, TP=5\n",
      "Balanced error rate as 0.5*(fp/(tn+fp)+fn/(tp+fn))= 0.5\n",
      "Balanced error rate as 1-balanced_accuracy = 0.5\n",
      "Confusion matrix, without normalization\n",
      "[[0 5]\n",
      " [0 5]]\n"
     ]
    },
    {
     "data": {
      "image/png": "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\n",
      "text/plain": [
       "<matplotlib.figure.Figure at 0x7fb0c59955c0>"
      ]
     },
     "metadata": {},
     "output_type": "display_data"
    },
    {
     "name": "stdout",
     "output_type": "stream",
     "text": [
      "Normalized confusion matrix\n",
      "[[ 0.  1.]\n",
      " [ 0.  1.]]\n"
     ]
    },
    {
     "data": {
      "image/png": "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\n",
      "text/plain": [
       "<matplotlib.figure.Figure at 0x7fb0c4c65320>"
      ]
     },
     "metadata": {},
     "output_type": "display_data"
    }
   ],
   "source": [
    "from sklearn.metrics import confusion_matrix\n",
    "from utilities import plot_confusion_matrix\n",
    "\n",
    "tn, fp, fn, tp = confusion_matrix(Ytest.ravel(), Ytest_predicted).ravel()\n",
    "print(\"TP={}, FP={}, FN={}, TP={}\".format(tn, fp, fn, tp))\n",
    "print(\"Balanced error rate as 0.5*(fp/(tn+fp)+fn/(tp+fn))= {}\".format(0.5*(fp/(tn+fp)+fn/(tp+fn))))\n",
    "print(\"Balanced error rate as 1-balanced_accuracy = {}\".format(1-accuracy_score(Ytest.ravel(), Ytest_predicted)))\n",
    "\n",
    "class_names = np.array([\"apple\", \"banana\"])\n",
    "# Plot non-normalized confusion matrix\n",
    "plot_confusion_matrix(Ytest.ravel(), Ytest_predicted, classes=class_names,\n",
    "                      title='Confusion matrix, without normalization')\n",
    "plt.show()\n",
    "\n",
    "# Plot normalized confusion matrix\n",
    "plot_confusion_matrix(Ytest.ravel(), Ytest_predicted, classes=class_names, normalize=True,\n",
    "                      title='Normalized confusion matrix')\n",
    "plt.show()\n"
   ]
  },
  {
   "cell_type": "markdown",
   "metadata": {},
   "source": [
    "### Let's overlay the predictions on the scatter plot ..."
   ]
  },
  {
   "cell_type": "code",
   "execution_count": 25,
   "metadata": {},
   "outputs": [
    {
     "data": {
      "image/png": "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\n",
      "text/plain": [
       "<matplotlib.figure.Figure at 0x7fb0c4d1b358>"
      ]
     },
     "metadata": {},
     "output_type": "display_data"
    }
   ],
   "source": [
    "make_scatter_plot(X, F, train_index, test_index, predicted_labels=Ytest_predicted)"
   ]
  },
  {
   "cell_type": "markdown",
   "metadata": {},
   "source": [
    "### ... then show the \"ground truth\"\n",
    "We see that there is one apple that was classified as a banana (i.e. one \"false negative\" since the banana class is the \"negative\" class."
   ]
  },
  {
   "cell_type": "code",
   "execution_count": 26,
   "metadata": {},
   "outputs": [
    {
     "data": {
      "image/png": "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\n",
      "text/plain": [
       "<matplotlib.figure.Figure at 0x7fb0c4b98d30>"
      ]
     },
     "metadata": {},
     "output_type": "display_data"
    }
   ],
   "source": [
    "make_scatter_plot(X, F, train_index, test_index, predicted_labels='GroundTruth')"
   ]
  },
  {
   "cell_type": "markdown",
   "metadata": {},
   "source": [
    "<div style=\"background:#FFFFAA\"> <h1> Step 4: Error bar </h1></div>\n",
    "<p>\n",
    "    To compute the error bar we repeat multiple times the train/test split and compute the mean and standard deviation of the test error. This takes into account both the variability of the training set and that of the test set. But is is known to be a biased estimator of the error variability because there is a large overlap between the training sets and the test sets in each split. However, it is pretty much the best we can do to compute error bars.\n",
    "    </p>"
   ]
  },
  {
   "cell_type": "code",
   "execution_count": 27,
   "metadata": {},
   "outputs": [
    {
     "name": "stdout",
     "output_type": "stream",
     "text": [
      "TRAIN: [19 14  6  3  8 12  2  5 17 15] TEST: [ 9 13 16  4  7  1 11 18 10  0]\n",
      "TEST ERROR RATE: 0\n",
      "TRAIN: [10 16  2 11 15  3  1  6 17  0] TEST: [14 13  7 12 18  9  5  4  8 19]\n",
      "TEST ERROR RATE: 0\n",
      "TRAIN: [ 4 11  5 19 12 15  9 13  8  1] TEST: [ 3 17 14  2  7 18  6 16 10  0]\n",
      "TEST ERROR RATE: 0\n",
      "TRAIN: [10 13 15  6  5 17  0 16  9  7] TEST: [11  3  8 14 18 19  1 12  2  4]\n",
      "TEST ERROR RATE: 0\n",
      "TRAIN: [19  6  5 13 14  4  8 11  0 12] TEST: [ 7 17 15 10  3 18 16  2  1  9]\n",
      "TEST ERROR RATE: 0\n",
      "TRAIN: [ 4  6 12  8  0 10 18  7 13 19] TEST: [ 1 16  3  2 14 15  5 17 11  9]\n",
      "TEST ERROR RATE: 0\n",
      "TRAIN: [10 18 12  6  7 13  8  4 14  9] TEST: [17  0 11 19  5 15  1 16  3  2]\n",
      "TEST ERROR RATE: 0\n",
      "TRAIN: [ 3 10  7 15  2 16  8 18  6 13] TEST: [ 9  5 19 11 14 17 12  1  4  0]\n",
      "TEST ERROR RATE: 0\n",
      "TRAIN: [ 3  7  8 14  1 16 15 10 12  4] TEST: [ 9 11  2 17 13 19 18  5  6  0]\n",
      "TEST ERROR RATE: 0\n",
      "TRAIN: [18 10  4  8 17  7 12 13  2  9] TEST: [ 1  0 11 14 15  5 19  6 16  3]\n",
      "TEST ERROR RATE: 0\n",
      "\n",
      "\n",
      "MEAN ERROR RATE = 0.00\n",
      "STANDARD DEVIATION = 0.00\n"
     ]
    }
   ],
   "source": [
    "from sklearn.neighbors import KNeighborsClassifier\n",
    "\n",
    "neigh = KNeighborsClassifier(n_neighbors=1)\n",
    "n = 10\n",
    "SSS = StratifiedShuffleSplit(n_splits=n, test_size=0.5, random_state=5)\n",
    "E = np.zeros([n,1])\n",
    "k = 0\n",
    "for train_index, test_index in SSS.split(X, Y):\n",
    "    print(\"TRAIN:\", train_index, \"TEST:\", test_index)\n",
    "    Xtrain, Xtest = X[train_index], X[test_index]\n",
    "    Ytrain, Ytest = Y[train_index], Y[test_index]\n",
    "    neigh.fit(Xtrain, Ytrain.ravel()) \n",
    "    Ytrain_predicted = neigh.predict(Xtrain)\n",
    "    Ytest_predicted = neigh.predict(Xtest)\n",
    "    e_te = error_rate(Ytest.ravel(), Ytest_predicted)\n",
    "    print(\"TEST ERROR RATE:\", e_te)\n",
    "    E[k] = e_te\n",
    "    k = k+1\n",
    "    \n",
    "e_te_ave = np.mean(E)\n",
    "print(\"\\n\\nMEAN ERROR RATE ={0:5.2f}\".format(e_te_ave))\n",
    "print(\"STANDARD DEVIATION ={0:5.2f}\".format(np.std(E)))"
   ]
  },
  {
   "cell_type": "code",
   "execution_count": 12,
   "metadata": {},
   "outputs": [
    {
     "name": "stdout",
     "output_type": "stream",
     "text": [
<<<<<<< HEAD
      "Your final score is 5 / 10, congratulations!\n"
=======
      "Your final score is 6 / 10, congratulations!\n"
>>>>>>> 00ba44dbd9172a07fe9391baa749946d2b521674
     ]
    }
   ],
   "source": [
    "print('Your final score is %d / 10, congratulations!' % score)"
   ]
  },
  {
   "cell_type": "markdown",
   "metadata": {},
   "source": [
    "<div style=\"background:#FFFFAA\">\n",
    "<span style=\"color:red\">\n",
    "<br>\n",
    "    To finalize your homework:\n",
    "<b>\n",
    "<ul>\n",
    "    <li> Use  Kernel + Restart and Run all.</li>\n",
    "    <li> Save your notebook.</li>\n",
    "    <li> Push your changes to your GitHub repo with:</li>\n",
    "</ul>   \n",
    "</b>\n",
    "<pre>\n",
    "git add .\n",
    "git commit -m 'my homework is done'\n",
    "git push\n",
    "</pre>\n",
    "<br>\n",
    "</span>\n",
    "</div>"
   ]
  },
  {
   "cell_type": "code",
   "execution_count": null,
   "metadata": {},
   "outputs": [],
   "source": []
  }
 ],
 "metadata": {
  "kernelspec": {
   "display_name": "Python 3",
   "language": "python",
   "name": "python3"
  },
  "language_info": {
   "codemirror_mode": {
    "name": "ipython",
    "version": 3
   },
   "file_extension": ".py",
   "mimetype": "text/x-python",
   "name": "python",
   "nbconvert_exporter": "python",
   "pygments_lexer": "ipython3",
   "version": "3.6.8"
  },
  "toc": {
   "nav_menu": {},
   "number_sections": false,
   "sideBar": true,
   "skip_h1_title": false,
   "toc_cell": false,
   "toc_position": {},
   "toc_section_display": "block",
   "toc_window_display": true
  }
 },
 "nbformat": 4,
 "nbformat_minor": 2
}
