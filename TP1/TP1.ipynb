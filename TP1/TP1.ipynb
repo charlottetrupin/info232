{
 "cells": [
  {
   "cell_type": "markdown",
   "metadata": {},
   "source": [
    "<div>\n",
    "<img src=\"mini-dataset/a1.png\", width=32, ALIGN=\"left\">\n",
    "<center>\n",
    "<h1>Mini Projets 2019-2020 (Info 232)</h1>\n",
    "Isabelle Guyon <br>\n",
    "info232@chalearn.org <br>\n",
    "</center>\n",
    "<span style=\"color:red\"> <h1> 1 . Workflow </h1> </span>\n",
    "    \n",
    "<p> Become a data scientist is one hour: learn about the basic workflow of data science:\n",
    "    <ol>\n",
    "        <li> Visualisation </li>\n",
    "        <li> Metric definition </li>\n",
    "        <li> Baseline results </li>\n",
    "        <li> Error bars </li>\n",
    "    </ol>\n",
    "    </p>\n",
    "</div>\n",
    "<div style=\"background:#FFFFAA\">\n",
    " This TP gives you 5 points if you answer well at least 5 questions. However we encourage you answer all questions: they are meant to give you ideas you can use later in your projects. If you cannot, get help by attending the Wednesday session.\n",
    "    \n",
    "<span style=\"color:red\"> <b>Save your notebook often with menu File + Save and Checkpoint.</b>\n",
    "<br> <b>Before you push your homework to your GitHub repo, use  Kernel + Restart and Run all.</b>\n",
    "</span>\n",
    "    </div>"
   ]
  },
  {
   "cell_type": "code",
   "execution_count": 21,
   "metadata": {},
   "outputs": [
    {
     "name": "stdout",
     "output_type": "stream",
     "text": [
      "The autoreload extension is already loaded. To reload it, use:\n",
      "  %reload_ext autoreload\n"
     ]
    }
   ],
   "source": [
    "# Load general libraries\n",
    "import os, re\n",
    "from glob import glob as ls\n",
    "from PIL import Image\n",
    "import matplotlib.pyplot as plt\n",
    "%matplotlib inline\n",
    "%load_ext autoreload\n",
    "%autoreload 2\n",
    "\n",
    "### Add path to the sample code so the notebook finds it:\n",
    "code_dir = 'code/'                        \n",
    "from sys import path; path.append(code_dir)\n",
    "#import utilities as ut\n",
    "from utilities import get_image\n",
    "from utilities import get_files\n",
    "# Import code that checks your answers\n",
    "from checker import check \n",
    "# Disable some warnings\n",
    "import warnings\n",
    "warnings.simplefilter(action='ignore', category=FutureWarning) "
   ]
  },
  {
   "cell_type": "markdown",
   "metadata": {},
   "source": [
    "<div style=\"background:#FFFFAA\"> <h1> Step 1: Data visualisation and preprocessing </h1>\n",
    "    </div>\n",
    "    \n",
    "<p>\n",
    "This first par guides you through a example of reading and preprocessing a small image dataset. Read the code below and try to understand it.\n",
    "    </p>"
   ]
  },
  {
   "cell_type": "code",
   "execution_count": 22,
   "metadata": {},
   "outputs": [
    {
     "data": {
<<<<<<< HEAD
      "image/png": "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\n",
=======
      "image/png": "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\n",
>>>>>>> 258fd7d00c5287cf4713a1cb27f124e7bd0af5f4
      "text/plain": [
       "<matplotlib.figure.Figure at 0x7f3b7a037390>"
      ]
     },
     "metadata": {},
     "output_type": "display_data"
    }
   ],
   "source": [
    "data_dir = './mini-dataset'\n",
    "a_files = get_files(data_dir, 'a')\n",
    "b_files = get_files(data_dir, 'b')\n",
    "columns = 10\n",
    "rows = len(a_files+b_files)/columns\n",
    "fig = plt.figure(figsize=(columns, rows))\n",
    "k=1\n",
    "for filename in a_files+b_files:\n",
    "    img = get_image(filename)\n",
    "    fig.add_subplot(rows, columns, k)\n",
    "    plt.imshow(img) \n",
    "    plt.tick_params(axis='both', labelsize=0, length = 0)\n",
    "    plt.grid(b=False)\n",
    "    k=k+1"
   ]
  },
  {
   "cell_type": "markdown",
   "metadata": {},
   "source": [
    "## Feature extraction\n",
    "Data often come already in a feature representation, but not always. As an exercise, we are going to guide you through a simple feature extraction process."
   ]
  },
  {
   "cell_type": "markdown",
   "metadata": {},
   "source": [
    "### Question 1: Load an image\n",
    "\n",
    "1. Create a variable called `apple_example` and assign it the name of the first file in the list `a_files`. \n",
    "2. Create a variable `img` and assign it the corresponding image read from that file using the function `get_image`. \n",
    "\n",
    "`img` is a PIL image. PIL is a nice library to manipulate images, but data scientists often prefer using Numpy arrays. Fortunately it is easy to convert one to the other. \n",
    "\n",
    "3. Create a variable called `M` and assign it a <a href=\"https://docs.scipy.org/doc/numpy/reference/generated/numpy.array.html\">numpy array</a> containing `img` (this is called \"casting\"). Assign to three variables `imw`, `imh`, `nchannels` the dimensions (<a href=\"https://docs.scipy.org/doc/numpy/reference/generated/numpy.ndarray.shape.html\">shape</a>) of `M`. \n",
    "4. Then print `imw`, `imh`, and `nchannels`. \n",
    "\n",
    "You will notice that there are 4 channels, what are those channels? Try to remember or check your class notes.\n",
    "\n",
    "Tip: To answer this kind of question, you need to read the documentation of numpy arrays."
   ]
  },
  {
   "cell_type": "code",
<<<<<<< HEAD
   "execution_count": 20,
=======
   "execution_count": 3,
>>>>>>> 258fd7d00c5287cf4713a1cb27f124e7bd0af5f4
   "metadata": {},
   "outputs": [
    {
     "name": "stdout",
     "output_type": "stream",
     "text": [
      "0 0 0\n"
     ]
    },
    {
     "data": {
      "text/html": [
       "<div style=\"background:#FF0000\">BOOOOH<br>:-(</div>"
      ],
      "text/plain": [
       "<IPython.core.display.HTML object>"
      ]
     },
     "metadata": {},
     "output_type": "display_data"
    },
    {
     "data": {
<<<<<<< HEAD
      "image/png": "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\n",
=======
      "image/png": "iVBORw0KGgoAAAANSUhEUgAAAQkAAAD7CAYAAAB5RWHCAAAABHNCSVQICAgIfAhkiAAAAAlwSFlzAAALEgAACxIB0t1+/AAAADh0RVh0U29mdHdhcmUAbWF0cGxvdGxpYiB2ZXJzaW9uMy4xLjEsIGh0dHA6Ly9tYXRwbG90bGliLm9yZy8QZhcZAAAOHUlEQVR4nO3df4xdZZ3H8fe0G0kEBGwKSKUgtv1q0CxbJBvjsiYbFCWRoMKWhh9L1mj9EfjDNCFiosQE0wh/YAVSolkBl/SPhoQ1SCBushiqkkCkMfjjSxFKu20JZcRITagyM/vHPbO5TO88nc45996ew/uVTObc5zz3Ps+TQz/cc+6d852YmZlBkuazZNwTkHRsMyQkFRkSkooMCUlFhoSkor8b9wQW4DjgAmA/MDXmuUhdtRR4F/AkcKh/RxtC4gLg8XFPQnqLuBDY3t/QhpDYD/Dqq39hevrN3+lYtuwEJicPjmVSw+S62qfta1uyZIJTTjkeqn9v/WqHRESsAe4FlgGTwLWZuXNOn6XAZuATwAywKTN/sMAhpgCmp2cOC4nZ9i5yXe3TkbUddkrfxIXLLcCdmbkGuBO4e0Cfq4BVwGrgw8DNEXF2A2NLGrJaIRERpwJrga1V01ZgbUQsn9N1HfD9zJzOzAPAg8AVdcaWNBp1TzfOBPZm5hRAZk5FxL6q/UBfv5XAi32Pd1d9FmzZshMGti9ffuLRvExruK726era2nDhEoDJyYOHnfMtX34iBw68NqYZDY/rap+2r23Jkol5/0dc95rEHmBFdWFy9gLlGVV7v93AWX2PVw7oI+kYVCskMvNlYAewvmpaDzxdXXfotw34fEQsqa5XXAY8UGdsSaPRxKcbXwSuj4hngeurx0TEwxHxoarPj4DngZ3AE8C3MvP5BsaWNGS1r0lk5u+BfxzQfknf9hTwpbpjSRo9/8BLUpEhIanIkJBUZEhIKjIkJBUZEpKKDAlJRYaEpCJDQlKRISGpyJCQVGRISCoyJCQVGRKSigwJSUWGhKQiQ0JSkSEhqajW7esiYhm9+1e+l14l4ueADXNvhBsR9wAXAa9UTdsy85Y6Y0sajbr3uJwBvpOZjwFExK3AJuBzA/puysw7ao4nacRqhURm/hF4rK/pCbzhrdQpjVXwiogl9ALix/N0+WpEbAD+AHwtM393NK9vmb9u6Oq6oLtra7LM3/eAg8CgU4qvA/szczoirgUeiYhzZmuILoRl/tqvq+uC9q9tmGX+AIiI24DVwLrMnJ67PzP3zrZn5n3ACcC7mxhb0nDVDomIuAU4H7gsMw/N02dF3/bFwBSwt+7Ykoav7keg5wI3Ac8Cv4gIgBcy89MRsQO4JDP3AfdGxGnANPBn4NLMfKPe1CWNQt1PN34DTMyz77y+7YvqjCNpfPzGpaQiQ0JSkSEhqciQkFRkSEgqMiQkFRkSkooMCUlFhoSkIkNCUpEhIanIkJBUZEhIKjIkJBUZEpKKDAlJRYaEpCJDQlJR7VvqR8Qu4PXqB+DGzHx0Tp+3Az+kd8PcN4CNmflQ3bElDV9TdTcuz8xnCvs3Aq9l5qqIWA08HhGrMvNgQ+NLGpJRnW6sA7YAZOZO4CngkyMaW1INTb2TuD8iJoDtwE2Z+ac5+1cCL/Y93g2c2dDYkoaoiZC4MDP3RMRxwO30yvxd3cDrvom1QLuhq+uC7q6tdkhk5p7q96GIuIvBBYN3A2cBB6rHK4H/OZpxrAXafl1dF7R/bUOrBRoRx0fESdX2BHAlsGNA123AhqrfauAC4JE6Y0sajboXLk8DHouIXwPPAGuALwNExI6IOKPqdytwckQ8BzwEfCEz2xu70ltI3TJ/zwP/MM++/jJ/fwGuqDOWpPHwG5eSigwJSUWGhKQiQ0JSkSEhqciQkFRkSEgqMiQkFRkSkooMCUlFhoSkIkNCUpEhIanIkJBUZEhIKjIkJBUZEpKKDAlJRbVuXxcRZwMP9jWdDLwjM985p9/N9O59ua9q+nlmfqXO2JJGo+49LncB/38vy4i4vfCa92XmxjrjSRq9pip4ERFvA64CLm7qNSWNX2MhAVwK7M3MX82z/8qI+DjwEvDNzPxlg2NLGpKJmZmZI/dagIh4GHgkMzcP2Hc6MJmZf4uIjwH3A+/PzMkFvPTZwAuNTFLSkbwH2NXf0Mg7iaoIz0eBawbtz8yX+rZ/GhF7gA8AP1voGJb5a7+urgvav7ahlfnrcx3wk/neGUTEir7t8+i9O8iGxpY0RE1dk7gOuKG/oTr9+EZmPgV8OyLOB6aAvwLX9L+7kHTsaiQkMnPNgLZL+rb/rYlxJI2e37iUVGRISCoyJCQVGRKSigwJSUWGhKQiQ0JSkSEhqciQkFRkSEgqMiQkFRkSkooMCUlFhoSkIkNCUpEhIanIkJBUZEhIKjri7esi4jbgs/RuXvvBzHymal8D3AssAyaBazNz54DnLwU2A58AZoBNmfmDphYgabgW8k7iQeCfgRfntG8B7qzub3kncPc8z78KWAWsBj4M3FzVEJXUAkcMiczcnpl7+tsi4lRgLbC1atoKrI2I5QNeYh3w/cyczswD9ELninrTljQqi70mcSa9kn5TANXvfVX7XCt587uQ3fP0k3QMarIW6FDNV11o+fITRzyT0XBd7dPVtS02JPYAKyJiaWZOVRcnz6ja59oNnAU8WT2e+85iQSzz135dXRe0f22Nl/nLzJeBHcD6qmk98HR1zWGubcDnI2JJdc3iMuCBxYwrafSOGBIRsTki/hd4N/DfEfGbatcXgesj4lng+urx7HMejogPVQ9/BDwP7ASeAL6Vmc83uAZJQzQxMzNz5F7jdTbwgqcb7dfVdUH719Z3uvEeYNeb9o1jQpLaw5CQVGRISCoyJCQVGRKSigwJSUWGhKQiQ0JSkSEhqciQkFRkSEgqMiQkFRkSkooMCUlFhoSkIkNCUpEhIanIkJBUZEhIKlrQLfUH1QONiGX0bnL7XuAQ8BywYdAdsyPiHuAi4JWqaVtm3lJ79pKGbqF1Nx4Evgs83tc2A3wnMx8DiIhbgU3A5+Z5jU2Zecci5ylpTBYUEpm5HSAi+tv+CDzW1+0J4EsNzk3SMaCRMn8RsYReQPy40O2rEbEB+APwtcz83dGMYZm/bujquqC7a2uqFuj3gIPAfKcTXwf2Z+Z0RFwLPBIR58wWHF4I6260X1fXBe1fW+Nl/vpVFzVXA+syc3pQn8zcO7svM+8DTqBXEUzSMa5WSETELcD5wGWZeajQb0Xf9sXAFLC3ztiSRmOhH4FuBj4DnE6vHugk8K/ATcCzwC+qi5ovZOanq+fsAC7JzH3AvRFxGjAN/Bm4NDPfaHoxkppnLdBjkOtqn7avzVqgkhbNkJBUZEhIKjIkJBUZEpKKDAlJRYaEpCJDQlKRISGpyJCQVGRISCoyJCQVGRKSigwJSUWGhKQiQ0JSkSEhqciQkFS06DJ/Vfsu4PXqB+DGzHx0wPPfDvyQ3k1z3wA2ZuZDNecuaQTqlPmbdflsaBRsBF7LzFURsRp4PCJWZebBo5irpDFY0OlGZm7PzD01xlkHbKleayfwFPDJGq8naUSaqOB1f0RMANuBmzLzTwP6rARe7Hu8GzjzaAaxzF83dHVd0N211Q2JCzNzT0QcB9xOr8zf1fWndThvqd9+XV0XtH9tQyvzN3sKUlXvugv4yDxddwNn9T1eCdQ5fZE0IosOiYg4PiJOqrYngCuBHfN03wZsqPquBi4AHlns2JJGp06Zv08BD0TEUmAp8Fvgy33P6S/zdytwT0Q8R68O6Bcys73vzaS3EMv8HYNcV/u0fW2W+ZO0aIaEpCJDQlKRISGpyJCQVGRISCoyJCQVGRKSigwJSUWGhKQiQ0JSkSEhqciQkFRkSEgqMiQkFRkSkooMCUlFhoSkokWX+YuIs+lV9pp1MvCOzHzngOffTO/+l/uqpp9n5lcWP21Jo7LoMn+ZuQs4b/ZxRNx+hNe7LzM3LmKOksZoQSGRmdsBImLg/oh4G3AVcHFjM5N0TGiizB/ApcDezPxVoc+VEfFx4CXgm5n5y4bGljRETYXEvwP/Udi/BbglM/8WER8D/isi3p+ZkwsdwFqg3dDVdUF311Y7JCLiDOCjwDXz9cnMl/q2fxoRe4APAD9b6DjW3Wi/rq4L2r+2odUCrVwH/KT0riAiVvRtn0fvU5JsYGxJQ7boMn+ZeW61+zrghgHPeRj4RmY+BXw7Is6nV+Lvr8A1/e8uJB27LPN3DHJd7dP2tVnmT9KiGRKSigwJSUWGhKQiQ0JSkSEhqciQkFRkSEgqMiQkFRkSkooMCUlFhoSkIkNCUpEhIanIkJBU1NQ9LodpKfT+3n2Q+drbznW1T5vX1jf3pXP3teGmM/9EX70PSUN1IbC9v6ENIXEccAGwn97t7yQ1bynwLuBJ4FD/jjaEhKQx8sKlpCJDQlKRISGpyJCQVGRISCoyJCQVGRKSitrwtezDRMQa4F5gGTAJXJuZO8c7q/oiYhfwevUDcGNmPjq2CS1SRNwGfJZeicYPZuYzVXvrj1thbbvowLEbpJUhAWwB7szM/4yIq4G7gX8Z85yacvnsf3gt9iDwXQ7/On0Xjtt8a4NuHLvDtO50IyJOBdYCW6umrcDaiFg+vlmpX2Zuz8w9/W1dOW6D1tZ1rQsJ4Exgb2ZOAVS/91XtXXB/RPw6Iu6KiJPHPZkGdf24QUePXRtDossuzMy/p/cHbRPAHWOejxaus8eujSGxB1gREUsBqt9nVO2tNvs2NjMPAXcBHxnvjBrV2eMG3T52rQuJzHwZ2AGsr5rWA09n5oHxzaq+iDg+Ik6qtieAK+mtsxO6etyg+8eulX8qHhHvo/dR2inAq/Q+SsvxzqqeiDgHeIDe3/UvBX4L3JCZ+8c6sUWIiM3AZ4DTgVeAycw8twvHbdDagE/RkWM3SCtDQtLotO50Q9JoGRKSigwJSUWGhKQiQ0JSkSEhqciQkFRkSEgq+j8UXNZdrfxJBQAAAABJRU5ErkJggg==\n",
>>>>>>> 258fd7d00c5287cf4713a1cb27f124e7bd0af5f4
      "text/plain": [
       "<matplotlib.figure.Figure at 0x7f3ba85f0400>"
      ]
     },
     "metadata": {},
     "output_type": "display_data"
    }
   ],
   "source": [
    "### Answer question 1\n",
    "question = 1\n",
    "import numpy as np         # This is needed to import Numpy\n",
    "apple_example = \"\"\n",
    "img = []\n",
    "M = np.zeros([20,20,4])\n",
    "imw, imh, nchannels = 0, 0, 0\n",
    "\n",
    "print(imw, imh, nchannels)\n",
    "plt.imshow(M) # This shows the image as a numpy array\n",
    "\n",
    "# This is the checker code, keep it\n",
    "answer = int.from_bytes(apple_example.encode('utf-8'), \"little\")+imw * imh + nchannels  \n",
    "score = 0\n",
    "score += check(answer, question)\n",
    "\n"
   ]
  },
  {
   "cell_type": "markdown",
   "metadata": {},
   "source": [
    "### Foreground and background colors\n",
    "The variable `white` has the color of pure white and a variable `red`the color of pure red (with transparency set to 255 in both cases).\n",
    "\n",
    "We can examine the colors of the foreground and the background as the channel values of `M[15, 15]`and `M[0, 0]` respectively. Do the color of the foreground and the background match your expectations?"
   ]
  },
  {
   "cell_type": "code",
<<<<<<< HEAD
   "execution_count": 23,
=======
   "execution_count": 4,
>>>>>>> 258fd7d00c5287cf4713a1cb27f124e7bd0af5f4
   "metadata": {},
   "outputs": [
    {
     "name": "stdout",
     "output_type": "stream",
     "text": [
      "White = [255, 255, 255, 255]\n",
      "red = [255, 0, 0, 255]\n",
      "Foreground = [0. 0. 0. 0.]\n",
      "Background = [0. 0. 0. 0.]\n"
     ]
    }
   ],
   "source": [
    "white = [255, 255, 255, 255]\n",
    "red = [255, 0, 0, 255]\n",
    "print(\"White = {}\".format(white))\n",
    "print(\"red = {}\".format(red))\n",
    "print(\"Foreground = {}\".format(M[15, 15]))\n",
    "print(\"Background = {}\".format(M[0, 0]))"
   ]
  },
  {
   "cell_type": "markdown",
   "metadata": {},
   "source": [
    "### Question 2: Separate color channels\n",
    "\n",
    "1. Define three arrays of type `float` named `R`, `G`, and `B`, containing the red, green and blue channels respectively (for all pixels)\n",
    "2. Then define an array `D` (color difference) containing `R-(G+B)/2` \n",
    "3. and an array `V` (value of intensity) containing `(R+G+B)/3`.\n",
    "\n",
    "Important: R, G, and B should be transformed to float to get correct results."
   ]
  },
  {
   "cell_type": "code",
<<<<<<< HEAD
   "execution_count": 24,
=======
   "execution_count": 5,
>>>>>>> 258fd7d00c5287cf4713a1cb27f124e7bd0af5f4
   "metadata": {},
   "outputs": [
    {
     "data": {
      "text/html": [
       "<div style=\"background:#FF0000\">BOOOOH<br>:-(</div>"
      ],
      "text/plain": [
       "<IPython.core.display.HTML object>"
      ]
     },
     "metadata": {},
     "output_type": "display_data"
    }
   ],
   "source": [
    "### Answer to question 2\n",
    "question = 2\n",
    "R = np.ones(1) \n",
    "G = np.ones(1)  \n",
    "B = np.ones(1)  \n",
    "D = R+G\n",
    "V = B-G\n",
    "\n",
    "# This is the checker code, keep it\n",
    "answer = np.sum(np.diag(D+V))\n",
    "score += check(answer, question)"
   ]
  },
  {
   "cell_type": "markdown",
   "metadata": {},
   "source": [
    "### Question 3: Extraction of the `redness` feature\n",
    "\n",
    "1. Create a variable `redness` containing the average (mean) of `D` for the foreground pixels.\n",
    "\n",
    "Hint: The can be done by selecting the foreground pixels, i.e. those that are not `255` (white). You can do that with just one <a href=\"https://www.pythonlikeyoumeanit.com/Module3_IntroducingNumpy/BasicIndexing.html\"> advanced indexing</a> command.\n",
    "\n",
    "2. Check that your definition of redness matches `fg_r - (fg_g + fg_b)/2`. \n",
    "3. As a side question: try to define `whiteness = bg_r - (bg_g + bg_b)/2`. \n",
    "    1. Why do you get an error? \n",
    "    2. Why did you get no error for `fg_r - (fg_g + fg_b)/2`? \n",
    "    3. How can you do this \"right\"? Hint: rgb channels are defined as `integers`."
   ]
  },
  {
   "cell_type": "code",
<<<<<<< HEAD
   "execution_count": 27,
=======
   "execution_count": 6,
>>>>>>> 258fd7d00c5287cf4713a1cb27f124e7bd0af5f4
   "metadata": {},
   "outputs": [
    {
     "name": "stdout",
     "output_type": "stream",
     "text": [
      "0\n"
     ]
    },
    {
     "data": {
      "text/html": [
       "<div style=\"background:#FF0000\">BOOOOH<br>:-(</div>"
      ],
      "text/plain": [
       "<IPython.core.display.HTML object>"
      ]
     },
     "metadata": {},
     "output_type": "display_data"
    }
   ],
   "source": [
    "### Answer to question 3\n",
    "question = 3\n",
    "redness = 0\n",
    "\n",
    "print(redness)\n",
    "# This checks the correctness of your answer\n",
    "fg_r, fg_g, fg_b, fg_a = M[15, 15]\n",
    "assert(redness == fg_r - (fg_g + fg_b)/2)\n",
    "bg_r, bg_g, bg_b, bg_a = M[0, 0]\n",
    "# Uncomment this to see that you get an error\n",
    "#whiteness = bg_r - (bg_g + bg_b)/2\n",
    "\n",
    "# This is the checker code, keep it\n",
    "answer = redness\n",
    "score += check(answer, question)\n",
    "\n"
   ]
  },
  {
   "cell_type": "markdown",
   "metadata": {},
   "source": [
    "### Question 4: Extraction of the `elongation` feature\n",
    "\n",
    "1. Create two mean vectors `V0` and `V1` by averaging (taking the mean) of `V` along axis 0 and axis 1 respectively. \n",
    "2. Then use this line of code `V0_idx = [i for i in range(imw) if V0[i]!=255]` to get the indices of the values that are not white along axis 0 (horizontal). \n",
    "3. Similarly write code to extract `V1_idx` (pixels not white along axis 2, vertical).\n",
    "4. Extract from those information on the witdth `w` and the height `h` of the apple. \n",
    "5. Visually check that the width and height are correct. Finally compute the `elongation` variable (aspect ratio) as `w/h`."
   ]
  },
  {
   "cell_type": "code",
<<<<<<< HEAD
   "execution_count": 28,
=======
   "execution_count": 7,
>>>>>>> 258fd7d00c5287cf4713a1cb27f124e7bd0af5f4
   "metadata": {},
   "outputs": [
    {
     "name": "stdout",
     "output_type": "stream",
     "text": [
      "0 0 0\n"
     ]
    },
    {
     "data": {
      "text/html": [
       "<div style=\"background:#FF0000\">BOOOOH<br>:-(</div>"
      ],
      "text/plain": [
       "<IPython.core.display.HTML object>"
      ]
     },
     "metadata": {},
     "output_type": "display_data"
    }
   ],
   "source": [
    "### Answer to question 4\n",
    "question = 4\n",
    "\n",
    "V0 = np.zeros([imw])\n",
    "V1 = np.zeros([imh])\n",
    "V0_idx = [i for i in range(imw) if V0[i]!=255]\n",
    "V1_idx = [i for i in range(imh) if V1[i]!=255]\n",
    "w = 0\n",
    "h = 0\n",
    "elongation =0 \n",
    "print(w, h, elongation)\n",
    "\n",
    "# This is the checker code, keep it\n",
    "answer = w+h-elongation\n",
    "score += check(answer, question)"
   ]
  },
  {
   "cell_type": "markdown",
   "metadata": {},
   "source": [
    "### Question 5: Function `extract_features`\n",
    "\n",
    "1. Write a function with `M` as an input argument and that takes all the steps we walked you through, then returns `redness` and `elongation` as a list. You will use the following template:\n",
    "\n",
    "```python\n",
    "def extract_features(M, verbose = True):\n",
    "# Put your code here.\n",
    "# verbose is just a flag you can use to comment out print statements needed to debug your code\n",
    "return [redness, elongation]\n",
    "```"
   ]
  },
  {
   "cell_type": "code",
<<<<<<< HEAD
   "execution_count": 29,
=======
   "execution_count": 8,
>>>>>>> 258fd7d00c5287cf4713a1cb27f124e7bd0af5f4
   "metadata": {},
   "outputs": [],
   "source": [
    "### Answer to question 5\n",
    "question = 5\n",
    "\n",
    "def extract_features(M, verbose = True):\n",
<<<<<<< HEAD
    "    R = 1.*M[:,:,0]; G = 1.*M[:,:,1]; B = 1.*M[:,:,2]\n",
    "    D = R-(G+B)/2\n",
    "    V = (R+G+B)/3\n",
    "    imw,imh = V.shape\n",
    "    redness = np.mean(D[V!=0])\n",
    "    V0 = np.mean(V, axis = 0)\n",
    "    V1 = np.mean(V,axis = 1)\n",
    "    V0_idx = [i for i in range(imw) if V0[i]!=255]\n",
    "    V1_idx = [i for i in range(imh) if V1[i]!=255]\n",
    "    w = max(V0_idx)-min(V0_idx)\n",
    "    h = max(V1_idx)-min(V1_idx)\n",
    "    elongation = w/h\n",
    "    return [redness, elongation]\n",
    "\n"
=======
    "    redness = 0\n",
    "    elongation = 0\n",
    "    return [redness, elongation]"
>>>>>>> 258fd7d00c5287cf4713a1cb27f124e7bd0af5f4
   ]
  },
  {
   "cell_type": "markdown",
   "metadata": {},
   "source": [
    "## Preprocess and visualize all the data\n",
    "To go a little bit faster, we give you the code to preprocess all the dataset in the next few cells. Check that you understand it."
   ]
  },
  {
   "cell_type": "code",
<<<<<<< HEAD
   "execution_count": 30,
=======
   "execution_count": 9,
>>>>>>> 258fd7d00c5287cf4713a1cb27f124e7bd0af5f4
   "metadata": {},
   "outputs": [
    {
     "data": {
      "text/html": [
       "<div style=\"background:#00FF00\">CORRECT<br>:-)</div>"
      ],
      "text/plain": [
       "<IPython.core.display.HTML object>"
      ]
     },
     "metadata": {},
     "output_type": "display_data"
    }
   ],
   "source": [
    "# Create a big data matrix with all a_files and b_files\n",
    "verbose = False\n",
    "n = len(a_files)\n",
    "_X = np.zeros([2*n, 2])\n",
    "Y = np.zeros([2*n, 1])\n",
    "\n",
    "# Read and convert a_files\n",
    "for i in range(n):\n",
    "    if verbose: print(a_files[i])\n",
    "    img = get_image(a_files[i])\n",
    "    M = np.array(img)\n",
    "    _X[i, :] = extract_features(M, verbose)\n",
    "    Y[i] = 1 # Apples are labeled 1\n",
    "\n",
    "# Read and convert b_files\n",
    "for i in range(n):\n",
    "    if verbose: print(b_files[i])\n",
    "    img = get_image(b_files[i])\n",
    "    M = np.array(img)\n",
    "    _X[n+i, :] = extract_features(M, verbose)\n",
    "    Y[n+i] = -1 # Bananas are labeled -1\n",
    "\n",
    "# This is the checker code for question 5, keep it\n",
    "answer = np.sum(_X[1,:])+ np.sum(_X[-1,:])\n",
    "score += check(answer, question)"
   ]
  },
  {
   "cell_type": "markdown",
   "metadata": {},
   "source": [
    "## Pandas data frames, heatmaps, and pairplot\n",
    "We already used Pandas dataframes in TP1. Data scientists like them too. Fortunately it is easy to move back and forth from Numpy arrays to Pandas dataframes. Pandas allows you to easily show arrays as heat maps.\n",
    "\n",
    "Sometimes datasets are large. You can create a heat map from the top row of your data frame with a command like `_XY.head().style.background_gradient(cmap='Blues')`. Try it!"
   ]
  },
  {
   "cell_type": "code",
   "execution_count": 31,
   "metadata": {},
   "outputs": [
    {
     "data": {
      "text/html": [
       "<style  type=\"text/css\" >\n",
       "    #T_dbdef4ce_3f92_11ea_a64b_1063c89610e1row0_col0 {\n",
       "            background-color:  #08306b;\n",
       "        }    #T_dbdef4ce_3f92_11ea_a64b_1063c89610e1row0_col1 {\n",
       "            background-color:  #f7fbff;\n",
       "        }    #T_dbdef4ce_3f92_11ea_a64b_1063c89610e1row0_col2 {\n",
       "            background-color:  #08306b;\n",
       "        }    #T_dbdef4ce_3f92_11ea_a64b_1063c89610e1row1_col0 {\n",
       "            background-color:  #549fcd;\n",
       "        }    #T_dbdef4ce_3f92_11ea_a64b_1063c89610e1row1_col1 {\n",
       "            background-color:  #e3eef9;\n",
       "        }    #T_dbdef4ce_3f92_11ea_a64b_1063c89610e1row1_col2 {\n",
       "            background-color:  #08306b;\n",
       "        }    #T_dbdef4ce_3f92_11ea_a64b_1063c89610e1row2_col0 {\n",
       "            background-color:  #8abfdd;\n",
       "        }    #T_dbdef4ce_3f92_11ea_a64b_1063c89610e1row2_col1 {\n",
       "            background-color:  #e3eef9;\n",
       "        }    #T_dbdef4ce_3f92_11ea_a64b_1063c89610e1row2_col2 {\n",
       "            background-color:  #08306b;\n",
       "        }    #T_dbdef4ce_3f92_11ea_a64b_1063c89610e1row3_col0 {\n",
       "            background-color:  #89bedc;\n",
       "        }    #T_dbdef4ce_3f92_11ea_a64b_1063c89610e1row3_col1 {\n",
       "            background-color:  #d8e7f5;\n",
       "        }    #T_dbdef4ce_3f92_11ea_a64b_1063c89610e1row3_col2 {\n",
       "            background-color:  #08306b;\n",
       "        }    #T_dbdef4ce_3f92_11ea_a64b_1063c89610e1row4_col0 {\n",
       "            background-color:  #a4cce3;\n",
       "        }    #T_dbdef4ce_3f92_11ea_a64b_1063c89610e1row4_col1 {\n",
       "            background-color:  #f5f9fe;\n",
       "        }    #T_dbdef4ce_3f92_11ea_a64b_1063c89610e1row4_col2 {\n",
       "            background-color:  #08306b;\n",
       "        }    #T_dbdef4ce_3f92_11ea_a64b_1063c89610e1row5_col0 {\n",
       "            background-color:  #74b3d8;\n",
       "        }    #T_dbdef4ce_3f92_11ea_a64b_1063c89610e1row5_col1 {\n",
       "            background-color:  #f4f9fe;\n",
       "        }    #T_dbdef4ce_3f92_11ea_a64b_1063c89610e1row5_col2 {\n",
       "            background-color:  #08306b;\n",
       "        }    #T_dbdef4ce_3f92_11ea_a64b_1063c89610e1row6_col0 {\n",
       "            background-color:  #cde0f1;\n",
       "        }    #T_dbdef4ce_3f92_11ea_a64b_1063c89610e1row6_col1 {\n",
       "            background-color:  #d9e7f5;\n",
       "        }    #T_dbdef4ce_3f92_11ea_a64b_1063c89610e1row6_col2 {\n",
       "            background-color:  #08306b;\n",
       "        }    #T_dbdef4ce_3f92_11ea_a64b_1063c89610e1row7_col0 {\n",
       "            background-color:  #95c5df;\n",
       "        }    #T_dbdef4ce_3f92_11ea_a64b_1063c89610e1row7_col1 {\n",
       "            background-color:  #d8e7f5;\n",
       "        }    #T_dbdef4ce_3f92_11ea_a64b_1063c89610e1row7_col2 {\n",
       "            background-color:  #08306b;\n",
       "        }    #T_dbdef4ce_3f92_11ea_a64b_1063c89610e1row8_col0 {\n",
       "            background-color:  #92c4de;\n",
       "        }    #T_dbdef4ce_3f92_11ea_a64b_1063c89610e1row8_col1 {\n",
       "            background-color:  #caddf0;\n",
       "        }    #T_dbdef4ce_3f92_11ea_a64b_1063c89610e1row8_col2 {\n",
       "            background-color:  #08306b;\n",
       "        }    #T_dbdef4ce_3f92_11ea_a64b_1063c89610e1row9_col0 {\n",
       "            background-color:  #5ca4d0;\n",
       "        }    #T_dbdef4ce_3f92_11ea_a64b_1063c89610e1row9_col1 {\n",
       "            background-color:  #d9e8f5;\n",
       "        }    #T_dbdef4ce_3f92_11ea_a64b_1063c89610e1row9_col2 {\n",
       "            background-color:  #08306b;\n",
       "        }    #T_dbdef4ce_3f92_11ea_a64b_1063c89610e1row10_col0 {\n",
       "            background-color:  #abd0e6;\n",
       "        }    #T_dbdef4ce_3f92_11ea_a64b_1063c89610e1row10_col1 {\n",
       "            background-color:  #08306b;\n",
       "        }    #T_dbdef4ce_3f92_11ea_a64b_1063c89610e1row10_col2 {\n",
       "            background-color:  #f7fbff;\n",
       "        }    #T_dbdef4ce_3f92_11ea_a64b_1063c89610e1row11_col0 {\n",
       "            background-color:  #c4daee;\n",
       "        }    #T_dbdef4ce_3f92_11ea_a64b_1063c89610e1row11_col1 {\n",
       "            background-color:  #f2f8fd;\n",
       "        }    #T_dbdef4ce_3f92_11ea_a64b_1063c89610e1row11_col2 {\n",
       "            background-color:  #f7fbff;\n",
       "        }    #T_dbdef4ce_3f92_11ea_a64b_1063c89610e1row12_col0 {\n",
       "            background-color:  #ddeaf7;\n",
       "        }    #T_dbdef4ce_3f92_11ea_a64b_1063c89610e1row12_col1 {\n",
       "            background-color:  #3686c0;\n",
       "        }    #T_dbdef4ce_3f92_11ea_a64b_1063c89610e1row12_col2 {\n",
       "            background-color:  #f7fbff;\n",
       "        }    #T_dbdef4ce_3f92_11ea_a64b_1063c89610e1row13_col0 {\n",
       "            background-color:  #a8cee4;\n",
       "        }    #T_dbdef4ce_3f92_11ea_a64b_1063c89610e1row13_col1 {\n",
       "            background-color:  #0a549e;\n",
       "        }    #T_dbdef4ce_3f92_11ea_a64b_1063c89610e1row13_col2 {\n",
       "            background-color:  #f7fbff;\n",
       "        }    #T_dbdef4ce_3f92_11ea_a64b_1063c89610e1row14_col0 {\n",
       "            background-color:  #f1f7fd;\n",
       "        }    #T_dbdef4ce_3f92_11ea_a64b_1063c89610e1row14_col1 {\n",
       "            background-color:  #3d8dc4;\n",
       "        }    #T_dbdef4ce_3f92_11ea_a64b_1063c89610e1row14_col2 {\n",
       "            background-color:  #f7fbff;\n",
       "        }    #T_dbdef4ce_3f92_11ea_a64b_1063c89610e1row15_col0 {\n",
       "            background-color:  #c9ddf0;\n",
       "        }    #T_dbdef4ce_3f92_11ea_a64b_1063c89610e1row15_col1 {\n",
       "            background-color:  #1c6ab0;\n",
       "        }    #T_dbdef4ce_3f92_11ea_a64b_1063c89610e1row15_col2 {\n",
       "            background-color:  #f7fbff;\n",
       "        }    #T_dbdef4ce_3f92_11ea_a64b_1063c89610e1row16_col0 {\n",
       "            background-color:  #b0d2e7;\n",
       "        }    #T_dbdef4ce_3f92_11ea_a64b_1063c89610e1row16_col1 {\n",
       "            background-color:  #2474b7;\n",
       "        }    #T_dbdef4ce_3f92_11ea_a64b_1063c89610e1row16_col2 {\n",
       "            background-color:  #f7fbff;\n",
       "        }    #T_dbdef4ce_3f92_11ea_a64b_1063c89610e1row17_col0 {\n",
       "            background-color:  #f7fbff;\n",
       "        }    #T_dbdef4ce_3f92_11ea_a64b_1063c89610e1row17_col1 {\n",
       "            background-color:  #9ac8e0;\n",
       "        }    #T_dbdef4ce_3f92_11ea_a64b_1063c89610e1row17_col2 {\n",
       "            background-color:  #f7fbff;\n",
       "        }    #T_dbdef4ce_3f92_11ea_a64b_1063c89610e1row18_col0 {\n",
       "            background-color:  #c1d9ed;\n",
       "        }    #T_dbdef4ce_3f92_11ea_a64b_1063c89610e1row18_col1 {\n",
       "            background-color:  #3686c0;\n",
       "        }    #T_dbdef4ce_3f92_11ea_a64b_1063c89610e1row18_col2 {\n",
       "            background-color:  #f7fbff;\n",
       "        }    #T_dbdef4ce_3f92_11ea_a64b_1063c89610e1row19_col0 {\n",
       "            background-color:  #cde0f1;\n",
       "        }    #T_dbdef4ce_3f92_11ea_a64b_1063c89610e1row19_col1 {\n",
       "            background-color:  #b7d4ea;\n",
       "        }    #T_dbdef4ce_3f92_11ea_a64b_1063c89610e1row19_col2 {\n",
       "            background-color:  #f7fbff;\n",
       "        }</style>  \n",
       "<table id=\"T_dbdef4ce_3f92_11ea_a64b_1063c89610e1\" > \n",
       "<thead>    <tr> \n",
       "        <th class=\"blank level0\" ></th> \n",
       "        <th class=\"col_heading level0 col0\" >redness</th> \n",
       "        <th class=\"col_heading level0 col1\" >elongation</th> \n",
       "        <th class=\"col_heading level0 col2\" >fruit</th> \n",
       "    </tr></thead> \n",
       "<tbody>    <tr> \n",
       "        <th id=\"T_dbdef4ce_3f92_11ea_a64b_1063c89610e1level0_row0\" class=\"row_heading level0 row0\" >0</th> \n",
       "        <td id=\"T_dbdef4ce_3f92_11ea_a64b_1063c89610e1row0_col0\" class=\"data row0 col0\" >84.0122</td> \n",
       "        <td id=\"T_dbdef4ce_3f92_11ea_a64b_1063c89610e1row0_col1\" class=\"data row0 col1\" >0.869565</td> \n",
       "        <td id=\"T_dbdef4ce_3f92_11ea_a64b_1063c89610e1row0_col2\" class=\"data row0 col2\" >1</td> \n",
       "    </tr>    <tr> \n",
       "        <th id=\"T_dbdef4ce_3f92_11ea_a64b_1063c89610e1level0_row1\" class=\"row_heading level0 row1\" >1</th> \n",
       "        <td id=\"T_dbdef4ce_3f92_11ea_a64b_1063c89610e1row1_col0\" class=\"data row1 col0\" >37.7764</td> \n",
       "        <td id=\"T_dbdef4ce_3f92_11ea_a64b_1063c89610e1row1_col1\" class=\"data row1 col1\" >1</td> \n",
       "        <td id=\"T_dbdef4ce_3f92_11ea_a64b_1063c89610e1row1_col2\" class=\"data row1 col2\" >1</td> \n",
       "    </tr>    <tr> \n",
       "        <th id=\"T_dbdef4ce_3f92_11ea_a64b_1063c89610e1level0_row2\" class=\"row_heading level0 row2\" >2</th> \n",
       "        <td id=\"T_dbdef4ce_3f92_11ea_a64b_1063c89610e1row2_col0\" class=\"data row2 col0\" >21.8604</td> \n",
       "        <td id=\"T_dbdef4ce_3f92_11ea_a64b_1063c89610e1row2_col1\" class=\"data row2 col1\" >1</td> \n",
       "        <td id=\"T_dbdef4ce_3f92_11ea_a64b_1063c89610e1row2_col2\" class=\"data row2 col2\" >1</td> \n",
       "    </tr>    <tr> \n",
       "        <th id=\"T_dbdef4ce_3f92_11ea_a64b_1063c89610e1level0_row3\" class=\"row_heading level0 row3\" >3</th> \n",
       "        <td id=\"T_dbdef4ce_3f92_11ea_a64b_1063c89610e1row3_col0\" class=\"data row3 col0\" >22.5586</td> \n",
       "        <td id=\"T_dbdef4ce_3f92_11ea_a64b_1063c89610e1row3_col1\" class=\"data row3 col1\" >1.07692</td> \n",
       "        <td id=\"T_dbdef4ce_3f92_11ea_a64b_1063c89610e1row3_col2\" class=\"data row3 col2\" >1</td> \n",
       "    </tr>    <tr> \n",
       "        <th id=\"T_dbdef4ce_3f92_11ea_a64b_1063c89610e1level0_row4\" class=\"row_heading level0 row4\" >4</th> \n",
       "        <td id=\"T_dbdef4ce_3f92_11ea_a64b_1063c89610e1row4_col0\" class=\"data row4 col0\" >14.9414</td> \n",
       "        <td id=\"T_dbdef4ce_3f92_11ea_a64b_1063c89610e1row4_col1\" class=\"data row4 col1\" >0.888889</td> \n",
       "        <td id=\"T_dbdef4ce_3f92_11ea_a64b_1063c89610e1row4_col2\" class=\"data row4 col2\" >1</td> \n",
       "    </tr>    <tr> \n",
       "        <th id=\"T_dbdef4ce_3f92_11ea_a64b_1063c89610e1level0_row5\" class=\"row_heading level0 row5\" >5</th> \n",
       "        <td id=\"T_dbdef4ce_3f92_11ea_a64b_1063c89610e1row5_col0\" class=\"data row5 col0\" >27.9932</td> \n",
       "        <td id=\"T_dbdef4ce_3f92_11ea_a64b_1063c89610e1row5_col1\" class=\"data row5 col1\" >0.894737</td> \n",
       "        <td id=\"T_dbdef4ce_3f92_11ea_a64b_1063c89610e1row5_col2\" class=\"data row5 col2\" >1</td> \n",
       "    </tr>    <tr> \n",
       "        <th id=\"T_dbdef4ce_3f92_11ea_a64b_1063c89610e1level0_row6\" class=\"row_heading level0 row6\" >6</th> \n",
       "        <td id=\"T_dbdef4ce_3f92_11ea_a64b_1063c89610e1row6_col0\" class=\"data row6 col0\" >-0.563965</td> \n",
       "        <td id=\"T_dbdef4ce_3f92_11ea_a64b_1063c89610e1row6_col1\" class=\"data row6 col1\" >1.07143</td> \n",
       "        <td id=\"T_dbdef4ce_3f92_11ea_a64b_1063c89610e1row6_col2\" class=\"data row6 col2\" >1</td> \n",
       "    </tr>    <tr> \n",
       "        <th id=\"T_dbdef4ce_3f92_11ea_a64b_1063c89610e1level0_row7\" class=\"row_heading level0 row7\" >7</th> \n",
       "        <td id=\"T_dbdef4ce_3f92_11ea_a64b_1063c89610e1row7_col0\" class=\"data row7 col0\" >18.9756</td> \n",
       "        <td id=\"T_dbdef4ce_3f92_11ea_a64b_1063c89610e1row7_col1\" class=\"data row7 col1\" >1.07692</td> \n",
       "        <td id=\"T_dbdef4ce_3f92_11ea_a64b_1063c89610e1row7_col2\" class=\"data row7 col2\" >1</td> \n",
       "    </tr>    <tr> \n",
       "        <th id=\"T_dbdef4ce_3f92_11ea_a64b_1063c89610e1level0_row8\" class=\"row_heading level0 row8\" >8</th> \n",
       "        <td id=\"T_dbdef4ce_3f92_11ea_a64b_1063c89610e1row8_col0\" class=\"data row8 col0\" >20.0259</td> \n",
       "        <td id=\"T_dbdef4ce_3f92_11ea_a64b_1063c89610e1row8_col1\" class=\"data row8 col1\" >1.17647</td> \n",
       "        <td id=\"T_dbdef4ce_3f92_11ea_a64b_1063c89610e1row8_col2\" class=\"data row8 col2\" >1</td> \n",
       "    </tr>    <tr> \n",
       "        <th id=\"T_dbdef4ce_3f92_11ea_a64b_1063c89610e1level0_row9\" class=\"row_heading level0 row9\" >9</th> \n",
       "        <td id=\"T_dbdef4ce_3f92_11ea_a64b_1063c89610e1row9_col0\" class=\"data row9 col0\" >35.0566</td> \n",
       "        <td id=\"T_dbdef4ce_3f92_11ea_a64b_1063c89610e1row9_col1\" class=\"data row9 col1\" >1.06667</td> \n",
       "        <td id=\"T_dbdef4ce_3f92_11ea_a64b_1063c89610e1row9_col2\" class=\"data row9 col2\" >1</td> \n",
       "    </tr>    <tr> \n",
       "        <th id=\"T_dbdef4ce_3f92_11ea_a64b_1063c89610e1level0_row10\" class=\"row_heading level0 row10\" >10</th> \n",
       "        <td id=\"T_dbdef4ce_3f92_11ea_a64b_1063c89610e1row10_col0\" class=\"data row10 col0\" >12.3291</td> \n",
       "        <td id=\"T_dbdef4ce_3f92_11ea_a64b_1063c89610e1row10_col1\" class=\"data row10 col1\" >2.18182</td> \n",
       "        <td id=\"T_dbdef4ce_3f92_11ea_a64b_1063c89610e1row10_col2\" class=\"data row10 col2\" >-1</td> \n",
       "    </tr>    <tr> \n",
       "        <th id=\"T_dbdef4ce_3f92_11ea_a64b_1063c89610e1level0_row11\" class=\"row_heading level0 row11\" >11</th> \n",
       "        <td id=\"T_dbdef4ce_3f92_11ea_a64b_1063c89610e1row11_col0\" class=\"data row11 col0\" >4.10889</td> \n",
       "        <td id=\"T_dbdef4ce_3f92_11ea_a64b_1063c89610e1row11_col1\" class=\"data row11 col1\" >0.904762</td> \n",
       "        <td id=\"T_dbdef4ce_3f92_11ea_a64b_1063c89610e1row11_col2\" class=\"data row11 col2\" >-1</td> \n",
       "    </tr>    <tr> \n",
       "        <th id=\"T_dbdef4ce_3f92_11ea_a64b_1063c89610e1level0_row12\" class=\"row_heading level0 row12\" >12</th> \n",
       "        <td id=\"T_dbdef4ce_3f92_11ea_a64b_1063c89610e1row12_col0\" class=\"data row12 col0\" >-9.48779</td> \n",
       "        <td id=\"T_dbdef4ce_3f92_11ea_a64b_1063c89610e1row12_col1\" class=\"data row12 col1\" >1.75</td> \n",
       "        <td id=\"T_dbdef4ce_3f92_11ea_a64b_1063c89610e1row12_col2\" class=\"data row12 col2\" >-1</td> \n",
       "    </tr>    <tr> \n",
       "        <th id=\"T_dbdef4ce_3f92_11ea_a64b_1063c89610e1level0_row13\" class=\"row_heading level0 row13\" >13</th> \n",
       "        <td id=\"T_dbdef4ce_3f92_11ea_a64b_1063c89610e1row13_col0\" class=\"data row13 col0\" >13.7573</td> \n",
       "        <td id=\"T_dbdef4ce_3f92_11ea_a64b_1063c89610e1row13_col1\" class=\"data row13 col1\" >2</td> \n",
       "        <td id=\"T_dbdef4ce_3f92_11ea_a64b_1063c89610e1row13_col2\" class=\"data row13 col2\" >-1</td> \n",
       "    </tr>    <tr> \n",
       "        <th id=\"T_dbdef4ce_3f92_11ea_a64b_1063c89610e1level0_row14\" class=\"row_heading level0 row14\" >14</th> \n",
       "        <td id=\"T_dbdef4ce_3f92_11ea_a64b_1063c89610e1row14_col0\" class=\"data row14 col0\" >-20.1221</td> \n",
       "        <td id=\"T_dbdef4ce_3f92_11ea_a64b_1063c89610e1row14_col1\" class=\"data row14 col1\" >1.71429</td> \n",
       "        <td id=\"T_dbdef4ce_3f92_11ea_a64b_1063c89610e1row14_col2\" class=\"data row14 col2\" >-1</td> \n",
       "    </tr>    <tr> \n",
       "        <th id=\"T_dbdef4ce_3f92_11ea_a64b_1063c89610e1level0_row15\" class=\"row_heading level0 row15\" >15</th> \n",
       "        <td id=\"T_dbdef4ce_3f92_11ea_a64b_1063c89610e1row15_col0\" class=\"data row15 col0\" >1.89258</td> \n",
       "        <td id=\"T_dbdef4ce_3f92_11ea_a64b_1063c89610e1row15_col1\" class=\"data row15 col1\" >1.88889</td> \n",
       "        <td id=\"T_dbdef4ce_3f92_11ea_a64b_1063c89610e1row15_col2\" class=\"data row15 col2\" >-1</td> \n",
       "    </tr>    <tr> \n",
       "        <th id=\"T_dbdef4ce_3f92_11ea_a64b_1063c89610e1level0_row16\" class=\"row_heading level0 row16\" >16</th> \n",
       "        <td id=\"T_dbdef4ce_3f92_11ea_a64b_1063c89610e1row16_col0\" class=\"data row16 col0\" >10.7578</td> \n",
       "        <td id=\"T_dbdef4ce_3f92_11ea_a64b_1063c89610e1row16_col1\" class=\"data row16 col1\" >1.83333</td> \n",
       "        <td id=\"T_dbdef4ce_3f92_11ea_a64b_1063c89610e1row16_col2\" class=\"data row16 col2\" >-1</td> \n",
       "    </tr>    <tr> \n",
       "        <th id=\"T_dbdef4ce_3f92_11ea_a64b_1063c89610e1level0_row17\" class=\"row_heading level0 row17\" >17</th> \n",
       "        <td id=\"T_dbdef4ce_3f92_11ea_a64b_1063c89610e1row17_col0\" class=\"data row17 col0\" >-23.5273</td> \n",
       "        <td id=\"T_dbdef4ce_3f92_11ea_a64b_1063c89610e1row17_col1\" class=\"data row17 col1\" >1.375</td> \n",
       "        <td id=\"T_dbdef4ce_3f92_11ea_a64b_1063c89610e1row17_col2\" class=\"data row17 col2\" >-1</td> \n",
       "    </tr>    <tr> \n",
       "        <th id=\"T_dbdef4ce_3f92_11ea_a64b_1063c89610e1level0_row18\" class=\"row_heading level0 row18\" >18</th> \n",
       "        <td id=\"T_dbdef4ce_3f92_11ea_a64b_1063c89610e1row18_col0\" class=\"data row18 col0\" >5.44922</td> \n",
       "        <td id=\"T_dbdef4ce_3f92_11ea_a64b_1063c89610e1row18_col1\" class=\"data row18 col1\" >1.75</td> \n",
       "        <td id=\"T_dbdef4ce_3f92_11ea_a64b_1063c89610e1row18_col2\" class=\"data row18 col2\" >-1</td> \n",
       "    </tr>    <tr> \n",
       "        <th id=\"T_dbdef4ce_3f92_11ea_a64b_1063c89610e1level0_row19\" class=\"row_heading level0 row19\" >19</th> \n",
       "        <td id=\"T_dbdef4ce_3f92_11ea_a64b_1063c89610e1row19_col0\" class=\"data row19 col0\" >-0.505859</td> \n",
       "        <td id=\"T_dbdef4ce_3f92_11ea_a64b_1063c89610e1row19_col1\" class=\"data row19 col1\" >1.26316</td> \n",
       "        <td id=\"T_dbdef4ce_3f92_11ea_a64b_1063c89610e1row19_col2\" class=\"data row19 col2\" >-1</td> \n",
       "    </tr></tbody> \n",
       "</table> "
      ],
      "text/plain": [
       "<pandas.io.formats.style.Styler at 0x7f3b7a15bf98>"
      ]
     },
     "execution_count": 31,
     "metadata": {},
     "output_type": "execute_result"
    }
   ],
   "source": [
    "import pandas as pd\n",
    "column_names = ['redness', 'elongation', 'fruit']\n",
    "_XY = pd.DataFrame(np.append(_X, Y, axis=1), columns=column_names)\n",
    "_XY.style.background_gradient(cmap='Blues')"
   ]
  },
  {
   "cell_type": "markdown",
   "metadata": {},
   "source": [
    "There is another way of making heatmaps that we showed you last time using Seaborn. Check the <a href=\"https://seaborn.pydata.org/generated/seaborn.heatmap.html\">searborn heatmap documentation</a> to figure out how to add annotations and change the color map.\n",
    "1. Try to make it look just like the one shown in class. \n",
    "2. Why are the colors in the second column so poorly contrated when you use seaborn heatmaps compared to the first method we showed to display Pandas dataframes as heatmaps?"
   ]
  },
  {
   "cell_type": "code",
   "execution_count": 32,
   "metadata": {},
   "outputs": [
    {
     "data": {
      "text/plain": [
       "<matplotlib.axes._subplots.AxesSubplot at 0x7f3b7a16f828>"
      ]
     },
     "execution_count": 32,
     "metadata": {},
     "output_type": "execute_result"
    },
    {
     "data": {
      "image/png": "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\n",
      "text/plain": [
       "<matplotlib.figure.Figure at 0x7f3b7a0dceb8>"
      ]
     },
     "metadata": {},
     "output_type": "display_data"
    }
   ],
   "source": [
    "import seaborn as sns; sns.set()\n",
    "fig = plt.figure(figsize=(5,10))\n",
    "# Put your code here the create a seaborn heat map \n",
    "# looking like the one shown in class\n",
    "sns.heatmap(_XY)"
   ]
  },
  {
   "cell_type": "markdown",
   "metadata": {},
   "source": [
    "### Question 6: Feature standardization\n",
    "For better rendering and improved results, the features are often standardized. This means that for each column, we subtract the mean and divide by the standard deviation (except for the target).\n",
    "\n",
    "From the previous TP, do you remember some of the Pandas useful functions like `describe`? This allows you to quickly get statistics about your dataset. You can also use `mean` and `std`. Provide the mean and standard deviation of the features before and after standardization. Observe the effect of standardization on the heat map."
   ]
  },
  {
   "cell_type": "code",
   "execution_count": 33,
   "metadata": {},
   "outputs": [
    {
     "name": "stdout",
     "output_type": "stream",
     "text": [
      "** BEFORE **\n",
      "redness: mean=10.00, std=10.00\n",
      "elongation: mean=10.00, std=10.00\n",
      "** AFTER **\n",
      "redness: mean=10.00, std=10.00\n",
      "elongation: mean=10.00, std=10.00\n"
     ]
    },
    {
     "data": {
      "text/html": [
       "<div style=\"background:#FF0000\">BOOOOH<br>:-(</div>"
      ],
      "text/plain": [
       "<IPython.core.display.HTML object>"
      ]
     },
     "metadata": {},
     "output_type": "display_data"
    },
    {
     "data": {
      "image/png": "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\n",
      "text/plain": [
       "<matplotlib.figure.Figure at 0x7f3b7a146e80>"
      ]
     },
     "metadata": {},
     "output_type": "display_data"
    }
   ],
   "source": [
    "question = 6\n",
    "\n",
    "# The library scikit-learn (sklearn) provides you code to standardize\n",
    "from sklearn.preprocessing import StandardScaler\n",
    "scaler = StandardScaler() \n",
    "X = scaler.fit_transform(_X)\n",
    "XY = pd.DataFrame(np.append(X, Y, axis=1), columns=['redness', 'elongation', 'fruit'])\n",
    "\n",
    "# Change this code to make this heatmap look like the one in class\n",
    "fig = plt.figure(figsize=(5,10))\n",
    "sns.heatmap(XY)\n",
    "\n",
    "# Put your answers to question 6 here\n",
    "redness_mean_before, elongation_mean_before = 10, 10\n",
    "redness_std_before, elongation_std_before = 10, 10\n",
    "redness_mean_after, elongation_mean_after = 10, 10\n",
    "redness_std_after, elongation_std_after = 10, 10\n",
    "\n",
    "print(\"** BEFORE **\")\n",
    "print(\"redness: mean={0:5.2f}, std={1:5.2f}\".format(redness_mean_before, redness_std_before))\n",
    "print(\"elongation: mean={0:5.2f}, std={1:5.2f}\".format(elongation_mean_before, elongation_std_before))\n",
    "print(\"** AFTER **\")\n",
    "print(\"redness: mean={0:5.2f}, std={1:5.2f}\".format(redness_mean_after, redness_std_after))\n",
    "print(\"elongation: mean={0:5.2f}, std={1:5.2f}\".format(elongation_mean_after, elongation_std_after))\n",
    "\n",
    "# This is the checker code for question 6, keep it\n",
    "answer = redness_mean_before+elongation_mean_before+redness_std_before+elongation_std_before\n",
    "answer = answer - (redness_mean_after+elongation_mean_after+redness_std_after+elongation_std_after)\n",
    "score += check(answer, question)"
   ]
  },
  {
   "cell_type": "markdown",
   "metadata": {},
   "source": [
    "### Pairplots\n",
    "Last time we also visualized data as pairplot, here is the pairplot of this dataset."
   ]
  },
  {
   "cell_type": "code",
   "execution_count": 34,
   "metadata": {},
   "outputs": [
    {
     "data": {
      "image/png": "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\n",
      "text/plain": [
       "<matplotlib.figure.Figure at 0x7f3b797d3fd0>"
      ]
     },
     "metadata": {},
     "output_type": "display_data"
    }
   ],
   "source": [
    "sns.pairplot(XY, vars=['redness', 'elongation'], hue='fruit', markers=[\"s\", \"o\"])\n",
    "plt.show()"
   ]
  },
  {
   "cell_type": "markdown",
   "metadata": {},
   "source": [
    "### Correlation matrix"
   ]
  },
  {
   "cell_type": "code",
   "execution_count": 35,
   "metadata": {},
   "outputs": [
    {
     "data": {
      "image/png": "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\n",
      "text/plain": [
       "<matplotlib.figure.Figure at 0x7f3b7946ad68>"
      ]
     },
     "metadata": {},
     "output_type": "display_data"
    }
   ],
   "source": [
    "corr_mat = XY.corr(method='pearson')\n",
    "sns.heatmap(abs(corr_mat), annot=True, center=0)\n",
    "plt.show()"
   ]
  },
  {
   "cell_type": "markdown",
   "metadata": {},
   "source": [
    "### Question 7: Feature selection\n",
    "Based on the pair plots and the correlation matrix:\n",
    "    - Which feature separates best the two fruit categories? \n",
    "    - Are the two features correlated or anti-correlated?"
   ]
  },
  {
   "cell_type": "code",
<<<<<<< HEAD
   "execution_count": 36,
=======
   "execution_count": 15,
>>>>>>> 258fd7d00c5287cf4713a1cb27f124e7bd0af5f4
   "metadata": {},
   "outputs": [
    {
     "data": {
      "text/html": [
       "<div style=\"background:#FF0000\">BOOOOH<br>:-(</div>"
      ],
      "text/plain": [
       "<IPython.core.display.HTML object>"
      ]
     },
     "metadata": {},
     "output_type": "display_data"
    }
   ],
   "source": [
    "question = 7\n",
    "\n",
    "number_of_best_feature = -1      # 0 for redness and 1 for elongation\n",
    "correlation_between_features = 0 # 1 for correlated and -1 for anti-correlated\n",
    "\n",
    "# This is the checker code for question 7, keep it\n",
    "answer = (1+ number_of_best_feature) * correlation_between_features\n",
    "score += check(answer, question)"
   ]
  },
  {
   "cell_type": "markdown",
   "metadata": {},
   "source": [
    "Note: For simplicity and because the dataset is tiny, we showed the feature standardization and feature selection steps on the whole dataset. However, those steps should normally be performed on training data first and then applied to test data."
   ]
  },
  {
   "cell_type": "markdown",
   "metadata": {},
   "source": [
    "<div style=\"background:#FFFFAA\"> <h1> Step 2: Metric definition </h1></div>"
   ]
  },
  {
   "cell_type": "markdown",
   "metadata": {},
   "source": [
    "### Question 8: Error rate and accuracy score\n",
    "\n",
    "1. Write a function that implements the error rate metric. Follow this template:\n",
    "\n",
    "```python\n",
    "def error_rate(solution, prediction):\n",
    "# Put your code here.\n",
    "return e\n",
    "```\n",
    "    \n",
    "2. Then write unit tests using the function `assert` that :\n",
    "    1. check that the error rate between `solution=Y` and `prediction=Y` is zero, \n",
    "    2. that between `solution=Y` and `prediction=np.zeros(Y.shape)` is one \n",
    "    3. and the between `solution=Y` and `prediction=np.ones(Y.shape)` is 0.5."
   ]
  },
  {
   "cell_type": "code",
   "execution_count": 16,
   "metadata": {},
   "outputs": [
    {
     "data": {
      "text/html": [
       "<div style=\"background:#FF0000\">BOOOOH<br>:-(</div>"
      ],
      "text/plain": [
       "<IPython.core.display.HTML object>"
      ]
     },
     "metadata": {},
     "output_type": "display_data"
    }
   ],
   "source": [
    "### Answer to question 8\n",
    "question = 8\n",
    "\n",
    "def error_rate(solution, prediction):\n",
    "    '''Compute the error rate between two vectors.'''\n",
    "    e = 0\n",
    "    return e\n",
    "\n",
    "# This is the checker code for question 8, keep it\n",
    "answer = error_rate(Y, Y) + error_rate(Y, np.zeros(Y.shape)) + error_rate(Y, np.ones(Y.shape))\n",
    "score += check(answer, question)"
   ]
  },
  {
   "cell_type": "markdown",
   "metadata": {},
   "source": [
    "The library `scikit_learn` also called `sklearn` has a function `accuracy_score` = `1-error_rate`. You can verify below that we get the same results on the unit tests proposed above. There are many <a href=\"https://scikit-learn.org/stable/modules/model_evaluation.html\">sklearn metrics</a>, we invite you to check them out."
   ]
  },
  {
   "cell_type": "code",
   "execution_count": 17,
   "metadata": {},
   "outputs": [],
   "source": [
    "from sklearn.metrics import accuracy_score\n",
    "#assert(error_rate(Y, Y) == 1-accuracy_score(Y, Y))\n",
    "#assert(error_rate(Y, np.zeros(Y.shape)) == 1-accuracy_score(Y, np.zeros(Y.shape)))\n",
    "#assert(error_rate(Y, np.ones(Y.shape)) == 1-accuracy_score(Y, np.ones(Y.shape)))"
   ]
  },
  {
   "cell_type": "markdown",
   "metadata": {},
   "source": [
    "### Question 9: The metric of your challenge\n",
    "The challenge you have chosen uses a particular metric. The metrics were chosen among: \"balanced_accuracy\", \"balanced_error_rate\", \"auc_metric\", \"f1_score\", \"mean_absolute_error\", and \"r2_metric\". Two important metrics to understand are the AUC (area under <a href=\"https://en.wikipedia.org/wiki/Receiver_operating_characteristic\">ROC curve</a> and the \"r2-metric\" or <a href=\"https://en.wikipedia.org/wiki/Coefficient_of_determination\">coefficient of determination</a>.\n",
    "\n",
    "Click on the <a href=\"http://saclay.chalearn.org/\">websites of this year challenges</a> and go to the \"Evaluation\" tab. Find what the metrics are. Learn about the metric of your own challenge."
   ]
  },
  {
   "cell_type": "code",
   "execution_count": 18,
   "metadata": {},
   "outputs": [
    {
     "data": {
      "text/html": [
       "<div style=\"background:#FF0000\">BOOOOH<br>:-(</div>"
      ],
      "text/plain": [
       "<IPython.core.display.HTML object>"
      ]
     },
     "metadata": {},
     "output_type": "display_data"
    }
   ],
   "source": [
    "### Answer to question 9\n",
    "question = 9\n",
    "\n",
    "gaiasavers_metric = \" \"\n",
    "xporters_metric = \" \"\n",
    "medichal_metric = \" \"\n",
    "\n",
    "# This is the checker code for question 9, keep it\n",
    "my_string = gaiasavers_metric+xporters_metric+medichal_metric\n",
    "answer = int.from_bytes(my_string.encode('utf-8'), \"little\")  \n",
    "\n",
    "score += check(answer, question)"
   ]
  },
  {
   "cell_type": "markdown",
   "metadata": {},
   "source": [
    "<div style=\"background:#FFFFAA\"> <h1> Step 3: Baseline results </h1></div>\n",
    "<p>\n",
    "We are now equipped to try some basic machine learning method to predict what fruit is shown on an image, based on \"redness\" and \"elongation\". We will again use `scikit-learn`. We will split the data into a training set and a test set and see how well we do with the nearest neighbor method. </p>"
   ]
  },
  {
   "cell_type": "code",
   "execution_count": 19,
   "metadata": {},
   "outputs": [
    {
     "name": "stdout",
     "output_type": "stream",
     "text": [
      "TRAIN: [14 19  2 11  3 18 12  5  9  1] TEST: [ 0 17  4 13  6  8  7 16 10 15]\n"
     ]
    }
   ],
   "source": [
    "# Make one training-test split in a stratified manner. \n",
    "# \"Stratified\" means that we preserve the proportion of examples\n",
    "# of apples and bananas in the training and the test set.\n",
    "from sklearn.model_selection import StratifiedShuffleSplit\n",
    "\n",
    "SSS = StratifiedShuffleSplit(n_splits=1, test_size=0.5, random_state=0)\n",
    "for train_index, test_index in SSS.split(X, Y):\n",
    "    print(\"TRAIN:\", train_index, \"TEST:\", test_index)\n",
    "    Xtrain, Xtest = X[train_index], X[test_index]\n",
    "    Ytrain, Ytest = Y[train_index], Y[test_index]"
   ]
  },
  {
   "cell_type": "code",
   "execution_count": 20,
   "metadata": {},
   "outputs": [
    {
     "data": {
      "image/png": "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\n",
      "text/plain": [
       "<Figure size 720x144 with 20 Axes>"
      ]
     },
     "metadata": {},
     "output_type": "display_data"
    }
   ],
   "source": [
    "# Show the training set (first line) and the test set (second line)\n",
    "columns = 10\n",
    "rows = len(a_files+b_files)/columns\n",
    "fig = plt.figure(figsize=(columns, rows))\n",
    "F = np.array(a_files + b_files)\n",
    "for k, filename in enumerate(np.concatenate((F[train_index],F[test_index])), start=1):\n",
    "    img = get_image(filename)\n",
    "    fig.add_subplot(rows, columns, k)\n",
    "    plt.imshow(img) \n",
    "    plt.tick_params(axis='both', labelsize=0, length = 0)\n",
    "    plt.grid(b=False)\n"
   ]
  },
  {
   "cell_type": "code",
   "execution_count": 21,
   "metadata": {},
   "outputs": [
    {
     "data": {
      "image/png": "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\n",
      "text/plain": [
       "<Figure size 360x360 with 4 Axes>"
      ]
     },
     "metadata": {},
     "output_type": "display_data"
    }
   ],
   "source": [
    "# Plot training and test data as heat maps:\n",
    "# (We show the whole code for inspiration...)\n",
    "XY_train = pd.DataFrame(np.append(Xtrain, Ytrain, axis=1), columns=['redness', 'elongation', 'fruit'])\n",
    "XY_test = pd.DataFrame(np.append(Xtest, Ytest, axis=1), columns=['redness', 'elongation', 'fruit'])\n",
    "\n",
    "fig =  plt.figure(figsize=(5,5))\n",
    "fig.subplots_adjust(wspace=1)\n",
    "ax_train = fig.add_subplot(1, 2, 1)\n",
    "sns.heatmap(XY_train, annot=True, fmt='.1f', cmap='RdYlGn')\n",
    "ax_train.title.set_text('Training')\n",
    "\n",
    "ax_test = fig.add_subplot(1, 2, 2)\n",
    "sns.heatmap(XY_test, annot=True, fmt='.1f', cmap='RdYlGn')\n",
    "ax_test.title.set_text('Test')"
   ]
  },
  {
   "cell_type": "code",
   "execution_count": 22,
   "metadata": {},
   "outputs": [
    {
     "data": {
      "image/png": "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\n",
      "text/plain": [
       "<Figure size 432x288 with 1 Axes>"
      ]
     },
     "metadata": {},
     "output_type": "display_data"
    }
   ],
   "source": [
    "# Our own kind of scatter plot...\n",
    "from utilities import make_scatter_plot\n",
    "\n",
    "# Check that this is the same as what we get with pair plots.\n",
    "make_scatter_plot(X, F, train_index, test_index)"
   ]
  },
  {
   "cell_type": "markdown",
   "metadata": {},
   "source": [
    "### Question 10: One nearest neighbor\n",
    "The 1-nearest neighbor classifier is a nice and simple method. Luckily it is implemented in `scikit-learn`. You may also want to implement it yourself as part of your project."
   ]
  },
  {
   "cell_type": "markdown",
   "metadata": {},
   "source": [
    "1. Import the `KNeighborsClassifier` classifier from `scikit-learn`. \n",
    "2. Instanciate a classifier of that class and set the number of neighbors to one. \n",
    "3. Train a model with `Xtrain` by calling the method `fit`. \n",
    "4.  Then use the trained model to create two vectors of prediction `Ytrain_predicted` and `Ytest_predicted` by calling the method `predict`. \n",
    "5. Compute `e_tr`, the training error rate, and `e_tr` the test error rate.\n",
    "\n",
    "**WARNING:** `scikit-learn` uses lists for prediction labels instead of column vectors. You will have to replace `Ytrain` by `Ytrain.ravel()` and `Ytest` by `Ytest.ravel()` to avoid an error message and wrong error rates."
   ]
  },
  {
   "cell_type": "code",
   "execution_count": 23,
   "metadata": {},
   "outputs": [
    {
     "name": "stdout",
     "output_type": "stream",
     "text": [
      "0.5 0.5\n"
     ]
    },
    {
     "data": {
      "text/html": [
       "<div style=\"background:#FF0000\">BOOOOH<br>:-(</div>"
      ],
      "text/plain": [
       "<IPython.core.display.HTML object>"
      ]
     },
     "metadata": {},
     "output_type": "display_data"
    }
   ],
   "source": [
    "### Answer to question 10\n",
    "question = 10\n",
    "\n",
    "### Put your code here\n",
    "Ytrain_predicted = np.ones(Ytrain.shape).ravel()\n",
    "Ytest_predicted = np.ones(Ytest.shape).ravel()\n",
    "e_tr = 0.5\n",
    "e_te = 0.5\n",
    "\n",
    "# This is the checker code for question 10, keep it\n",
    "print(e_tr, e_te)\n",
    "answer = e_tr + e_te\n",
    "score += check(answer, question)"
   ]
  },
  {
   "cell_type": "markdown",
   "metadata": {},
   "source": [
    "### Confusion matrix\n",
    "We can also extract the variables `tn`, `fp`, `fn`, `tp` (true negative, false positive, false negative, and true positive) using the `confusion_matrix` function of `scikit_learn`, for test data predictions. With these values, you can calculate the balanced error rate (`BER`) using the formula seen in class and verify that it gives the same result as `1-balanced_accuracy`.\n",
    "\n",
    "We also provide in `utilities.py` the function `plot_confusion_matrix`, which is in the latest version of scikit-learn (not necessarily in the one you have)."
   ]
  },
  {
   "cell_type": "code",
   "execution_count": 24,
   "metadata": {},
   "outputs": [
    {
     "name": "stdout",
     "output_type": "stream",
     "text": [
      "TP=0, FP=5, FN=0, TP=5\n",
      "Balanced error rate as 0.5*(fp/(tn+fp)+fn/(tp+fn))= 0.5\n",
      "Balanced error rate as 1-balanced_accuracy = 0.5\n",
      "Confusion matrix, without normalization\n",
      "[[0 5]\n",
      " [0 5]]\n"
     ]
    },
    {
     "data": {
      "image/png": "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\n",
      "text/plain": [
       "<Figure size 432x288 with 2 Axes>"
      ]
     },
     "metadata": {},
     "output_type": "display_data"
    },
    {
     "name": "stdout",
     "output_type": "stream",
     "text": [
      "Normalized confusion matrix\n",
      "[[0. 1.]\n",
      " [0. 1.]]\n"
     ]
    },
    {
     "data": {
      "image/png": "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\n",
      "text/plain": [
       "<Figure size 432x288 with 2 Axes>"
      ]
     },
     "metadata": {},
     "output_type": "display_data"
    }
   ],
   "source": [
    "from sklearn.metrics import confusion_matrix\n",
    "from utilities import plot_confusion_matrix\n",
    "\n",
    "tn, fp, fn, tp = confusion_matrix(Ytest.ravel(), Ytest_predicted).ravel()\n",
    "print(\"TP={}, FP={}, FN={}, TP={}\".format(tn, fp, fn, tp))\n",
    "print(\"Balanced error rate as 0.5*(fp/(tn+fp)+fn/(tp+fn))= {}\".format(0.5*(fp/(tn+fp)+fn/(tp+fn))))\n",
    "print(\"Balanced error rate as 1-balanced_accuracy = {}\".format(1-accuracy_score(Ytest.ravel(), Ytest_predicted)))\n",
    "\n",
    "class_names = np.array([\"apple\", \"banana\"])\n",
    "# Plot non-normalized confusion matrix\n",
    "plot_confusion_matrix(Ytest.ravel(), Ytest_predicted, classes=class_names,\n",
    "                      title='Confusion matrix, without normalization')\n",
    "plt.show()\n",
    "\n",
    "# Plot normalized confusion matrix\n",
    "plot_confusion_matrix(Ytest.ravel(), Ytest_predicted, classes=class_names, normalize=True,\n",
    "                      title='Normalized confusion matrix')\n",
    "plt.show()\n"
   ]
  },
  {
   "cell_type": "markdown",
   "metadata": {},
   "source": [
    "### Let's overlay the predictions on the scatter plot ..."
   ]
  },
  {
   "cell_type": "code",
   "execution_count": 25,
   "metadata": {},
   "outputs": [
    {
     "data": {
      "image/png": "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\n",
      "text/plain": [
       "<Figure size 432x288 with 1 Axes>"
      ]
     },
     "metadata": {},
     "output_type": "display_data"
    }
   ],
   "source": [
    "make_scatter_plot(X, F, train_index, test_index, predicted_labels=Ytest_predicted)"
   ]
  },
  {
   "cell_type": "markdown",
   "metadata": {},
   "source": [
    "### ... then show the \"ground truth\"\n",
    "We see that there is one apple that was classified as a banana (i.e. one \"false negative\" since the banana class is the \"negative\" class."
   ]
  },
  {
   "cell_type": "code",
   "execution_count": 26,
   "metadata": {},
   "outputs": [
    {
     "data": {
      "image/png": "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\n",
      "text/plain": [
       "<Figure size 432x288 with 1 Axes>"
      ]
     },
     "metadata": {},
     "output_type": "display_data"
    }
   ],
   "source": [
    "make_scatter_plot(X, F, train_index, test_index, predicted_labels='GroundTruth')"
   ]
  },
  {
   "cell_type": "markdown",
   "metadata": {},
   "source": [
    "<div style=\"background:#FFFFAA\"> <h1> Step 4: Error bar </h1></div>\n",
    "<p>\n",
    "    To compute the error bar we repeat multiple times the train/test split and compute the mean and standard deviation of the test error. This takes into account both the variability of the training set and that of the test set. But is is known to be a biased estimator of the error variability because there is a large overlap between the training sets and the test sets in each split. However, it is pretty much the best we can do to compute error bars.\n",
    "    </p>"
   ]
  },
  {
   "cell_type": "code",
   "execution_count": 27,
   "metadata": {},
   "outputs": [
    {
     "name": "stdout",
     "output_type": "stream",
     "text": [
      "TRAIN: [19 14  6  3  8 12  2  5 17 15] TEST: [ 9 13 16  4  7  1 11 18 10  0]\n",
      "TEST ERROR RATE: 0\n",
      "TRAIN: [10 16  2 11 15  3  1  6 17  0] TEST: [14 13  7 12 18  9  5  4  8 19]\n",
      "TEST ERROR RATE: 0\n",
      "TRAIN: [ 4 11  5 19 12 15  9 13  8  1] TEST: [ 3 17 14  2  7 18  6 16 10  0]\n",
      "TEST ERROR RATE: 0\n",
      "TRAIN: [10 13 15  6  5 17  0 16  9  7] TEST: [11  3  8 14 18 19  1 12  2  4]\n",
      "TEST ERROR RATE: 0\n",
      "TRAIN: [19  6  5 13 14  4  8 11  0 12] TEST: [ 7 17 15 10  3 18 16  2  1  9]\n",
      "TEST ERROR RATE: 0\n",
      "TRAIN: [ 4  6 12  8  0 10 18  7 13 19] TEST: [ 1 16  3  2 14 15  5 17 11  9]\n",
      "TEST ERROR RATE: 0\n",
      "TRAIN: [10 18 12  6  7 13  8  4 14  9] TEST: [17  0 11 19  5 15  1 16  3  2]\n",
      "TEST ERROR RATE: 0\n",
      "TRAIN: [ 3 10  7 15  2 16  8 18  6 13] TEST: [ 9  5 19 11 14 17 12  1  4  0]\n",
      "TEST ERROR RATE: 0\n",
      "TRAIN: [ 3  7  8 14  1 16 15 10 12  4] TEST: [ 9 11  2 17 13 19 18  5  6  0]\n",
      "TEST ERROR RATE: 0\n",
      "TRAIN: [18 10  4  8 17  7 12 13  2  9] TEST: [ 1  0 11 14 15  5 19  6 16  3]\n",
      "TEST ERROR RATE: 0\n",
      "\n",
      "\n",
      "MEAN ERROR RATE = 0.00\n",
      "STANDARD DEVIATION = 0.00\n"
     ]
    }
   ],
   "source": [
    "from sklearn.neighbors import KNeighborsClassifier\n",
    "\n",
    "neigh = KNeighborsClassifier(n_neighbors=1)\n",
    "n = 10\n",
    "SSS = StratifiedShuffleSplit(n_splits=n, test_size=0.5, random_state=5)\n",
    "E = np.zeros([n,1])\n",
    "k = 0\n",
    "for train_index, test_index in SSS.split(X, Y):\n",
    "    print(\"TRAIN:\", train_index, \"TEST:\", test_index)\n",
    "    Xtrain, Xtest = X[train_index], X[test_index]\n",
    "    Ytrain, Ytest = Y[train_index], Y[test_index]\n",
    "    neigh.fit(Xtrain, Ytrain.ravel()) \n",
    "    Ytrain_predicted = neigh.predict(Xtrain)\n",
    "    Ytest_predicted = neigh.predict(Xtest)\n",
    "    e_te = error_rate(Ytest.ravel(), Ytest_predicted)\n",
    "    print(\"TEST ERROR RATE:\", e_te)\n",
    "    E[k] = e_te\n",
    "    k = k+1\n",
    "    \n",
    "e_te_ave = np.mean(E)\n",
    "print(\"\\n\\nMEAN ERROR RATE ={0:5.2f}\".format(e_te_ave))\n",
    "print(\"STANDARD DEVIATION ={0:5.2f}\".format(np.std(E)))"
   ]
  },
  {
   "cell_type": "code",
   "execution_count": 38,
   "metadata": {},
   "outputs": [
    {
     "name": "stdout",
     "output_type": "stream",
     "text": [
      "Your final score is 7 / 10, congratulations!\n"
     ]
    }
   ],
   "source": [
    "print('Your final score is %d / 10, congratulations!' % score)"
   ]
  },
  {
   "cell_type": "markdown",
   "metadata": {},
   "source": [
    "<div style=\"background:#FFFFAA\">\n",
    "<span style=\"color:red\">\n",
    "<br>\n",
    "    To finalize your homework:\n",
    "<b>\n",
    "<ul>\n",
    "    <li> Use  Kernel + Restart and Run all.</li>\n",
    "    <li> Save your notebook.</li>\n",
    "    <li> Push your changes to your GitHub repo with:</li>\n",
    "</ul>   \n",
    "</b>\n",
    "<pre>\n",
    "git add .\n",
    "git commit -m 'my homework is done'\n",
    "git push\n",
    "</pre>\n",
    "<br>\n",
    "</span>\n",
    "</div>"
   ]
  },
  {
   "cell_type": "code",
   "execution_count": null,
   "metadata": {},
   "outputs": [],
   "source": []
  }
 ],
 "metadata": {
  "kernelspec": {
   "display_name": "Python 3",
   "language": "python",
   "name": "python3"
  },
  "language_info": {
   "codemirror_mode": {
    "name": "ipython",
    "version": 3
   },
   "file_extension": ".py",
   "mimetype": "text/x-python",
   "name": "python",
   "nbconvert_exporter": "python",
   "pygments_lexer": "ipython3",
<<<<<<< HEAD
   "version": "3.6.8"
=======
   "version": "3.7.4"
>>>>>>> 258fd7d00c5287cf4713a1cb27f124e7bd0af5f4
  },
  "toc": {
   "nav_menu": {},
   "number_sections": false,
   "sideBar": true,
   "skip_h1_title": false,
   "toc_cell": false,
   "toc_position": {},
   "toc_section_display": "block",
   "toc_window_display": true
  }
 },
 "nbformat": 4,
 "nbformat_minor": 2
}
